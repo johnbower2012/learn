{
 "cells": [
  {
   "cell_type": "markdown",
   "metadata": {},
   "source": [
    "# ANN\n",
    "\n",
    "Here I've coded an artificial neural network with an arbitrary number of layers. The ANN is encoded in a class, and is fed a dictionary of your choices for activation functions and loss functions, as well as a list of the neurons in each layer, for example a two layer network with 100 and 50, respectively, is fed as [100,50].\n",
    "\n",
    "Then, the easiest way to search for effective parameters sets is to use RunOne or RunTwo. RunOne will train a one layer NN across the list of options you feed it, then test its accuracy. For example, [10,20,30] will train with 10 neurons, 20 neurons, 30 neurons, and spit out the accuracy for each. Similarly, RunTwo trains in a list of two lists, the first for the number of neurons in the first layer and the second for the second layer. It will train across all combinations and sit out a matrix of accuracies.\n",
    "\n",
    "Then, once you've identified a good parameter set, use the solitary Train function grouped with RunOne and RunTwo in order to train one a specific parameter set. "
   ]
  },
  {
   "cell_type": "markdown",
   "metadata": {},
   "source": [
    "## Load Data Functions"
   ]
  },
  {
   "cell_type": "code",
   "execution_count": 1,
   "metadata": {},
   "outputs": [],
   "source": [
    "import numpy as np\n",
    "import pandas as pd\n",
    "import matplotlib.pyplot as plt \n",
    "%matplotlib inline \n",
    "\n",
    "def read_dataset(feature_file, label_file):\n",
    "    ''' Read data set in *.csv to data frame in Pandas'''\n",
    "    df_X = pd.read_csv(feature_file)\n",
    "    df_y = pd.read_csv(label_file)\n",
    "    X = df_X.values # convert values in dataframe to numpy array (features)\n",
    "    y = df_y.values # convert values in dataframe to numpy array (label)\n",
    "    return X, y\n",
    "\n",
    "\n",
    "def normalize_features(X_train, X_test):\n",
    "    from sklearn.preprocessing import StandardScaler #import libaray\n",
    "    scaler = StandardScaler() # call an object function\n",
    "    scaler.fit(X_train) # calculate mean, std in X_train\n",
    "    X_train_norm = scaler.transform(X_train) # apply normalization on X_train\n",
    "    X_test_norm = scaler.transform(X_test) # we use the same normalization on X_test\n",
    "    return X_train_norm, X_test_norm\n",
    "\n",
    "\n",
    "def one_hot_encoder(y_train, y_test):\n",
    "    ''' convert label to a vector under one-hot-code fashion '''\n",
    "    from sklearn import preprocessing\n",
    "    lb = preprocessing.LabelBinarizer()\n",
    "    lb.fit(y_train)\n",
    "    y_train_ohe = lb.transform(y_train)\n",
    "    y_test_ohe = lb.transform(y_test)\n",
    "    return y_train_ohe, y_test_ohe"
   ]
  },
  {
   "cell_type": "markdown",
   "metadata": {},
   "source": [
    "## NN Class"
   ]
  },
  {
   "cell_type": "code",
   "execution_count": 2,
   "metadata": {
    "scrolled": false
   },
   "outputs": [],
   "source": [
    "class varlayer_NN:\n",
    "    def __init__(self, X, y, DACT, DLOSS, hidden_layer=[100], lr=0.01):\n",
    "        self.X = X # features\n",
    "        self.y = y # labels (targets) in one-hot-encoder\n",
    "        self.activation = DACT['F']\n",
    "        self.derivative = DACT['D']\n",
    "        self.lossfunction = DLOSS['F']\n",
    "        self.lossderivative = DLOSS['D']\n",
    "        self.regularization_parameter = DLOSS['RP']\n",
    "        self.hidden_layer = hidden_layer # number of neuron in the hidden layer\n",
    "        # In this example, we only consider 1 hidden layer\n",
    "        self.lr = lr # learning rate\n",
    "        # Initialize weights\n",
    "        self.in_nn = X.shape[1] # number of neurons in the inpute layer              \n",
    "        self.out_nn = y.shape[1]\n",
    "        \n",
    "        self.W = []\n",
    "        self.b = []\n",
    "        self.W.append(np.random.randn(self.in_nn,self.hidden_layer[0])/np.sqrt(self.in_nn))\n",
    "        self.b.append(np.zeros((1,self.hidden_layer[0])))\n",
    "        for i in range(0,len(self.hidden_layer)-1):\n",
    "            self.W.append(np.random.randn(self.hidden_layer[i],self.hidden_layer[i+1])/np.sqrt(self.hidden_layer[i]))\n",
    "            self.b.append(np.zeros((1,self.hidden_layer[i+1])))\n",
    "\n",
    "        self.W.append(np.random.randn(self.hidden_layer[-1],self.out_nn)/np.sqrt(self.hidden_layer[-1]))\n",
    "        self.b.append(np.zeros((1,self.out_nn)))\n",
    "        self.C = [self.W,self.b]\n",
    "        \n",
    "    def feed_forward(self):\n",
    "        # hidden layer\n",
    "        self.z = []\n",
    "        self.f = []\n",
    "        ## z_1 = xW_1 + b_1\n",
    "        self.z.append(np.dot(self.X, self.W[0]) + self.b[0])\n",
    "        ## activation function :  f_1 = \\tanh(z_1)\n",
    "        self.f.append(self.activation(self.z[0]))\n",
    "        for i in range(0,len(self.hidden_layer)-1):\n",
    "            self.z.append(np.dot(self.f[i], self.W[i+1]) + self.b[i+1])\n",
    "            self.f.append(self.activation(self.z[-1]))\n",
    "        # output layer\n",
    "        ## z_2 = f_1W_2 + b_2\n",
    "        self.z.append(np.dot(self.f[-1], self.W[-1]) + self.b[-1])\n",
    "        #\\hat{y} = softmax}(z_2)$\n",
    "        self.y_hat = softmax(self.z[-1])\n",
    "        \n",
    "        \n",
    "    def back_propagation(self):\n",
    "        d = []\n",
    "        d.insert(0,self.lossderivative(self.y,self.y_hat,self.regularization_parameter,self.C))\n",
    "        dW = []\n",
    "        db = []\n",
    "        for i in range(len(self.hidden_layer)):\n",
    "            dW.insert(0,self.f[-1-i].T.dot(d[0]))\n",
    "            db.insert(0,np.sum(d[0],axis=0,keepdims=True))\n",
    "            d.insert(0,self.derivative(self.f[-1-i])*(d[0].dot(self.W[-1-i].T)))\n",
    "        dW.insert(0,self.X.T.dot(d[0]))\n",
    "        db.insert(0,np.sum(d[0],axis=0,keepdims=True))\n",
    "        \n",
    "        \n",
    "        # Update the gradident descent\n",
    "        if(self.regularization_parameter==None):\n",
    "            for i in range(len(self.W)):            \n",
    "                self.W[i] = self.W[i] - self.lr * dW[i]\n",
    "                self.b[i] = self.b[i] - self.lr * db[i]\n",
    "        else:\n",
    "            for i in range(len(self.W)):\n",
    "                self.W[i] = self.W[i] - self.lr * dW[i]\n",
    "                if(self.W[i].all()!=0):\n",
    "                    self.W[i] = self.W[i] - self.lr * self.W[i]/np.sqrt(np.sum(self.W[i]*self.W[i]))\n",
    "                self.b[i] = self.b[i] - self.lr * db[i]\n",
    "                if(self.b[i].all()!=0):\n",
    "                    self.b[i] = self.b[i] - self.lr * self.b[i]/np.sqrt(np.sum(self.b[i]*self.b[i]))\n",
    "\n",
    "\n",
    "    def callloss(self):\n",
    "        #  $L = -\\sum_n\\sum_{i\\in C} y_{n, i}\\log(\\hat{y}_{n, i})$\n",
    "        # calculate y_hat\n",
    "        self.feed_forward()\n",
    "        self.loss = self.lossfunction(self.y,self.y_hat,self.regularization_parameter,self.C)\n",
    "\n",
    "\n",
    "    def predict(self, X_test):\n",
    "        # Use feed forward to calculat y_hat_test\n",
    "        # hidden layer\n",
    "        ## z_1 = xW_1 + b_1\n",
    "        z = np.dot(X_test, self.W[0]) + self.b[0]\n",
    "        for i in range(1,len(self.hidden_layer)+1):\n",
    "            f = self.activation(z)\n",
    "            z = np.dot(f,self.W[i]) + self.b[i]\n",
    "        y_hat_test = softmax(z)\n",
    "\n",
    "        # the rest is similar to the logistic regression\n",
    "        labels = [0, 1, 2, 3, 4, 5, 6, 7, 8, 9]\n",
    "        num_test_samples = X_test.shape[0]\n",
    "        # find which index gives us the highest probability\n",
    "        ypred = np.zeros(num_test_samples, dtype=int)\n",
    "        for i in range(num_test_samples):\n",
    "            ypred[i] = labels[np.argmax(y_hat_test[i,:])]\n",
    "        return ypred\n",
    "    \n",
    "    def train(self,epochs):\n",
    "        for i in range(epochs):\n",
    "            self.feed_forward()\n",
    "            self.back_propagation()\n",
    "            self.callloss()\n",
    "        \n",
    "def softmax(z):\n",
    "    exp_value = np.exp(z-np.amax(z, axis=1, keepdims=True)) # for stablility\n",
    "    # keepdims = True means that the output's dimension is the same as of z\n",
    "    softmax_scores = exp_value / np.sum(exp_value, axis=1, keepdims=True)\n",
    "    return softmax_scores\n",
    "\n",
    "def accuracy(ypred, yexact):\n",
    "    p = np.array(ypred == yexact, dtype = int)\n",
    "    return np.sum(p)/float(len(yexact))"
   ]
  },
  {
   "cell_type": "markdown",
   "metadata": {},
   "source": [
    "## Activation and Loss Functions\n",
    "\n",
    "Note: Not all combinations work, but the combo from class and the homework combo both work well. You're welcome to experiment with others!"
   ]
  },
  {
   "cell_type": "code",
   "execution_count": 3,
   "metadata": {},
   "outputs": [],
   "source": [
    "#ACTIVATIONS\n",
    "def TANH(X):\n",
    "    return np.tanh(X)\n",
    "\n",
    "def TANH_dx(X):\n",
    "    return 1 - np.tanh(X)*np.tanh(X)\n",
    "\n",
    "def RELU(X):\n",
    "    dx = np.copy(X)\n",
    "    dx[X<0] = 0\n",
    "    return dx\n",
    "\n",
    "def RELU_dx(X):\n",
    "    dx = np.copy(X)\n",
    "    dx[dx<0]=0\n",
    "    dx[dx>0]=1\n",
    "    return dx\n",
    "\n",
    "#LOSSES\n",
    "def CrossEntropyLoss(y,yhat,regularization_parameter=None,C=None):\n",
    "    return -np.sum(y*np.log(yhat + 1e-6))\n",
    "\n",
    "def CrossEntropyLoss_dx(y,yhat,regularization_parameter=None,C=None): #What?\n",
    "    return yhat - y\n",
    "\n",
    "def RegularizedLoss(y,yhat,regularization_parameter,C):\n",
    "    loss = 0\n",
    "    hinge = 1 - y*yhat\n",
    "    hinge[hinge<0]=0\n",
    "    loss = np.sum(hinge)\n",
    "    loss *= regularization_parameter\n",
    "    temp = 0\n",
    "    for item in C:\n",
    "        for elem in item:\n",
    "            temp += np.sum(elem*elem)\n",
    "    return loss + np.sqrt(temp)\n",
    "\n",
    "def RegularizedLoss_dx(y,yhat,regularization_parameter,C):\n",
    "    hinge = 1 - y*yhat\n",
    "    summed = np.sum(y*yhat,axis=1,keepdims=True)\n",
    "    loss = np.zeros(hinge.shape)\n",
    "    for i in range(hinge.shape[0]):\n",
    "        for j in range(hinge.shape[1]):\n",
    "            if(hinge[i][j]>0):\n",
    "                loss[i][j] = yhat[i][j]*(summed[i,:] - y[i][j])\n",
    "    loss *= regularization_parameter\n",
    "    return loss\n",
    "\n",
    "def RegularizedLoss2(y,yhat,regularization_parameter,C):\n",
    "    loss = 0\n",
    "    hinge = 1 - y*yhat\n",
    "    hinge = np.sum(hinge,axis=1,keepdims=True)\n",
    "    hinge[hinge<0]=0\n",
    "    loss = np.sum(hinge)\n",
    "    loss *= regularization_parameter\n",
    "    temp = 0\n",
    "    for item in C:\n",
    "        for elem in item:\n",
    "            temp += np.sum(elem*elem)\n",
    "    return loss + np.sqrt(temp)\n",
    "\n",
    "def RegularizedLoss_dx2(y,yhat,regularization_parameter,C):\n",
    "    hinge = 1 - y*yhat\n",
    "    hinge = np.sum(hinge,axis=1,keepdims=True)\n",
    "    summed = np.sum(y*yhat,axis=1,keepdims=True)\n",
    "    loss = np.zeros(y.shape)\n",
    "    for i in range(hinge.shape[0]):\n",
    "        if(hinge[i]>0):\n",
    "            loss[i] = yhat[i]*(summed[i] - y[i])\n",
    "    loss *= regularization_parameter\n",
    "    return loss"
   ]
  },
  {
   "cell_type": "markdown",
   "metadata": {},
   "source": [
    "## The Run and Train Functions\n",
    "\n",
    "dlib should be a library of the data, activation, and loss libraries. layerslist is a single list for RunOne and a list of two lists for RunTwo. For Train, the layerslist is interpretted as a list of neurons for each layer, so [100,50] is a NN with two layers, 100 then 50.\n",
    "\n",
    "Note, you do not need to use these to train the NN, but I found it easier this way. You will need to train a three or more layer network by setting up a loop separately."
   ]
  },
  {
   "cell_type": "code",
   "execution_count": 4,
   "metadata": {
    "scrolled": false
   },
   "outputs": [],
   "source": [
    "# RUN\n",
    "def RunOne(dlib,layerslist,epochs,lr=0.1):\n",
    "    data = dlib['DATA']\n",
    "    dact = dlib['DACT']\n",
    "    dloss = dlib['DLOSS']\n",
    "    matrix = np.zeros(len(layerslist[0]))\n",
    "    print('Running OneLayer NN with:\\n   layer1:',layerslist[0],'\\n   epochs:', epochs,'\\n   lr:', lr)\n",
    "    print('   ',dlib['DACT'])\n",
    "    print('   ',dlib['DLOSS'],'\\n')\n",
    "    for i in range(len(layerslist[0])):\n",
    "        l1 = layerslist[0][i]\n",
    "        hidden_layer=[l1]\n",
    "        myNN = varlayer_NN(data['X_train_norm'], data['y_train_ohe'], dact, dloss, hidden_layer, lr) \n",
    "        myNN.train(epochs)\n",
    "        y_pred = myNN.predict(data['X_test_norm'])\n",
    "        ac = 100*accuracy(y_pred, data['y_test'].ravel())\n",
    "        matrix[i] = ac\n",
    "        #print('Accuracy of our model_TEST: %f%%' % (ac))\n",
    "        #print('   NEURONS: %d'%(l1))\n",
    "    return matrix\n",
    "\n",
    "def RunTwo(dlib,layerslist,epochs,lr=0.1):\n",
    "    data = dlib['DATA']\n",
    "    dact = dlib['DACT']\n",
    "    dloss = dlib['DLOSS']\n",
    "    matrix = np.zeros((len(layerslist[0]),len(layerslist[1])))\n",
    "    print('Running TwoLayer NN with:\\n   layer1:',layerslist[0],'\\n   layer2:',layerslist[1],'\\n   epochs:', epochs,'\\n   lr:', lr)\n",
    "    print('   ',dlib['DACT'])\n",
    "    print('   ',dlib['DLOSS'],'\\n')\n",
    "    for i in range(len(layerslist[0])):\n",
    "        for j in range(len(layerslist[1])):\n",
    "            l1 = layerslist[0][i]\n",
    "            l2 = layerslist[1][j]\n",
    "            hidden_layer=[l1,l2]\n",
    "            myNN = varlayer_NN(data['X_train_norm'], data['y_train_ohe'], dact, dloss, hidden_layer, lr) \n",
    "            myNN.train(epochs)\n",
    "            y_pred = myNN.predict(data['X_test_norm'])\n",
    "            ac = 100*accuracy(y_pred, data['y_test'].ravel())\n",
    "            matrix[i][j] = ac\n",
    "            #print('Accuracy of our model_TEST: %f%%' % (ac))\n",
    "            #print('   NEURONS: %d %d'%(l1,l2))\n",
    "    return matrix\n",
    "            \n",
    "def Train(dlib,layerslist,epochs,lr=0.1):\n",
    "    data = dlib['DATA']\n",
    "    dact = dlib['DACT']\n",
    "    dloss = dlib['DLOSS']\n",
    "    print('Running TwoLayer NN with:\\n   layers:',layerslist,'\\n   epochs:', epochs,'\\n   lr:', lr)\n",
    "    print('   ',dlib['DACT'])\n",
    "    print('   ',dlib['DLOSS'],'\\n')\n",
    "    NN = varlayer_NN(data['X_train_norm'], data['y_train_ohe'], dact, dloss, layerslist, lr) \n",
    "    NN.train(epochs)\n",
    "    y_pred = NN.predict(data['X_test_norm'])\n",
    "    print('Accuracy of our model_TEST: %f%%' % (100*accuracy(y_pred, data['y_test'].ravel())))\n",
    "    return NN"
   ]
  },
  {
   "cell_type": "markdown",
   "metadata": {},
   "source": [
    "## Plotting functions\n",
    "\n",
    "Plot_digit will plot an X Vector.\n",
    "\n",
    "plot_test will plot a series of X Vectors, from index1 to index2, as well as show the label and prediction of the given NN. clearn_ is the NN, and data_ is the data dictionary used to train it.\n",
    "\n",
    "tally_matrix and tally_matrix_no_diag both return a matrix where the rows are the label and the columns are the predictions, so entry 1,2 (counting from 1) would be the percentage of 1s classified as 2s."
   ]
  },
  {
   "cell_type": "code",
   "execution_count": 5,
   "metadata": {},
   "outputs": [],
   "source": [
    "#PLOTTING\n",
    "import matplotlib.pyplot as plt\n",
    "import IPython\n",
    "%matplotlib inline\n",
    "\n",
    "def plot_digit(feature_vector):\n",
    "    dim = int(np.sqrt(len(feature_vector)))\n",
    "    plt.gray()\n",
    "    plt.matshow(feature_vector.reshape(dim,dim))\n",
    "    plt.show()\n",
    "\n",
    "def plot_test(index1,index2,clearn_,data_):\n",
    "    for index in range(index1,index2):\n",
    "        print('Image:',index)\n",
    "        plot_digit(data_['X_test'][index])\n",
    "        ypred = clearn_.predict(data_['X_test_norm'][index].reshape(1,-1))\n",
    "        print('Label:', int(data_['y_test'][index]))\n",
    "        print('Prediction:',int(ypred))\n",
    "        print('')\n",
    "        \n",
    "def tally_matrix(y_test,pred):\n",
    "    total=np.zeros(10)\n",
    "    tal=np.zeros((10,10))\n",
    "    for i in range(len(y_test)):\n",
    "        y=int(y_test[i])\n",
    "        p=int(pred[i])\n",
    "        tal[y][p]+=1\n",
    "        total[y]+=1\n",
    "    for index in range(tal.shape[0]):\n",
    "        tal[index] *= 100/total[index]\n",
    "    return tal\n",
    "        \n",
    "def tally_matrix_no_diag(y_test,pred):\n",
    "    total=np.zeros(10)\n",
    "    tal=np.zeros((10,10))\n",
    "    for i in range(len(y_test)):\n",
    "        y=int(y_test[i])\n",
    "        p=int(pred[i])\n",
    "        if(y!=p):\n",
    "            tal[y][p]+=1\n",
    "        total[y]+=1\n",
    "    for index in range(tal.shape[0]):\n",
    "        tal[index] *= 100/total[index]\n",
    "    return tal"
   ]
  },
  {
   "cell_type": "markdown",
   "metadata": {},
   "source": [
    "## Load the data"
   ]
  },
  {
   "cell_type": "code",
   "execution_count": 6,
   "metadata": {},
   "outputs": [
    {
     "name": "stderr",
     "output_type": "stream",
     "text": [
      "/usr/local/lib/python3.7/site-packages/sklearn/utils/validation.py:590: DataConversionWarning: Data with input dtype int64 was converted to float64 by StandardScaler.\n",
      "  warnings.warn(msg, DataConversionWarning)\n",
      "/usr/local/lib/python3.7/site-packages/sklearn/utils/validation.py:590: DataConversionWarning: Data with input dtype int64 was converted to float64 by StandardScaler.\n",
      "  warnings.warn(msg, DataConversionWarning)\n",
      "/usr/local/lib/python3.7/site-packages/sklearn/utils/validation.py:590: DataConversionWarning: Data with input dtype int64 was converted to float64 by StandardScaler.\n",
      "  warnings.warn(msg, DataConversionWarning)\n"
     ]
    }
   ],
   "source": [
    "# main\n",
    "X_train_digits, y_train_digits = read_dataset('Digits_X_train.csv', 'Digits_y_train.csv')\n",
    "X_test_digits, y_test_digits = read_dataset('Digits_X_test.csv', 'Digits_y_test.csv')\n",
    "X_train_norm_digits, X_test_norm_digits = normalize_features(X_train_digits, X_test_digits)\n",
    "y_train_ohe_digits, y_test_ohe_digits = one_hot_encoder(y_train_digits, y_test_digits)\n",
    "\n",
    "X_train_mnist, y_train_mnist = read_dataset('MNIST_X_train.csv', 'MNIST_y_train.csv')\n",
    "X_test_mnist, y_test_mnist = read_dataset('MNIST_X_test.csv', 'MNIST_y_test.csv')\n",
    "X_train_norm_mnist, X_test_norm_mnist = normalize_features(X_train_mnist, X_test_mnist)\n",
    "y_train_ohe_mnist, y_test_ohe_mnist = one_hot_encoder(y_train_mnist, y_test_mnist)"
   ]
  },
  {
   "cell_type": "markdown",
   "metadata": {},
   "source": [
    "## Define the dictionaries to use in training"
   ]
  },
  {
   "cell_type": "code",
   "execution_count": 7,
   "metadata": {},
   "outputs": [],
   "source": [
    "#Libraries\n",
    "#ACTIVATIONS\n",
    "DRELU = {'F':RELU,'D':RELU_dx}\n",
    "DTANH = {'F':TANH,'D':TANH_dx}\n",
    "\n",
    "#LOSS\n",
    "DENTR = {'F':CrossEntropyLoss,'D':CrossEntropyLoss_dx,'RP':0.1}\n",
    "DREGU = {'F':RegularizedLoss,'D':RegularizedLoss_dx,'RP':0.1}\n",
    "DREGU2 = {'F':RegularizedLoss2,'D':RegularizedLoss_dx2,'RP':0.1}\n",
    "\n",
    "#DATA\n",
    "DDIG = {'X_train':X_train_digits,'X_train_norm':X_train_norm_digits,'y_train':y_train_digits,'y_train_ohe':y_train_ohe_digits,\\\n",
    "        'X_test':X_test_digits,'X_test_norm':X_test_norm_digits,'y_test':y_test_digits,'y_test_ohe':y_test_ohe_digits}\n",
    "DMNI = {'X_train':X_train_mnist,'X_train_norm':X_train_norm_mnist,'y_train':y_train_mnist,'y_train_ohe':y_train_ohe_mnist,\\\n",
    "        'X_test':X_test_mnist,'X_test_norm':X_test_norm_mnist,'y_test':y_test_mnist,'y_test_ohe':y_test_ohe_mnist}"
   ]
  },
  {
   "cell_type": "markdown",
   "metadata": {},
   "source": [
    "## Test on Digits data\n",
    "\n",
    "The Digits data seems to max out around 96-98% accuracy on a wide range of neuron layer combinations, for both one and two layers. The final results vary upon new trainings, but this range is typical."
   ]
  },
  {
   "cell_type": "code",
   "execution_count": 8,
   "metadata": {},
   "outputs": [
    {
     "name": "stdout",
     "output_type": "stream",
     "text": [
      "Running OneLayer NN with:\n",
      "   layer1: [50, 100, 150, 200, 250] \n",
      "   epochs: 400 \n",
      "   lr: 0.01\n",
      "    {'F': <function RELU at 0x11531bbf8>, 'D': <function RELU_dx at 0x11531bc80>}\n",
      "    {'F': <function RegularizedLoss2 at 0x11531bf28>, 'D': <function RegularizedLoss_dx2 at 0x1153f6048>, 'RP': 0.1} \n",
      "\n",
      "OneLayer Accuracy:\n",
      "[96.66666667 97.33333333 97.33333333 97.77777778 97.11111111]\n",
      "\n",
      "Running TwoLayer NN with:\n",
      "   layer1: [50, 100, 150, 200, 250] \n",
      "   layer2: [50, 100, 150, 200, 250] \n",
      "   epochs: 400 \n",
      "   lr: 0.01\n",
      "    {'F': <function RELU at 0x11531bbf8>, 'D': <function RELU_dx at 0x11531bc80>}\n",
      "    {'F': <function RegularizedLoss2 at 0x11531bf28>, 'D': <function RegularizedLoss_dx2 at 0x1153f6048>, 'RP': 0.1} \n",
      "\n",
      "TwoLayer Accuracy:\n",
      "[[97.11111111 96.66666667 98.         97.11111111 97.33333333]\n",
      " [97.55555556 97.11111111 97.77777778 97.33333333 97.11111111]\n",
      " [97.77777778 97.33333333 98.         97.11111111 97.11111111]\n",
      " [97.55555556 96.88888889 96.88888889 97.33333333 97.55555556]\n",
      " [97.11111111 97.11111111 97.33333333 98.         97.55555556]]\n"
     ]
    }
   ],
   "source": [
    "DATA = DDIG\n",
    "DACT = DRELU\n",
    "DLOSS = DREGU2\n",
    "DLOSS['RP']=0.1\n",
    "DLIB = {'DATA':DATA,\\\n",
    "        'DACT':DACT,\\\n",
    "        'DLOSS':DLOSS}\n",
    "\n",
    "L1 = [50,100,150,200,250]\n",
    "L2 = [50,100,150,200,250]\n",
    "layers = [L1,L2]\n",
    "epoch_num = 400\n",
    "lr=0.01\n",
    "\n",
    "\n",
    "layers = [L1]\n",
    "matrix1 = RunOne(DLIB,layers,epoch_num,lr)\n",
    "print('OneLayer Accuracy:')\n",
    "print(matrix1)\n",
    "print('')\n",
    "layers = [L1,L2]\n",
    "matrix2 = RunTwo(DLIB,layers,epoch_num,lr)\n",
    "print('TwoLayer Accuracy:')\n",
    "print(matrix2)"
   ]
  },
  {
   "cell_type": "markdown",
   "metadata": {},
   "source": [
    "## First run on MNIST Data\n",
    "\n",
    "Across networks of small numbers of neurons, my network maxes out around 92.4% accuracy with 70x65 two layer NN, with a close second of 92% for 75x65. Across all combinations of 50-80 by fives, the range is tight with 89-92.4% accuracy. However, the results for each combination vary by at least +-1% upon each new training. \n",
    "\n",
    "The MNIST data seems more sensitive to variations than the Digits data, likely due to its more complex nature. In both the Digits and MNIST data, the two layer functioned marginally better, by less than 1%. Considering that the accuracy results of each combination tend to vary by about a percentage point, this is not considerable."
   ]
  },
  {
   "cell_type": "code",
   "execution_count": 9,
   "metadata": {},
   "outputs": [
    {
     "name": "stdout",
     "output_type": "stream",
     "text": [
      "Running OneLayer NN with:\n",
      "   layer1: [50, 55, 60, 65, 70, 75, 80] \n",
      "   epochs: 200 \n",
      "   lr: 0.01\n",
      "    {'F': <function RELU at 0x11531bbf8>, 'D': <function RELU_dx at 0x11531bc80>}\n",
      "    {'F': <function RegularizedLoss2 at 0x11531bf28>, 'D': <function RegularizedLoss_dx2 at 0x1153f6048>, 'RP': 0.1} \n",
      "\n",
      "OneLayer Accuracy:\n",
      "[91.6 90.2 90.4 91.4 89.6 90.2 91.4]\n",
      "\n",
      "Running TwoLayer NN with:\n",
      "   layer1: [50, 55, 60, 65, 70, 75, 80] \n",
      "   layer2: [50, 55, 60, 65, 70, 75, 80] \n",
      "   epochs: 200 \n",
      "   lr: 0.01\n",
      "    {'F': <function RELU at 0x11531bbf8>, 'D': <function RELU_dx at 0x11531bc80>}\n",
      "    {'F': <function RegularizedLoss2 at 0x11531bf28>, 'D': <function RegularizedLoss_dx2 at 0x1153f6048>, 'RP': 0.1} \n",
      "\n",
      "TwoLayer Accuracy:\n",
      "[[91.4 89.8 90.4 90.  91.2 91.4 91.4]\n",
      " [91.  90.8 90.6 91.  89.  91.  91. ]\n",
      " [91.2 90.6 90.8 90.  90.2 91.6 91.4]\n",
      " [90.6 90.  91.2 91.  90.8 91.2 91. ]\n",
      " [90.8 90.4 90.6 92.4 91.4 90.  90.6]\n",
      " [91.6 90.4 90.4 92.  91.2 91.2 91.6]\n",
      " [91.  90.8 90.6 89.4 90.  91.2 90. ]]\n"
     ]
    }
   ],
   "source": [
    "DATA = DMNI\n",
    "DACT = DRELU\n",
    "DLOSS = DREGU2\n",
    "DLOSS['RP']=0.1\n",
    "DLIB = {'DATA':DATA,\\\n",
    "        'DACT':DACT,\\\n",
    "        'DLOSS':DLOSS}\n",
    "\n",
    "L1 = [50,55,60,65,70,75,80]\n",
    "L2 = [50,55,60,65,70,75,80]\n",
    "layers = [L1,L2]\n",
    "epoch_num = 200\n",
    "lr=0.01\n",
    "\n",
    "\n",
    "layers = [L1]\n",
    "matrix1 = RunOne(DLIB,layers,epoch_num,lr)\n",
    "print('OneLayer Accuracy:')\n",
    "print(matrix1)\n",
    "print('')\n",
    "layers = [L1,L2]\n",
    "matrix2 = RunTwo(DLIB,layers,epoch_num,lr)\n",
    "print('TwoLayer Accuracy:')\n",
    "print(matrix2)"
   ]
  },
  {
   "cell_type": "markdown",
   "metadata": {},
   "source": [
    "## Second run on MNIST Data\n",
    "\n",
    "Increasing the number of neurons, particularly in the first layer, barely brings down the accuracy to within fluctuation of the final result. On average, the smaller number of neurons fairs better, but barely. They also train substantially faster, so the smaller number of neurons in each layer takes the day."
   ]
  },
  {
   "cell_type": "code",
   "execution_count": 11,
   "metadata": {},
   "outputs": [
    {
     "name": "stdout",
     "output_type": "stream",
     "text": [
      "Running OneLayer NN with:\n",
      "   layer1: [200, 400, 600, 800] \n",
      "   epochs: 200 \n",
      "   lr: 0.01\n",
      "    {'F': <function RELU at 0x11531bbf8>, 'D': <function RELU_dx at 0x11531bc80>}\n",
      "    {'F': <function RegularizedLoss2 at 0x11531bf28>, 'D': <function RegularizedLoss_dx2 at 0x1153f6048>, 'RP': 0.1} \n",
      "\n",
      "OneLayer Accuracy:\n",
      "[91.6 92.  91.4 91.6]\n",
      "\n",
      "Running TwoLayer NN with:\n",
      "   layer1: [200, 400, 600, 800] \n",
      "   layer2: [50, 75, 100, 200] \n",
      "   epochs: 200 \n",
      "   lr: 0.01\n",
      "    {'F': <function RELU at 0x11531bbf8>, 'D': <function RELU_dx at 0x11531bc80>}\n",
      "    {'F': <function RegularizedLoss2 at 0x11531bf28>, 'D': <function RegularizedLoss_dx2 at 0x1153f6048>, 'RP': 0.1} \n",
      "\n",
      "TwoLayer Accuracy:\n",
      "[[90.8 91.  91.8 91.6]\n",
      " [90.2 90.2 91.8 91.8]\n",
      " [91.  90.8 91.2 91.8]\n",
      " [91.2 89.6 90.4 91.6]]\n"
     ]
    }
   ],
   "source": [
    "DATA = DMNI\n",
    "DACT = DRELU\n",
    "DLOSS = DREGU2\n",
    "DLOSS['RP']=0.1\n",
    "DLIB = {'DATA':DATA,\\\n",
    "        'DACT':DACT,\\\n",
    "        'DLOSS':DLOSS}\n",
    "\n",
    "L1 = [200,400,600,800]\n",
    "L2 = [50,75,100,200]\n",
    "layers = [L1,L2]\n",
    "epoch_num = 200\n",
    "lr=0.01\n",
    "\n",
    "\n",
    "layers = [L1]\n",
    "matrix1 = RunOne(DLIB,layers,epoch_num,lr)\n",
    "print('OneLayer Accuracy:')\n",
    "print(matrix1)\n",
    "print('')\n",
    "layers = [L1,L2]\n",
    "matrix2 = RunTwo(DLIB,layers,epoch_num,lr)\n",
    "print('TwoLayer Accuracy:')\n",
    "print(matrix2)"
   ]
  },
  {
   "cell_type": "markdown",
   "metadata": {},
   "source": [
    "## Visualization of Results\n",
    "\n",
    "I've trained a single dig_NN and single MNI_NN as example below. The training options, resulting accuracy, and error patterns are printed below. As in HW2, the misclassification rate is more spread amongst the number combinations in mnist, whereas the in digits the error is more concentrated in specific number combinations."
   ]
  },
  {
   "cell_type": "code",
   "execution_count": 25,
   "metadata": {},
   "outputs": [
    {
     "name": "stdout",
     "output_type": "stream",
     "text": [
      "Running TwoLayer NN with:\n",
      "   layers: [100, 50] \n",
      "   epochs: 200 \n",
      "   lr: 0.01\n",
      "    {'F': <function RELU at 0x11531bbf8>, 'D': <function RELU_dx at 0x11531bc80>}\n",
      "    {'F': <function RegularizedLoss2 at 0x11531bf28>, 'D': <function RegularizedLoss_dx2 at 0x1153f6048>, 'RP': 0.1} \n",
      "\n",
      "Accuracy of our model_TEST: 96.444444%\n",
      "\n",
      "\n",
      "Percent of row_num classified as col_num\n",
      "No Diagonal for Images -- Correctly classified % set to zero\n",
      "----------------------\n",
      "classification: row  by column\n",
      "classification: row=Label by col=Prediction\n",
      "classification: true by classified\n",
      "\n",
      "----------------------\n",
      "DIGITS\n"
     ]
    },
    {
     "data": {
      "text/plain": [
       "<Figure size 432x288 with 0 Axes>"
      ]
     },
     "metadata": {},
     "output_type": "display_data"
    },
    {
     "data": {
      "image/png": "[encoded data removed]",
      "text/plain": [
       "<Figure size 288x288 with 1 Axes>"
      ]
     },
     "metadata": {
      "needs_background": "light"
     },
     "output_type": "display_data"
    },
    {
     "name": "stdout",
     "output_type": "stream",
     "text": [
      "[[100.     0.     0.     0.     0.     0.     0.     0.     0.     0.  ]\n",
      " [  0.    98.08   1.92   0.     0.     0.     0.     0.     0.     0.  ]\n",
      " [  0.     2.04  97.96   0.     0.     0.     0.     0.     0.     0.  ]\n",
      " [  0.     0.     0.    96.15   0.     0.     0.     0.     3.85   0.  ]\n",
      " [  0.     2.7    0.     0.    91.89   0.     2.7    0.     2.7    0.  ]\n",
      " [  0.     0.     0.     0.     0.    97.14   2.86   0.     0.     0.  ]\n",
      " [  2.04   0.     0.     0.     0.     0.    97.96   0.     0.     0.  ]\n",
      " [  0.     0.     0.     0.     0.     0.     0.    97.73   0.     2.27]\n",
      " [  0.     5.26   0.     0.     0.     0.     0.     0.    94.74   0.  ]\n",
      " [  0.     0.     0.     4.08   0.     0.     0.     2.04   2.04  91.84]]\n"
     ]
    }
   ],
   "source": [
    "DATA = DDIG\n",
    "DACT = DRELU\n",
    "DLOSS = DREGU2\n",
    "DLOSS['RP']=0.1\n",
    "\n",
    "DLIB = {'DATA':DATA,\\\n",
    "        'DACT':DACT,\\\n",
    "        'DLOSS':DLOSS}\n",
    "layerslist=[100,50]\n",
    "epochs=200\n",
    "lr=0.01\n",
    "\n",
    "DIG_NN = Train(DLIB,layerslist,epochs,lr)\n",
    "ypred = DIG_NN.predict(DATA['X_test_norm'])\n",
    "dig_matrix_no_diag = tally_matrix_no_diag(DATA['y_test'],ypred)\n",
    "ypred = DIG_NN.predict(DATA['X_test_norm'])\n",
    "dig_matrix = tally_matrix(DATA['y_test'],ypred)\n",
    "\n",
    "np.set_printoptions(precision=2)\n",
    "plt.gray()\n",
    "print('\\n')\n",
    "print('Percent of row_num classified as col_num')\n",
    "print('No Diagonal for Images -- Correctly classified % set to zero')\n",
    "print('----------------------')\n",
    "print('classification: row  by column')\n",
    "print('classification: row=Label by col=Prediction')\n",
    "print('classification: true by classified')\n",
    "\n",
    "print('\\n----------------------')\n",
    "print('DIGITS')\n",
    "plt.matshow(dig_matrix_no_diag)\n",
    "plt.show()\n",
    "print(dig_matrix)"
   ]
  },
  {
   "cell_type": "code",
   "execution_count": 26,
   "metadata": {},
   "outputs": [
    {
     "name": "stdout",
     "output_type": "stream",
     "text": [
      "Running TwoLayer NN with:\n",
      "   layers: [75, 65] \n",
      "   epochs: 200 \n",
      "   lr: 0.01\n",
      "    {'F': <function RELU at 0x11531bbf8>, 'D': <function RELU_dx at 0x11531bc80>}\n",
      "    {'F': <function RegularizedLoss2 at 0x11531bf28>, 'D': <function RegularizedLoss_dx2 at 0x1153f6048>, 'RP': 0.1} \n",
      "\n",
      "Accuracy of our model_TEST: 91.600000%\n",
      "\n",
      "\n",
      "Percent of row_num classified as col_num\n",
      "No Diagonal for Images -- Correctly classified % set to zero\n",
      "----------------------\n",
      "classification: row  by column\n",
      "classification: row=Label by col=Prediction\n",
      "classification: true by classified\n",
      "\n",
      "----------------------\n",
      "MNIST\n"
     ]
    },
    {
     "data": {
      "text/plain": [
       "<Figure size 432x288 with 0 Axes>"
      ]
     },
     "metadata": {},
     "output_type": "display_data"
    },
    {
     "data": {
      "image/png": "[encoded data removed]",
      "text/plain": [
       "<Figure size 288x288 with 1 Axes>"
      ]
     },
     "metadata": {
      "needs_background": "light"
     },
     "output_type": "display_data"
    },
    {
     "name": "stdout",
     "output_type": "stream",
     "text": [
      "[[ 95.74   0.     0.     0.     0.     2.13   0.     0.     2.13   0.  ]\n",
      " [  0.    95.24   1.59   0.     0.     0.     1.59   0.     1.59   0.  ]\n",
      " [  1.96   0.    92.16   1.96   0.     0.     0.     1.96   1.96   0.  ]\n",
      " [  0.     2.08   2.08  89.58   2.08   2.08   0.     0.     2.08   0.  ]\n",
      " [  0.     0.     0.     0.   100.     0.     0.     0.     0.     0.  ]\n",
      " [  0.     0.     0.     7.14   0.    88.1    0.     0.     2.38   2.38]\n",
      " [  1.85   0.     1.85   0.     3.7    1.85  90.74   0.     0.     0.  ]\n",
      " [  0.     1.61   3.23   0.     1.61   0.     0.    90.32   1.61   1.61]\n",
      " [  0.     0.     2.78   2.78   0.     2.78   2.78   0.    88.89   0.  ]\n",
      " [  3.77   0.     0.     3.77   3.77   0.     0.     3.77   0.    84.91]]\n"
     ]
    }
   ],
   "source": [
    "DATA = DMNI\n",
    "DACT = DRELU\n",
    "DLOSS = DREGU2\n",
    "DLOSS['RP']=0.1\n",
    "\n",
    "DLIB = {'DATA':DATA,\\\n",
    "        'DACT':DACT,\\\n",
    "        'DLOSS':DLOSS}\n",
    "\n",
    "layerslist=[75,65]\n",
    "epochs=200\n",
    "lr=0.01\n",
    "\n",
    "MNI_NN = Train(DLIB,layerslist,epochs,lr)\n",
    "ypred = MNI_NN.predict(DATA['X_test_norm'])\n",
    "mni_matrix_no_diag = tally_matrix_no_diag(DATA['y_test'],ypred)\n",
    "ypred = MNI_NN.predict(DATA['X_test_norm'])\n",
    "mni_matrix = tally_matrix(DATA['y_test'],ypred)\n",
    "\n",
    "\n",
    "np.set_printoptions(precision=2)\n",
    "plt.gray()\n",
    "print('\\n')\n",
    "print('Percent of row_num classified as col_num')\n",
    "print('No Diagonal for Images -- Correctly classified % set to zero')\n",
    "print('----------------------')\n",
    "print('classification: row  by column')\n",
    "print('classification: row=Label by col=Prediction')\n",
    "print('classification: true by classified')\n",
    "\n",
    "print('\\n----------------------')\n",
    "print('MNIST')\n",
    "plt.matshow(mni_matrix_no_diag)\n",
    "plt.show()\n",
    "print(mni_matrix)"
   ]
  },
  {
   "cell_type": "markdown",
   "metadata": {},
   "source": [
    "## Just some example labels and their predictions from the MNI set"
   ]
  },
  {
   "cell_type": "code",
   "execution_count": 27,
   "metadata": {
    "scrolled": false
   },
   "outputs": [
    {
     "name": "stdout",
     "output_type": "stream",
     "text": [
      "Image: 155\n"
     ]
    },
    {
     "data": {
      "text/plain": [
       "<Figure size 432x288 with 0 Axes>"
      ]
     },
     "metadata": {},
     "output_type": "display_data"
    },
    {
     "data": {
      "image/png": "[encoded data removed]",
      "text/plain": [
       "<Figure size 288x288 with 1 Axes>"
      ]
     },
     "metadata": {
      "needs_background": "light"
     },
     "output_type": "display_data"
    },
    {
     "name": "stdout",
     "output_type": "stream",
     "text": [
      "Label: 9\n",
      "Prediction: 9\n",
      "\n",
      "Image: 156\n"
     ]
    },
    {
     "data": {
      "text/plain": [
       "<Figure size 432x288 with 0 Axes>"
      ]
     },
     "metadata": {},
     "output_type": "display_data"
    },
    {
     "data": {
      "image/png": "[encoded data removed]",
      "text/plain": [
       "<Figure size 288x288 with 1 Axes>"
      ]
     },
     "metadata": {
      "needs_background": "light"
     },
     "output_type": "display_data"
    },
    {
     "name": "stdout",
     "output_type": "stream",
     "text": [
      "Label: 9\n",
      "Prediction: 9\n",
      "\n",
      "Image: 157\n"
     ]
    },
    {
     "data": {
      "text/plain": [
       "<Figure size 432x288 with 0 Axes>"
      ]
     },
     "metadata": {},
     "output_type": "display_data"
    },
    {
     "data": {
      "image/png": "[encoded data removed]",
      "text/plain": [
       "<Figure size 288x288 with 1 Axes>"
      ]
     },
     "metadata": {
      "needs_background": "light"
     },
     "output_type": "display_data"
    },
    {
     "name": "stdout",
     "output_type": "stream",
     "text": [
      "Label: 2\n",
      "Prediction: 2\n",
      "\n",
      "Image: 158\n"
     ]
    },
    {
     "data": {
      "text/plain": [
       "<Figure size 432x288 with 0 Axes>"
      ]
     },
     "metadata": {},
     "output_type": "display_data"
    },
    {
     "data": {
      "image/png": "[encoded data removed]",
      "text/plain": [
       "<Figure size 288x288 with 1 Axes>"
      ]
     },
     "metadata": {
      "needs_background": "light"
     },
     "output_type": "display_data"
    },
    {
     "name": "stdout",
     "output_type": "stream",
     "text": [
      "Label: 4\n",
      "Prediction: 4\n",
      "\n",
      "Image: 159\n"
     ]
    },
    {
     "data": {
      "text/plain": [
       "<Figure size 432x288 with 0 Axes>"
      ]
     },
     "metadata": {},
     "output_type": "display_data"
    },
    {
     "data": {
      "image/png": "[encoded data removed]",
      "text/plain": [
       "<Figure size 288x288 with 1 Axes>"
      ]
     },
     "metadata": {
      "needs_background": "light"
     },
     "output_type": "display_data"
    },
    {
     "name": "stdout",
     "output_type": "stream",
     "text": [
      "Label: 9\n",
      "Prediction: 9\n",
      "\n",
      "Image: 160\n"
     ]
    },
    {
     "data": {
      "text/plain": [
       "<Figure size 432x288 with 0 Axes>"
      ]
     },
     "metadata": {},
     "output_type": "display_data"
    },
    {
     "data": {
      "image/png": "[encoded data removed]",
      "text/plain": [
       "<Figure size 288x288 with 1 Axes>"
      ]
     },
     "metadata": {
      "needs_background": "light"
     },
     "output_type": "display_data"
    },
    {
     "name": "stdout",
     "output_type": "stream",
     "text": [
      "Label: 1\n",
      "Prediction: 8\n",
      "\n",
      "Image: 161\n"
     ]
    },
    {
     "data": {
      "text/plain": [
       "<Figure size 432x288 with 0 Axes>"
      ]
     },
     "metadata": {},
     "output_type": "display_data"
    },
    {
     "data": {
      "image/png": "[encoded data removed]",
      "text/plain": [
       "<Figure size 288x288 with 1 Axes>"
      ]
     },
     "metadata": {
      "needs_background": "light"
     },
     "output_type": "display_data"
    },
    {
     "name": "stdout",
     "output_type": "stream",
     "text": [
      "Label: 9\n",
      "Prediction: 9\n",
      "\n",
      "Image: 162\n"
     ]
    },
    {
     "data": {
      "text/plain": [
       "<Figure size 432x288 with 0 Axes>"
      ]
     },
     "metadata": {},
     "output_type": "display_data"
    },
    {
     "data": {
      "image/png": "[encoded data removed]",
      "text/plain": [
       "<Figure size 288x288 with 1 Axes>"
      ]
     },
     "metadata": {
      "needs_background": "light"
     },
     "output_type": "display_data"
    },
    {
     "name": "stdout",
     "output_type": "stream",
     "text": [
      "Label: 0\n",
      "Prediction: 0\n",
      "\n",
      "Image: 163\n"
     ]
    },
    {
     "data": {
      "text/plain": [
       "<Figure size 432x288 with 0 Axes>"
      ]
     },
     "metadata": {},
     "output_type": "display_data"
    },
    {
     "data": {
      "image/png": "[encoded data removed]",
      "text/plain": [
       "<Figure size 288x288 with 1 Axes>"
      ]
     },
     "metadata": {
      "needs_background": "light"
     },
     "output_type": "display_data"
    },
    {
     "name": "stdout",
     "output_type": "stream",
     "text": [
      "Label: 2\n",
      "Prediction: 2\n",
      "\n",
      "Image: 164\n"
     ]
    },
    {
     "data": {
      "text/plain": [
       "<Figure size 432x288 with 0 Axes>"
      ]
     },
     "metadata": {},
     "output_type": "display_data"
    },
    {
     "data": {
      "image/png": "[encoded data removed]",
      "text/plain": [
       "<Figure size 288x288 with 1 Axes>"
      ]
     },
     "metadata": {
      "needs_background": "light"
     },
     "output_type": "display_data"
    },
    {
     "name": "stdout",
     "output_type": "stream",
     "text": [
      "Label: 0\n",
      "Prediction: 0\n",
      "\n",
      "Image: 165\n"
     ]
    },
    {
     "data": {
      "text/plain": [
       "<Figure size 432x288 with 0 Axes>"
      ]
     },
     "metadata": {},
     "output_type": "display_data"
    },
    {
     "data": {
      "image/png": "[encoded data removed]",
      "text/plain": [
       "<Figure size 288x288 with 1 Axes>"
      ]
     },
     "metadata": {
      "needs_background": "light"
     },
     "output_type": "display_data"
    },
    {
     "name": "stdout",
     "output_type": "stream",
     "text": [
      "Label: 1\n",
      "Prediction: 1\n",
      "\n",
      "Image: 166\n"
     ]
    },
    {
     "data": {
      "text/plain": [
       "<Figure size 432x288 with 0 Axes>"
      ]
     },
     "metadata": {},
     "output_type": "display_data"
    },
    {
     "data": {
      "image/png": "[encoded data removed]",
      "text/plain": [
       "<Figure size 288x288 with 1 Axes>"
      ]
     },
     "metadata": {
      "needs_background": "light"
     },
     "output_type": "display_data"
    },
    {
     "name": "stdout",
     "output_type": "stream",
     "text": [
      "Label: 1\n",
      "Prediction: 1\n",
      "\n",
      "Image: 167\n"
     ]
    },
    {
     "data": {
      "text/plain": [
       "<Figure size 432x288 with 0 Axes>"
      ]
     },
     "metadata": {},
     "output_type": "display_data"
    },
    {
     "data": {
      "image/png": "[encoded data removed]",
      "text/plain": [
       "<Figure size 288x288 with 1 Axes>"
      ]
     },
     "metadata": {
      "needs_background": "light"
     },
     "output_type": "display_data"
    },
    {
     "name": "stdout",
     "output_type": "stream",
     "text": [
      "Label: 7\n",
      "Prediction: 7\n",
      "\n",
      "Image: 168\n"
     ]
    },
    {
     "data": {
      "text/plain": [
       "<Figure size 432x288 with 0 Axes>"
      ]
     },
     "metadata": {},
     "output_type": "display_data"
    },
    {
     "data": {
      "image/png": "[encoded data removed]",
      "text/plain": [
       "<Figure size 288x288 with 1 Axes>"
      ]
     },
     "metadata": {
      "needs_background": "light"
     },
     "output_type": "display_data"
    },
    {
     "name": "stdout",
     "output_type": "stream",
     "text": [
      "Label: 9\n",
      "Prediction: 9\n",
      "\n",
      "Image: 169\n"
     ]
    },
    {
     "data": {
      "text/plain": [
       "<Figure size 432x288 with 0 Axes>"
      ]
     },
     "metadata": {},
     "output_type": "display_data"
    },
    {
     "data": {
      "image/png": "[encoded data removed]",
      "text/plain": [
       "<Figure size 288x288 with 1 Axes>"
      ]
     },
     "metadata": {
      "needs_background": "light"
     },
     "output_type": "display_data"
    },
    {
     "name": "stdout",
     "output_type": "stream",
     "text": [
      "Label: 1\n",
      "Prediction: 1\n",
      "\n",
      "Image: 170\n"
     ]
    },
    {
     "data": {
      "text/plain": [
       "<Figure size 432x288 with 0 Axes>"
      ]
     },
     "metadata": {},
     "output_type": "display_data"
    },
    {
     "data": {
      "image/png": "[encoded data removed]",
      "text/plain": [
       "<Figure size 288x288 with 1 Axes>"
      ]
     },
     "metadata": {
      "needs_background": "light"
     },
     "output_type": "display_data"
    },
    {
     "name": "stdout",
     "output_type": "stream",
     "text": [
      "Label: 0\n",
      "Prediction: 0\n",
      "\n",
      "Image: 171\n"
     ]
    },
    {
     "data": {
      "text/plain": [
       "<Figure size 432x288 with 0 Axes>"
      ]
     },
     "metadata": {},
     "output_type": "display_data"
    },
    {
     "data": {
      "image/png": "[encoded data removed]",
      "text/plain": [
       "<Figure size 288x288 with 1 Axes>"
      ]
     },
     "metadata": {
      "needs_background": "light"
     },
     "output_type": "display_data"
    },
    {
     "name": "stdout",
     "output_type": "stream",
     "text": [
      "Label: 1\n",
      "Prediction: 1\n",
      "\n",
      "Image: 172\n"
     ]
    },
    {
     "data": {
      "text/plain": [
       "<Figure size 432x288 with 0 Axes>"
      ]
     },
     "metadata": {},
     "output_type": "display_data"
    },
    {
     "data": {
      "image/png": "[encoded data removed]",
      "text/plain": [
       "<Figure size 288x288 with 1 Axes>"
      ]
     },
     "metadata": {
      "needs_background": "light"
     },
     "output_type": "display_data"
    },
    {
     "name": "stdout",
     "output_type": "stream",
     "text": [
      "Label: 1\n",
      "Prediction: 1\n",
      "\n",
      "Image: 173\n"
     ]
    },
    {
     "data": {
      "text/plain": [
       "<Figure size 432x288 with 0 Axes>"
      ]
     },
     "metadata": {},
     "output_type": "display_data"
    },
    {
     "data": {
      "image/png": "[encoded data removed]",
      "text/plain": [
       "<Figure size 288x288 with 1 Axes>"
      ]
     },
     "metadata": {
      "needs_background": "light"
     },
     "output_type": "display_data"
    },
    {
     "name": "stdout",
     "output_type": "stream",
     "text": [
      "Label: 1\n",
      "Prediction: 1\n",
      "\n",
      "Image: 174\n"
     ]
    },
    {
     "data": {
      "text/plain": [
       "<Figure size 432x288 with 0 Axes>"
      ]
     },
     "metadata": {},
     "output_type": "display_data"
    },
    {
     "data": {
      "image/png": "[encoded data removed]",
      "text/plain": [
       "<Figure size 288x288 with 1 Axes>"
      ]
     },
     "metadata": {
      "needs_background": "light"
     },
     "output_type": "display_data"
    },
    {
     "name": "stdout",
     "output_type": "stream",
     "text": [
      "Label: 1\n",
      "Prediction: 1\n",
      "\n"
     ]
    }
   ],
   "source": [
    "index1=155\n",
    "index2=175\n",
    "NN = MNI_NN\n",
    "DATA = DMNI\n",
    "plot_test(index1,index2,NN,DATA)"
   ]
  },
  {
   "cell_type": "code",
   "execution_count": null,
   "metadata": {},
   "outputs": [],
   "source": []
  }
 ],
 "metadata": {
  "kernelspec": {
   "display_name": "Python 3",
   "language": "python",
   "name": "python3"
  },
  "language_info": {
   "codemirror_mode": {
    "name": "ipython",
    "version": 3
   },
   "file_extension": ".py",
   "mimetype": "text/x-python",
   "name": "python",
   "nbconvert_exporter": "python",
   "pygments_lexer": "ipython3",
   "version": "3.7.0"
  }
 },
 "nbformat": 4,
 "nbformat_minor": 2
}
