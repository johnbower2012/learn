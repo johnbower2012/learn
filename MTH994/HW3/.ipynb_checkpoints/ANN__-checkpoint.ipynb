{
 "cells": [
  {
   "cell_type": "code",
   "execution_count": 1,
   "metadata": {},
   "outputs": [],
   "source": [
    "import numpy as np\n",
    "import pandas as pd\n",
    "import matplotlib.pyplot as plt \n",
    "%matplotlib inline \n",
    "\n",
    "def read_dataset(feature_file, label_file):\n",
    "    ''' Read data set in *.csv to data frame in Pandas'''\n",
    "    df_X = pd.read_csv(feature_file)\n",
    "    df_y = pd.read_csv(label_file)\n",
    "    X = df_X.values # convert values in dataframe to numpy array (features)\n",
    "    y = df_y.values # convert values in dataframe to numpy array (label)\n",
    "    return X, y\n",
    "\n",
    "\n",
    "def normalize_features(X_train, X_test):\n",
    "    from sklearn.preprocessing import StandardScaler #import libaray\n",
    "    scaler = StandardScaler() # call an object function\n",
    "    scaler.fit(X_train) # calculate mean, std in X_train\n",
    "    X_train_norm = scaler.transform(X_train) # apply normalization on X_train\n",
    "    X_test_norm = scaler.transform(X_test) # we use the same normalization on X_test\n",
    "    return X_train_norm, X_test_norm\n",
    "\n",
    "\n",
    "def one_hot_encoder(y_train, y_test):\n",
    "    ''' convert label to a vector under one-hot-code fashion '''\n",
    "    from sklearn import preprocessing\n",
    "    lb = preprocessing.LabelBinarizer()\n",
    "    lb.fit(y_train)\n",
    "    y_train_ohe = lb.transform(y_train)\n",
    "    y_test_ohe = lb.transform(y_test)\n",
    "    return y_train_ohe, y_test_ohe"
   ]
  },
  {
   "cell_type": "markdown",
   "metadata": {},
   "source": [
    "## Input layer has 64 neurons: $x_1, x_2, ..., x_{64}$.\n",
    "\n",
    "## We construct a deep neural network with 1 hidden layer.\n",
    "\n",
    "## In 1st hidden layer:\n",
    "\n",
    "## $z_1 = xW_1 + b_1$\n",
    "\n",
    "## $W_1\\in \\mathbb{R}^{64\\times N_1}$ ,$N_1$ : # of neurons in this hidden layer\n",
    "\n",
    "## $b_1 \\in \\mathbb{R}^{N_1}$, $z_1 \\in \\mathbb{R}^{N_1}$\n",
    "\n",
    "## Use $\\tanh$ as an activation function\n",
    "\n",
    "## $f_1 = \\tanh(z_1) \\in \\mathbb{R}^{N_1}$\n",
    "\n",
    "## In Output layer:\n",
    "\n",
    "## $z_2 = f_1W_2 + b_2$\n",
    "\n",
    "## $W_2 \\in \\mathbb{R}^{N_1\\times 10}, b_2 \\in \\mathbb{R}^{10}$, $z_2 \\in \\mathbb{R}^{10}$\n",
    "\n",
    "## Use softmax function to get probability for each class\n",
    "\n",
    "## $\\hat{y} = \\mathbf{softmax}(z_2)$\n",
    "\n",
    "## $\\displaystyle \\mathbf{softmax}(z)_j = \\frac{e^{z_j}}{\\sum_k e^{z_k}}$"
   ]
  },
  {
   "cell_type": "markdown",
   "metadata": {},
   "source": [
    "## Back propagation\n",
    "\n",
    "## Loss function (cross-entropy loss)\n",
    "\n",
    "## $L = -\\sum_n\\sum_{i\\in C} y_{n, i}\\log(\\hat{y}_{n, i})$\n",
    "\n",
    "## We need to consider the following derivatives \n",
    "\n",
    "## $\\displaystyle\\frac{\\partial L}{\\partial W_1}, \\displaystyle\\frac{\\partial L}{\\partial b_1},\n",
    "\\displaystyle\\frac{\\partial L}{\\partial W_2}, \\displaystyle\\frac{\\partial L}{\\partial b_2}$\n",
    "\n",
    "## $\\displaystyle\\frac{\\partial L}{\\partial W_2} = \\frac{\\partial L}{\\partial{\\hat{y}}}\\cdot\\frac{\\partial\\hat{y}}{\\partial{z_2}}\n",
    "\\cdot\\frac{\\partial z_2}{\\partial W_2} = f_1^T (\\hat{y}-y)  $\n",
    "\n",
    "## $\\displaystyle\\frac{\\partial L}{\\partial b_2} = \\frac{\\partial L}{\\partial{\\hat{y}}}\\cdot\\frac{\\partial\\hat{y}}{\\partial{z_2}}\n",
    "\\cdot\\frac{\\partial z_2}{\\partial b_2} = \\hat{y}-y$\n",
    "\n",
    "## $\\displaystyle\\frac{\\partial L}{\\partial W_1} = \\frac{\\partial L}{\\partial{\\hat{y}}}\\cdot\\frac{\\partial\\hat{y}}{\\partial{z_2}}\n",
    "\\cdot\\frac{\\partial z_2}{\\partial f_1}\\cdot \\frac{\\partial f_1}{\\partial z_1}\\cdot \\frac{\\partial z_1}{\\partial W_1} =\n",
    "x^T\\left[(1-f^2_1)(\\hat{y}-y)W_2^T\\right]$\n",
    "\n",
    "## $\\displaystyle\\frac{\\partial L}{\\partial b_1} = \\frac{\\partial L}{\\partial{\\hat{y}}}\\cdot\\frac{\\partial\\hat{y}}{\\partial{z_2}}\n",
    "\\cdot\\frac{\\partial z_2}{\\partial f_1}\\cdot \\frac{\\partial f_1}{\\partial z_1}\\cdot \\frac{\\partial z_1}{\\partial b_1} =\n",
    "(1-f^2_1))(\\hat{y}-y)W_2^T$\n",
    "\n",
    "## Let $d_1 = (1-f^2_1)(\\hat{y}-y)W_2^T, d_2 = \\hat{y}-y$\n",
    "\n",
    "## $\\displaystyle\\frac{\\partial L}{\\partial W_2} = f_1^T d_2$\n",
    "\n",
    "## $\\displaystyle\\frac{\\partial L}{\\partial b_2} = d_2$\n",
    "\n",
    "## $\\displaystyle\\frac{\\partial L}{\\partial W_1} = x^T d_1$\n",
    "\n",
    "## $\\displaystyle\\frac{\\partial L}{\\partial b_1} = d_1$"
   ]
  },
  {
   "cell_type": "code",
   "execution_count": 2,
   "metadata": {
    "scrolled": false
   },
   "outputs": [],
   "source": [
    "class varlayer_NN:\n",
    "    def __init__(self, DATA, DACT, DLOSS, hidden_layer=[100], lr=0.01):\n",
    "        self.X = X # features\n",
    "        self.y = y # labels (targets) in one-hot-encoder\n",
    "        self.activation = DACT['F']\n",
    "        self.derivative = DACT['D']\n",
    "        self.lossfunction = DLOSS['F']\n",
    "        self.lossderivative = DLOSS['D']\n",
    "        self.regularization_parameter = DLOSS['RP']\n",
    "        self.hidden_layer = hidden_layer # number of neuron in the hidden layer\n",
    "        # In this example, we only consider 1 hidden layer\n",
    "        self.lr = lr # learning rate\n",
    "        # Initialize weights\n",
    "        self.in_nn = X.shape[1] # number of neurons in the inpute layer              \n",
    "        self.out_nn = y.shape[1]\n",
    "        \n",
    "        self.W = []\n",
    "        self.b = []\n",
    "        self.W.append(np.random.randn(self.in_nn,self.hidden_layer[0])/np.sqrt(self.in_nn))\n",
    "        self.b.append(np.zeros((1,self.hidden_layer[0])))\n",
    "        for i in range(0,len(self.hidden_layer)-1):\n",
    "            self.W.append(np.random.randn(self.hidden_layer[i],self.hidden_layer[i+1])/np.sqrt(self.hidden_layer[i]))\n",
    "            self.b.append(np.zeros((1,self.hidden_layer[i+1])))\n",
    "\n",
    "        self.W.append(np.random.randn(self.hidden_layer[-1],self.out_nn)/np.sqrt(self.hidden_layer[-1]))\n",
    "        self.b.append(np.zeros((1,self.out_nn)))\n",
    "        self.C = [self.W,self.b]\n",
    "        \n",
    "    def feed_forward(self):\n",
    "        # hidden layer\n",
    "        self.z = []\n",
    "        self.f = []\n",
    "        ## z_1 = xW_1 + b_1\n",
    "        self.z.append(np.dot(self.X, self.W[0]) + self.b[0])\n",
    "        ## activation function :  f_1 = \\tanh(z_1)\n",
    "        self.f.append(self.activation(self.z[0]))\n",
    "        for i in range(0,len(self.hidden_layer)-1):\n",
    "            self.z.append(np.dot(self.f[i], self.W[i+1]) + self.b[i+1])\n",
    "            self.f.append(self.activation(self.z[-1]))\n",
    "        # output layer\n",
    "        ## z_2 = f_1W_2 + b_2\n",
    "        self.z.append(np.dot(self.f[-1], self.W[-1]) + self.b[-1])\n",
    "        #\\hat{y} = softmax}(z_2)$\n",
    "        self.y_hat = softmax(self.z[-1])\n",
    "        \n",
    "        \n",
    "    def back_propagation(self):\n",
    "        d = []\n",
    "        d.insert(0,self.lossderivative(self.y,self.y_hat,self.regularization_parameter,self.C))\n",
    "        dW = []\n",
    "        db = []\n",
    "        for i in range(len(self.hidden_layer)):\n",
    "            dW.insert(0,self.f[-1-i].T.dot(d[0]))\n",
    "            db.insert(0,np.sum(d[0],axis=0,keepdims=True))\n",
    "            d.insert(0,self.derivative(self.f[-1-i])*(d[0].dot(self.W[-1-i].T)))\n",
    "        dW.insert(0,self.X.T.dot(d[0]))\n",
    "        db.insert(0,np.sum(d[0],axis=0,keepdims=True))\n",
    "        \n",
    "        \n",
    "        # Update the gradident descent\n",
    "        if(self.regularization_parameter==None):\n",
    "            for i in range(len(self.W)):            \n",
    "                self.W[i] = self.W[i] - self.lr * dW[i]\n",
    "                self.b[i] = self.b[i] - self.lr * db[i]\n",
    "        else:\n",
    "            for i in range(len(self.W)):\n",
    "                self.W[i] = self.W[i] - self.lr * dW[i]\n",
    "                if(self.W[i].all()!=0):\n",
    "                    self.W[i] = self.W[i] - self.lr * self.W[i]/np.sqrt(np.sum(self.W[i]*self.W[i]))\n",
    "                self.b[i] = self.b[i] - self.lr * db[i]\n",
    "                if(self.b[i].all()!=0):\n",
    "                    self.b[i] = self.b[i] - self.lr * self.b[i]/np.sqrt(np.sum(self.b[i]*self.b[i]))\n",
    "\n",
    "\n",
    "    def callloss(self):\n",
    "        #  $L = -\\sum_n\\sum_{i\\in C} y_{n, i}\\log(\\hat{y}_{n, i})$\n",
    "        # calculate y_hat\n",
    "        self.feed_forward()\n",
    "        self.loss = self.lossfunction(self.y,self.y_hat,self.regularization_parameter,self.C)\n",
    "\n",
    "\n",
    "    def predict(self, X_test):\n",
    "        # Use feed forward to calculat y_hat_test\n",
    "        # hidden layer\n",
    "        ## z_1 = xW_1 + b_1\n",
    "        z = np.dot(X_test, self.W[0]) + self.b[0]\n",
    "        for i in range(1,len(self.hidden_layer)+1):\n",
    "            f = self.activation(z)\n",
    "            z = np.dot(f,self.W[i]) + self.b[i]\n",
    "        y_hat_test = softmax(z)\n",
    "\n",
    "        # the rest is similar to the logistic regression\n",
    "        labels = [0, 1, 2, 3, 4, 5, 6, 7, 8, 9]\n",
    "        num_test_samples = X_test.shape[0]\n",
    "        # find which index gives us the highest probability\n",
    "        ypred = np.zeros(num_test_samples, dtype=int)\n",
    "        for i in range(num_test_samples):\n",
    "            ypred[i] = labels[np.argmax(y_hat_test[i,:])]\n",
    "        return ypred\n",
    "    \n",
    "    def train(self,epochs):\n",
    "        for i in range(epochs):\n",
    "            self.feed_forward()\n",
    "            self.back_propagation()\n",
    "            self.callloss()\n",
    "        \n",
    "def softmax(z):\n",
    "    exp_value = np.exp(z-np.amax(z, axis=1, keepdims=True)) # for stablility\n",
    "    # keepdims = True means that the output's dimension is the same as of z\n",
    "    softmax_scores = exp_value / np.sum(exp_value, axis=1, keepdims=True)\n",
    "    return softmax_scores\n",
    "\n",
    "def accuracy(ypred, yexact):\n",
    "    p = np.array(ypred == yexact, dtype = int)\n",
    "    return np.sum(p)/float(len(yexact))"
   ]
  },
  {
   "cell_type": "code",
   "execution_count": 3,
   "metadata": {},
   "outputs": [],
   "source": [
    "#ACTIVATIONS\n",
    "def TANH(X):\n",
    "    return np.tanh(X)\n",
    "\n",
    "def TANH_dx(X):\n",
    "    return 1 - np.tanh(X)*np.tanh(X)\n",
    "\n",
    "def RELU(X):\n",
    "    dx = np.copy(X)\n",
    "    dx[X<0] = 0\n",
    "    return dx\n",
    "\n",
    "def RELU_dx(X):\n",
    "    dx = np.copy(X)\n",
    "    dx[dx<0]=0\n",
    "    dx[dx>0]=1\n",
    "    return dx\n",
    "\n",
    "#LOSSES\n",
    "def CrossEntropyLoss(y,yhat,regularization_parameter=None,C=None):\n",
    "    return -np.sum(y*np.log(yhat + 1e-6))\n",
    "\n",
    "def CrossEntropyLoss_dx(y,yhat,regularization_parameter=None,C=None): #What?\n",
    "    return yhat - y\n",
    "\n",
    "def RegularizedLoss(y,yhat,regularization_parameter,C):\n",
    "    loss = 0\n",
    "    hinge = 1 - y*yhat\n",
    "    hinge[hinge<0]=0\n",
    "    loss = np.sum(hinge)\n",
    "    loss *= regularization_parameter\n",
    "    temp = 0\n",
    "    for item in C:\n",
    "        for elem in item:\n",
    "            temp += np.sum(elem*elem)\n",
    "    return loss + np.sqrt(temp)\n",
    "\n",
    "def RegularizedLoss_dx(y,yhat,regularization_parameter,C):\n",
    "    hinge = 1 - y*yhat\n",
    "    summed = np.sum(y*yhat,axis=1,keepdims=True)\n",
    "    loss = np.zeros(hinge.shape)\n",
    "    for i in range(hinge.shape[0]):\n",
    "        for j in range(hinge.shape[1]):\n",
    "            if(hinge[i][j]>0):\n",
    "                loss[i][j] = yhat[i][j]*(summed[i,:] - y[i][j])\n",
    "    loss *= regularization_parameter\n",
    "    return loss\n",
    "\n",
    "def RegularizedLoss2(y,yhat,regularization_parameter,C):\n",
    "    loss = 0\n",
    "    hinge = 1 - y*yhat\n",
    "    hinge = np.sum(hinge,axis=1,keepdims=True)\n",
    "    hinge[hinge<0]=0\n",
    "    loss = np.sum(hinge)\n",
    "    loss *= regularization_parameter\n",
    "    temp = 0\n",
    "    for item in C:\n",
    "        for elem in item:\n",
    "            temp += np.sum(elem*elem)\n",
    "    return loss + np.sqrt(temp)\n",
    "\n",
    "def RegularizedLoss_dx2(y,yhat,regularization_parameter,C):\n",
    "    hinge = 1 - y*yhat\n",
    "    hinge = np.sum(hinge,axis=1,keepdims=True)\n",
    "    summed = np.sum(y*yhat,axis=1,keepdims=True)\n",
    "    loss = np.zeros(y.shape)\n",
    "    for i in range(hinge.shape[0]):\n",
    "        if(hinge[i]>0):\n",
    "            loss[i] = yhat[i]*(summed[i] - y[i])\n",
    "    loss *= regularization_parameter\n",
    "    return loss"
   ]
  },
  {
   "cell_type": "code",
   "execution_count": 29,
   "metadata": {
    "scrolled": false
   },
   "outputs": [],
   "source": [
    "# RUN\n",
    "def RunOne(dlib,layerslist,epochs,lr=0.1):\n",
    "    data = dlib['DATA']\n",
    "    dact = dlib['DACT']\n",
    "    dloss = dlib['DLOSS']\n",
    "    print('Running TwoLayer NN with:\\n   layer1:',layerslist[0],'\\n   epochs:', epochs,'\\n   lr:', lr)\n",
    "    print('   ',dlib['DACT'])\n",
    "    print('   ',dlib['DLOSS'],'\\n')\n",
    "    for l1 in layerslist[0]:\n",
    "            hidden_layer=[l1]\n",
    "            myNN = varlayer_NN(data['X_train_norm'], data['y_train_ohe'], dact, dloss, hidden_layer, lr) \n",
    "            myNN.train(epochs)\n",
    "            y_pred = myNN.predict(data['X_test_norm'])\n",
    "            print('Accuracy of our model_TEST: %f%%' % (100*accuracy(y_pred, data['y_test'].ravel())))\n",
    "            print('   NEURONS: %d'%(l1))\n",
    "\n",
    "def RunTwo(dlib,layerslist,epochs,lr=0.1):\n",
    "    data = dlib['DATA']\n",
    "    dact = dlib['DACT']\n",
    "    dloss = dlib['DLOSS']\n",
    "    print('Running TwoLayer NN with:\\n   layer1:',layerslist[0],'\\n   layer2:',layerslist[1],'\\n   epochs:', epochs,'\\n   lr:', lr)\n",
    "    print('   ',dlib['DACT'])\n",
    "    print('   ',dlib['DLOSS'],'\\n')\n",
    "    for l1 in layerslist[0]:\n",
    "        for l2 in layerslist[1]:\n",
    "            hidden_layer=[l1,l2]\n",
    "            myNN = varlayer_NN(data['X_train_norm'], data['y_train_ohe'], dact, dloss, hidden_layer, lr) \n",
    "            myNN.train(epochs)\n",
    "            y_pred = myNN.predict(data['X_test_norm'])\n",
    "            print('Accuracy of our model_TEST: %f%%' % (100*accuracy(y_pred, data['y_test'].ravel())))\n",
    "            print('   NEURONS: %d %d'%(l1,l2))"
   ]
  },
  {
   "cell_type": "code",
   "execution_count": 8,
   "metadata": {},
   "outputs": [],
   "source": [
    "#PLOTTING\n",
    "import matplotlib.pyplot as plt\n",
    "import IPython\n",
    "%matplotlib inline\n",
    "\n",
    "def plot_digit(feature_vector):\n",
    "    dim = int(np.sqrt(len(feature_vector)))\n",
    "    plt.gray()\n",
    "    plt.matshow(feature_vector.reshape(dim,dim))\n",
    "    plt.show()\n",
    "\n",
    "def plot_test(index1,index2,Clearn,DATA):\n",
    "    for index in range(index1,index2):\n",
    "        print('Image:',index)\n",
    "        plot_digit(DATA['X_test'][index])\n",
    "        ypred = Clearn.predict(DATA['X_test_norm'][index].reshape(1,-1))\n",
    "        print('Label:', int(DATA['y_test'][index]))\n",
    "        print('Prediction:',int(ypred))\n",
    "        print('')\n",
    "        \n",
    "def tally_matrix(y_test,pred):\n",
    "    total=np.zeros(10)\n",
    "    tal=np.zeros((10,10))\n",
    "    for i in range(len(y_test)):\n",
    "        y=int(y_test[i])\n",
    "        p=int(pred[i])\n",
    "        tal[y][p]+=1\n",
    "        total[y]+=1\n",
    "    for index in range(tal.shape[0]):\n",
    "        tal[index] *= 100/total[index]\n",
    "    return tal\n",
    "        \n",
    "def tally_matrix_no_diag(y_test,pred):\n",
    "    total=np.zeros(10)\n",
    "    tal=np.zeros((10,10))\n",
    "    for i in range(len(y_test)):\n",
    "        y=int(y_test[i])\n",
    "        p=int(pred[i])\n",
    "        if(y!=p):\n",
    "            tal[y][p]+=1\n",
    "        total[y]+=1\n",
    "    for index in range(tal.shape[0]):\n",
    "        tal[index] *= 100/total[index]\n",
    "    return tal"
   ]
  },
  {
   "cell_type": "code",
   "execution_count": 9,
   "metadata": {},
   "outputs": [
    {
     "name": "stderr",
     "output_type": "stream",
     "text": [
      "/usr/local/lib/python3.7/site-packages/sklearn/utils/validation.py:590: DataConversionWarning: Data with input dtype int64 was converted to float64 by StandardScaler.\n",
      "  warnings.warn(msg, DataConversionWarning)\n",
      "/usr/local/lib/python3.7/site-packages/sklearn/utils/validation.py:590: DataConversionWarning: Data with input dtype int64 was converted to float64 by StandardScaler.\n",
      "  warnings.warn(msg, DataConversionWarning)\n",
      "/usr/local/lib/python3.7/site-packages/sklearn/utils/validation.py:590: DataConversionWarning: Data with input dtype int64 was converted to float64 by StandardScaler.\n",
      "  warnings.warn(msg, DataConversionWarning)\n"
     ]
    }
   ],
   "source": [
    "# main\n",
    "X_train_digits, y_train_digits = read_dataset('Digits_X_train.csv', 'Digits_y_train.csv')\n",
    "X_test_digits, y_test_digits = read_dataset('Digits_X_test.csv', 'Digits_y_test.csv')\n",
    "X_train_norm_digits, X_test_norm_digits = normalize_features(X_train_digits, X_test_digits)\n",
    "y_train_ohe_digits, y_test_ohe_digits = one_hot_encoder(y_train_digits, y_test_digits)\n",
    "\n",
    "X_train_mnist, y_train_mnist = read_dataset('MNIST_X_train.csv', 'MNIST_y_train.csv')\n",
    "X_test_mnist, y_test_mnist = read_dataset('MNIST_X_test.csv', 'MNIST_y_test.csv')\n",
    "X_train_norm_mnist, X_test_norm_mnist = normalize_features(X_train_mnist, X_test_mnist)\n",
    "y_train_ohe_mnist, y_test_ohe_mnist = one_hot_encoder(y_train_mnist, y_test_mnist)"
   ]
  },
  {
   "cell_type": "code",
   "execution_count": 10,
   "metadata": {},
   "outputs": [],
   "source": [
    "#Libraries\n",
    "#ACTIVATIONS\n",
    "DRELU = {'F':RELU,'D':RELU_dx}\n",
    "DTANH = {'F':TANH,'D':TANH_dx}\n",
    "\n",
    "#LOSS\n",
    "DENTR = {'F':CrossEntropyLoss,'D':CrossEntropyLoss_dx,'RP':0.1}\n",
    "DREGU = {'F':RegularizedLoss,'D':RegularizedLoss_dx,'RP':0.1}\n",
    "DREGU2 = {'F':RegularizedLoss2,'D':RegularizedLoss_dx2,'RP':0.1}\n",
    "\n",
    "#DATA\n",
    "DDIG = {'X_train':X_train_digits,'X_train_norm':X_train_norm_digits,'y_train':y_train_digits,'y_train_ohe':y_train_ohe_digits,\\\n",
    "        'X_test':X_test_digits,'X_test_norm':X_test_norm_digits,'y_test':y_test_digits,'y_test_ohe':y_test_ohe_digits}\n",
    "DMNI = {'X_train':X_train_mnist,'X_train_norm':X_train_norm_mnist,'y_train':y_train_mnist,'y_train_ohe':y_train_ohe_mnist,\\\n",
    "        'X_test':X_test_mnist,'X_test_norm':X_test_norm_mnist,'y_test':y_test_mnist,'y_test_ohe':y_test_ohe_mnist}"
   ]
  },
  {
   "cell_type": "code",
   "execution_count": null,
   "metadata": {},
   "outputs": [
    {
     "name": "stdout",
     "output_type": "stream",
     "text": [
      "Running TwoLayer NN with:\n",
      "   layer1: [20, 50, 80] \n",
      "   epochs: 200 \n",
      "   lr: 0.01\n",
      "    {'F': <function RELU at 0x11ed44840>, 'D': <function RELU_dx at 0x11ed448c8>}\n",
      "    {'F': <function RegularizedLoss2 at 0x11ed44b70>, 'D': <function RegularizedLoss_dx2 at 0x11ed44bf8>, 'RP': 0.1} \n",
      "\n"
     ]
    }
   ],
   "source": [
    "DATA = DDIG\n",
    "DACT = DRELU\n",
    "DLOSS = DREGU2\n",
    "DLIB = {'DATA':DATA,\\\n",
    "        'DACT':DRELU,\\\n",
    "        'DLOSS':DREGU2}\n",
    "\n",
    "L1 = [20,50,80]\n",
    "L2 = [20,50,80]\n",
    "layers = [L1,L2]\n",
    "epoch_num = 200\n",
    "lr=0.01\n",
    "\n",
    "\n",
    "layers = [L1]\n",
    "RunOne(DLIB,layers,epoch_num,lr)\n",
    "print('')\n",
    "layers = [L1,L2]\n",
    "RunTwo(DLIB,layers,epoch_num,lr)"
   ]
  },
  {
   "cell_type": "code",
   "execution_count": 28,
   "metadata": {},
   "outputs": [
    {
     "name": "stdout",
     "output_type": "stream",
     "text": [
      "Running TwoLayer NN with:\n",
      "   layer1: [20, 50, 80] \n",
      "   layer2: [20, 50, 80] \n",
      "   epochs: 200 \n",
      "   lr: 0.01\n",
      "    {'F': <function RELU at 0x11ed44840>, 'D': <function RELU_dx at 0x11ed448c8>}\n",
      "    {'F': <function RegularizedLoss2 at 0x11ed44b70>, 'D': <function RegularizedLoss_dx2 at 0x11ed44bf8>, 'RP': 0.1} \n",
      "\n",
      "Accuracy of our model_TEST: 89.800000%\n",
      "   NEURONS: 20 20\n",
      "Accuracy of our model_TEST: 89.000000%\n",
      "   NEURONS: 20 50\n",
      "Accuracy of our model_TEST: 90.000000%\n",
      "   NEURONS: 20 80\n",
      "Accuracy of our model_TEST: 90.000000%\n",
      "   NEURONS: 50 20\n",
      "Accuracy of our model_TEST: 89.800000%\n",
      "   NEURONS: 50 50\n",
      "Accuracy of our model_TEST: 91.200000%\n",
      "   NEURONS: 50 80\n",
      "Accuracy of our model_TEST: 90.000000%\n",
      "   NEURONS: 80 20\n",
      "Accuracy of our model_TEST: 90.400000%\n",
      "   NEURONS: 80 50\n",
      "Accuracy of our model_TEST: 91.200000%\n",
      "   NEURONS: 80 80\n"
     ]
    }
   ],
   "source": [
    "DATA = DMNI\n",
    "DACT = DRELU\n",
    "DLOSS = DREGU2\n",
    "DLIB = {'DATA':DATA,\\\n",
    "        'DACT':DRELU,\\\n",
    "        'DLOSS':DREGU2}\n",
    "\n",
    "L1 = [20,50,80]\n",
    "L2 = [20,50,80]\n",
    "layers = [L1,L2]\n",
    "epoch_num = 200\n",
    "lr=0.01\n",
    "\n",
    "RunTwo(DLIB,layers,epoch_num,lr)"
   ]
  },
  {
   "cell_type": "code",
   "execution_count": 8,
   "metadata": {
    "scrolled": false
   },
   "outputs": [
    {
     "name": "stdout",
     "output_type": "stream",
     "text": [
      "--FINAL--:\n",
      "Accuracy of our model_TEST: 92.666667%\n",
      "   NEURONS: 20 20\n",
      "\n",
      "--FINAL--:\n",
      "Accuracy of our model_TEST: 96.222222%\n",
      "   NEURONS: 20 50\n",
      "\n",
      "--FINAL--:\n",
      "Accuracy of our model_TEST: 94.000000%\n",
      "   NEURONS: 20 80\n",
      "\n",
      "--FINAL--:\n",
      "Accuracy of our model_TEST: 94.888889%\n",
      "   NEURONS: 50 20\n",
      "\n",
      "--FINAL--:\n",
      "Accuracy of our model_TEST: 97.111111%\n",
      "   NEURONS: 50 50\n",
      "\n",
      "--FINAL--:\n",
      "Accuracy of our model_TEST: 93.777778%\n",
      "   NEURONS: 50 80\n",
      "\n",
      "--FINAL--:\n",
      "Accuracy of our model_TEST: 75.777778%\n",
      "   NEURONS: 80 20\n",
      "\n",
      "--FINAL--:\n",
      "Accuracy of our model_TEST: 74.000000%\n",
      "   NEURONS: 80 50\n",
      "\n",
      "--FINAL--:\n",
      "Accuracy of our model_TEST: 96.888889%\n",
      "   NEURONS: 80 80\n",
      "\n"
     ]
    }
   ],
   "source": [
    "# model\n",
    "DATA = DDIG\n",
    "DACT = DRELU\n",
    "DLOSS = DREGU2\n",
    "\n",
    "L1 = [20,50,80]\n",
    "L2 = [20,50,80]\n",
    "DLAYERS = [L1,L2]\n",
    "epoch_num = 200\n",
    "#np.set_printoptions(precision=2)\n",
    "#plt.gray()\n",
    "\n",
    "for l1 in L1:\n",
    "    for l2 in L2:\n",
    "        hidden_layer=[l1,l2]\n",
    "        myNN = varlayer_NN(DATA['X_train_norm'], DATA['y_train_ohe'], DACT, DLOSS, hidden_layer, lr=0.1) \n",
    "        for i in range(epoch_num):\n",
    "            myNN.feed_forward()\n",
    "            myNN.back_propagation()\n",
    "            myNN.callloss()\n",
    "            #if ((i+1)%20 == 0):\n",
    "            #    print('epoch = %d, current loss = %.5f' % (i+1, myNN.loss))\n",
    "            #    y_pred = myNN.predict(DATA['X_test_norm'])\n",
    "            #    print('   Accuracy of our model_TEST: %d %d: %f%%' % (l1,l2,100*accuracy(y_pred, DATA['y_test'].ravel())))\n",
    "            #    y_pred = myNN.predict(DATA['X_train_norm'])\n",
    "            #    print('   Accuracy of our model_TRAIN: %d %d: %f%%' % (l1,l2,100*accuracy(y_pred, DATA['y_train'].ravel())))\n",
    "        y_pred = myNN.predict(DATA['X_test_norm'])\n",
    "        print('--FINAL--:')\n",
    "        print('Accuracy of our model_TEST: %f%%' % (100*accuracy(y_pred, DATA['y_test'].ravel())))\n",
    "        print('   NEURONS: %d %d'%(l1,l2))\n",
    "        #y_pred = myNN.predict(DATA['X_train_norm'])\n",
    "        #print('   Accuracy of our model_TRAIN: %d %d: %f%%' % (l1,l2,100*accuracy(y_pred, DATA['y_train'].ravel())))\n",
    "        #tally_mat=tally_matrix(DATA['y_test'],y_pred)\n",
    "        #print(tally_mat)\n",
    "        #plt.matshow(tally_mat)\n",
    "        #tally_mat=tally_matrix_no_diag(DATA['y_test'],y_pred)\n",
    "        #plt.matshow(tally_mat)\n",
    "        #plt.show()    \n",
    "        print('')"
   ]
  },
  {
   "cell_type": "code",
   "execution_count": 24,
   "metadata": {
    "scrolled": false
   },
   "outputs": [
    {
     "name": "stdout",
     "output_type": "stream",
     "text": [
      "--FINAL--:\n",
      "Accuracy of our model_TEST: 90.000000%\n",
      "   NEURONS: 20 20\n",
      "\n",
      "--FINAL--:\n",
      "Accuracy of our model_TEST: 89.400000%\n",
      "   NEURONS: 20 50\n",
      "\n",
      "--FINAL--:\n",
      "Accuracy of our model_TEST: 88.600000%\n",
      "   NEURONS: 20 80\n",
      "\n",
      "--FINAL--:\n",
      "Accuracy of our model_TEST: 89.800000%\n",
      "   NEURONS: 50 20\n",
      "\n",
      "--FINAL--:\n",
      "Accuracy of our model_TEST: 89.200000%\n",
      "   NEURONS: 50 50\n",
      "\n",
      "--FINAL--:\n",
      "Accuracy of our model_TEST: 89.600000%\n",
      "   NEURONS: 50 80\n",
      "\n",
      "--FINAL--:\n",
      "Accuracy of our model_TEST: 89.800000%\n",
      "   NEURONS: 80 20\n",
      "\n",
      "--FINAL--:\n",
      "Accuracy of our model_TEST: 91.200000%\n",
      "   NEURONS: 80 50\n",
      "\n",
      "--FINAL--:\n",
      "Accuracy of our model_TEST: 89.400000%\n",
      "   NEURONS: 80 80\n",
      "\n"
     ]
    }
   ],
   "source": [
    "# model\n",
    "DATA = DMNI\n",
    "DACT = DRELU\n",
    "DLOSS = DREGU2\n",
    "\n",
    "L1 = [20,50,80]\n",
    "L2 = [20,50,80]\n",
    "DLAYERS = [L1,L2]\n",
    "epoch_num = 200\n",
    "#np.set_printoptions(precision=2)\n",
    "#plt.gray()\n",
    "\n",
    "for l1 in L1:\n",
    "    for l2 in L2:\n",
    "        hidden_layer=[l1,l2]\n",
    "        myNN = varlayer_NN(DATA['X_train_norm'], DATA['y_train_ohe'], DACT, DLOSS, hidden_layer, lr=0.005) \n",
    "        for i in range(epoch_num):\n",
    "            myNN.feed_forward()\n",
    "            myNN.back_propagation()\n",
    "            myNN.callloss()\n",
    "            #if ((i+1)%50 == 0):\n",
    "            #    print('epoch = %d, current loss = %.5f' % (i+1, myNN.loss))\n",
    "            #    y_pred = myNN.predict(DATA['X_test'])\n",
    "            #    print('   Accuracy of our model_TEST: %d %d: %f%%' % (l1,l2,100*accuracy(y_pred, DATA['y_test'].ravel())))\n",
    "            #    y_pred = myNN.predict(DATA['X_train_norm'])\n",
    "            #    print('   Accuracy of our model_TRAIN: %d %d: %f%%' % (l1,l2,100*accuracy(y_pred, DATA['y_train'].ravel())))\n",
    "        y_pred = myNN.predict(DATA['X_test_norm'])\n",
    "        print('--FINAL--:')\n",
    "        print('Accuracy of our model_TEST: %f%%' % (100*accuracy(y_pred, DATA['y_test'].ravel())))\n",
    "        print('   NEURONS: %d %d'%(l1,l2))\n",
    "        #y_pred = myNN.predict(DATA['X_train'])\n",
    "        #print('   Accuracy of our model_TRAIN: %d %d: %f%%' % (l1,l2,100*accuracy(y_pred, DATA['y_train'].ravel())))\n",
    "        #tally_mat=tally_matrix(DATA['y_test'],y_pred)\n",
    "        #print(tally_mat)\n",
    "        #plt.matshow(tally_mat)\n",
    "        #tally_mat=tally_matrix_no_diag(DATA['y_test'],y_pred)\n",
    "        #plt.matshow(tally_mat)\n",
    "        #plt.show()    \n",
    "        print('')"
   ]
  },
  {
   "cell_type": "code",
   "execution_count": 27,
   "metadata": {
    "scrolled": false
   },
   "outputs": [
    {
     "name": "stdout",
     "output_type": "stream",
     "text": [
      "Image: 55\n"
     ]
    },
    {
     "data": {
      "text/plain": [
       "<Figure size 432x288 with 0 Axes>"
      ]
     },
     "metadata": {},
     "output_type": "display_data"
    },
    {
     "data": {
      "image/png": "[encoded data removed]",
      "text/plain": [
       "<Figure size 288x288 with 1 Axes>"
      ]
     },
     "metadata": {
      "needs_background": "light"
     },
     "output_type": "display_data"
    },
    {
     "name": "stdout",
     "output_type": "stream",
     "text": [
      "Label: 2\n",
      "Prediction: 2\n",
      "\n",
      "Image: 56\n"
     ]
    },
    {
     "data": {
      "text/plain": [
       "<Figure size 432x288 with 0 Axes>"
      ]
     },
     "metadata": {},
     "output_type": "display_data"
    },
    {
     "data": {
      "image/png": "[encoded data removed]",
      "text/plain": [
       "<Figure size 288x288 with 1 Axes>"
      ]
     },
     "metadata": {
      "needs_background": "light"
     },
     "output_type": "display_data"
    },
    {
     "name": "stdout",
     "output_type": "stream",
     "text": [
      "Label: 0\n",
      "Prediction: 0\n",
      "\n",
      "Image: 57\n"
     ]
    },
    {
     "data": {
      "text/plain": [
       "<Figure size 432x288 with 0 Axes>"
      ]
     },
     "metadata": {},
     "output_type": "display_data"
    },
    {
     "data": {
      "image/png": "[encoded data removed]",
      "text/plain": [
       "<Figure size 288x288 with 1 Axes>"
      ]
     },
     "metadata": {
      "needs_background": "light"
     },
     "output_type": "display_data"
    },
    {
     "name": "stdout",
     "output_type": "stream",
     "text": [
      "Label: 6\n",
      "Prediction: 6\n",
      "\n",
      "Image: 58\n"
     ]
    },
    {
     "data": {
      "text/plain": [
       "<Figure size 432x288 with 0 Axes>"
      ]
     },
     "metadata": {},
     "output_type": "display_data"
    },
    {
     "data": {
      "image/png": "[encoded data removed]",
      "text/plain": [
       "<Figure size 288x288 with 1 Axes>"
      ]
     },
     "metadata": {
      "needs_background": "light"
     },
     "output_type": "display_data"
    },
    {
     "name": "stdout",
     "output_type": "stream",
     "text": [
      "Label: 7\n",
      "Prediction: 7\n",
      "\n",
      "Image: 59\n"
     ]
    },
    {
     "data": {
      "text/plain": [
       "<Figure size 432x288 with 0 Axes>"
      ]
     },
     "metadata": {},
     "output_type": "display_data"
    },
    {
     "data": {
      "image/png": "[encoded data removed]",
      "text/plain": [
       "<Figure size 288x288 with 1 Axes>"
      ]
     },
     "metadata": {
      "needs_background": "light"
     },
     "output_type": "display_data"
    },
    {
     "name": "stdout",
     "output_type": "stream",
     "text": [
      "Label: 1\n",
      "Prediction: 1\n",
      "\n"
     ]
    }
   ],
   "source": [
    "index1=55\n",
    "index2=60\n",
    "DATA=DMNI\n",
    "plot_test(index1,index2,myNN,DATA)"
   ]
  },
  {
   "cell_type": "code",
   "execution_count": null,
   "metadata": {},
   "outputs": [],
   "source": []
  }
 ],
 "metadata": {
  "kernelspec": {
   "display_name": "Python 3",
   "language": "python",
   "name": "python3"
  },
  "language_info": {
   "codemirror_mode": {
    "name": "ipython",
    "version": 3
   },
   "file_extension": ".py",
   "mimetype": "text/x-python",
   "name": "python",
   "nbconvert_exporter": "python",
   "pygments_lexer": "ipython3",
   "version": "3.7.0"
  }
 },
 "nbformat": 4,
 "nbformat_minor": 2
}
