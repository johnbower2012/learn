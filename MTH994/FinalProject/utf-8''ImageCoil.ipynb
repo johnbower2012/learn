{
 "cells": [
  {
   "cell_type": "code",
   "execution_count": 1,
   "metadata": {},
   "outputs": [],
   "source": [
    "import numpy as np\n",
    "import pandas as pd\n",
    "import matplotlib.pyplot as plt \n",
    "%matplotlib inline \n",
    "\n",
    "def read_dataset(feature_file, label_file):\n",
    "    ''' Read data set in *.csv to data frame in Pandas'''\n",
    "    df_X = pd.read_csv(feature_file)\n",
    "    df_y = pd.read_csv(label_file)\n",
    "    X = df_X.values # convert values in dataframe to numpy array (features)\n",
    "    y = df_y.values # convert values in dataframe to numpy array (label)\n",
    "    return X, y\n",
    "\n",
    "\n",
    "def normalize_features(X_train, X_test):\n",
    "    from sklearn.preprocessing import StandardScaler #import libaray\n",
    "    scaler = StandardScaler() # call an object function\n",
    "    scaler.fit(X_train) # calculate mean, std in X_train\n",
    "    X_train_norm = scaler.transform(X_train) # apply normalization on X_train\n",
    "    X_test_norm = scaler.transform(X_test) # we use the same normalization on X_test\n",
    "    return X_train_norm, X_test_norm\n",
    "\n",
    "\n",
    "def one_hot_encoder(y_train, y_test):\n",
    "    ''' convert label to a vector under one-hot-code fashion '''\n",
    "    from sklearn import preprocessing\n",
    "    lb = preprocessing.LabelBinarizer()\n",
    "    lb.fit(y_train)\n",
    "    y_train_ohe = lb.transform(y_train)\n",
    "    y_test_ohe = lb.transform(y_test)\n",
    "    return y_train_ohe, y_test_ohe\n",
    "\n",
    "def accuracy(ypred, yexact):\n",
    "    p = np.array(ypred == yexact, dtype = int)\n",
    "    return np.sum(p)/float(len(yexact))"
   ]
  },
  {
   "cell_type": "code",
   "execution_count": 2,
   "metadata": {},
   "outputs": [],
   "source": [
    "#PLOTTING\n",
    "import matplotlib.pyplot as plt\n",
    "import IPython\n",
    "%matplotlib inline\n",
    "\n",
    "def plot_digit(feature_vector):\n",
    "    dim = int(np.sqrt(len(feature_vector)))\n",
    "    plt.gray()\n",
    "    plt.matshow(feature_vector.reshape(dim,dim))\n",
    "    plt.show()\n",
    "\n",
    "def plot_test(index1,index2,clearn,X,Xn,y):\n",
    "    for index in range(index1,index2):\n",
    "        print('Image:',index)\n",
    "        plot_digit(X[index])\n",
    "        ypred = clearn.predict(Xn[index].reshape(1,-1))\n",
    "        print('Label:', int(y[index]))\n",
    "        print('Prediction:',int(ypred))\n",
    "        print('')\n",
    "        \n",
    "def tally_matrix(y_test,pred):\n",
    "    length = np.max(y_test)\n",
    "    total=np.zeros(length)\n",
    "    tal=np.zeros((length,length))\n",
    "    for i in range(len(y_test)):\n",
    "        y=int(y_test[i]-1)\n",
    "        p=int(pred[i]-1)\n",
    "        tal[y][p]+=1\n",
    "        total[y]+=1\n",
    "    for index in range(tal.shape[0]):\n",
    "        tal[index] *= 100/total[index]\n",
    "    return tal\n",
    "        \n",
    "def tally_matrix_no_diag(y_test,pred):\n",
    "    length = np.max(y_test)\n",
    "    total=np.zeros(length)\n",
    "    tal=np.zeros((length,length))\n",
    "    for i in range(len(y_test)):\n",
    "        y=int(y_test[i]-1)\n",
    "        p=int(pred[i]-1)\n",
    "        if(y!=p):\n",
    "            tal[y][p]+=1\n",
    "        total[y]+=1\n",
    "    for index in range(tal.shape[0]):\n",
    "        tal[index] *= 100/total[index]\n",
    "    return tal"
   ]
  },
  {
   "cell_type": "code",
   "execution_count": 3,
   "metadata": {},
   "outputs": [
    {
     "name": "stdout",
     "output_type": "stream",
     "text": [
      "(1199, 1024)\n",
      "(239, 1024)\n",
      "(1199, 1)\n",
      "(239, 1)\n",
      "1 20\n"
     ]
    }
   ],
   "source": [
    "X_train, y_train = read_dataset('X_train.csv', 'y_train.csv')\n",
    "X_test, y_test = read_dataset('X_test.csv', 'y_test.csv')\n",
    "X_train_norm, X_test_norm = normalize_features(X_train, X_test)\n",
    "y_train_ohe, y_test_ohe = one_hot_encoder(y_train, y_test)\n",
    "\n",
    "print(X_train.shape)\n",
    "print(X_test.shape)\n",
    "print(y_train.shape)\n",
    "print(y_test.shape)\n",
    "print(np.min(y_train),np.max(y_train))"
   ]
  },
  {
   "cell_type": "code",
   "execution_count": 7,
   "metadata": {
    "scrolled": false
   },
   "outputs": [
    {
     "name": "stdout",
     "output_type": "stream",
     "text": [
      "NeuralNetwork SGD 20N: 0.991632\n",
      "0.9916317991631799\n"
     ]
    }
   ],
   "source": [
    "from sklearn.neural_network import MLPClassifier\n",
    "from sklearn.metrics import confusion_matrix\n",
    "l1=20\n",
    "NN = MLPClassifier(solver='sgd',\\\n",
    "                        alpha=1e-5,\\\n",
    "                        hidden_layer_sizes=(l1),\\\n",
    "                        random_state=1,\\\n",
    "                        learning_rate_init=0.005,\\\n",
    "                        max_iter=200)        \n",
    "print('NeuralNetwork SGD %dN: %f' % (l1,NN.fit(X_train_norm, y_train.ravel()).score(X_test_norm, y_test.ravel())))\n",
    "\n",
    "NN.fit(X_train_norm, y_train.ravel())\n",
    "ypred = NN.predict(X_test_norm)\n",
    "print(accuracy(y_test.ravel(),ypred.ravel()))\n",
    "\n",
    "#plt.matshow(tally_matrix_no_diag(y_test.ravel(),ypred.ravel()))\n",
    "#plot_test(0,len(y_test),NN,X_test,X_test_norm,y_test.ravel())"
   ]
  },
  {
   "cell_type": "code",
   "execution_count": 29,
   "metadata": {},
   "outputs": [
    {
     "name": "stdout",
     "output_type": "stream",
     "text": [
      "NeuralNetwork LBFGS 20N: 0.979079\n",
      "0.9790794979079498\n"
     ]
    },
    {
     "data": {
      "text/plain": [
       "<matplotlib.image.AxesImage at 0x124d28c88>"
      ]
     },
     "execution_count": 29,
     "metadata": {},
     "output_type": "execute_result"
    },
    {
     "data": {
      "image/png": "[encoded data removed]",
      "text/plain": [
       "<Figure size 288x288 with 1 Axes>"
      ]
     },
     "metadata": {
      "needs_background": "light"
     },
     "output_type": "display_data"
    }
   ],
   "source": [
    "from sklearn.neural_network import MLPClassifier\n",
    "from sklearn.metrics import confusion_matrix\n",
    "l1=20\n",
    "NN = MLPClassifier(solver='lbfgs',\\\n",
    "                        alpha=1e-5,\\\n",
    "                        hidden_layer_sizes=(l1),\\\n",
    "                        random_state=1,\\\n",
    "                        learning_rate_init=0.005,\\\n",
    "                        max_iter=200)        \n",
    "print('NeuralNetwork LBFGS %dN: %f' % (l1,NN.fit(X_train_norm, y_train.ravel()).score(X_test_norm, y_test.ravel())))\n",
    "\n",
    "NN.fit(X_train_norm, y_train.ravel())\n",
    "ypred = NN.predict(X_test_norm)\n",
    "print(accuracy(y_test.ravel(),ypred.ravel()))\n",
    "\n",
    "plt.matshow(tally_matrix_no_diag(y_test.ravel(),ypred.ravel()))"
   ]
  },
  {
   "cell_type": "code",
   "execution_count": 28,
   "metadata": {
    "scrolled": false
   },
   "outputs": [
    {
     "name": "stdout",
     "output_type": "stream",
     "text": [
      "RandomForest 10N: 0.991632\n",
      "0.9832635983263598\n"
     ]
    },
    {
     "data": {
      "text/plain": [
       "<matplotlib.image.AxesImage at 0x123b39898>"
      ]
     },
     "execution_count": 28,
     "metadata": {},
     "output_type": "execute_result"
    },
    {
     "data": {
      "image/png": "[encoded data removed]",
      "text/plain": [
       "<Figure size 288x288 with 1 Axes>"
      ]
     },
     "metadata": {
      "needs_background": "light"
     },
     "output_type": "display_data"
    }
   ],
   "source": [
    "from sklearn.ensemble import RandomForestClassifier\n",
    "n = 10\n",
    "RandomForest = RandomForestClassifier(n_estimators=n)\n",
    "print('RandomForest %dN: %f' % (n, RandomForest.fit(X_train_norm, y_train.ravel()).score(X_test_norm, y_test.ravel())))\n",
    "\n",
    "RandomForest.fit(X_train_norm, y_train.ravel())\n",
    "ypred = RandomForest.predict(X_test_norm)\n",
    "print(accuracy(y_test.ravel(),ypred.ravel()))\n",
    "\n",
    "plt.matshow(tally_matrix_no_diag(y_test.ravel(),ypred.ravel()))"
   ]
  },
  {
   "cell_type": "code",
   "execution_count": 27,
   "metadata": {},
   "outputs": [
    {
     "name": "stdout",
     "output_type": "stream",
     "text": [
      "DecisionTree: 0.874477\n",
      "0.891213389121339\n"
     ]
    },
    {
     "data": {
      "text/plain": [
       "<matplotlib.image.AxesImage at 0x1237805f8>"
      ]
     },
     "execution_count": 27,
     "metadata": {},
     "output_type": "execute_result"
    },
    {
     "data": {
      "image/png": "[encoded data removed]",
      "text/plain": [
       "<Figure size 288x288 with 1 Axes>"
      ]
     },
     "metadata": {
      "needs_background": "light"
     },
     "output_type": "display_data"
    }
   ],
   "source": [
    "from sklearn import tree\n",
    "decisiontree = tree.DecisionTreeClassifier()\n",
    "print('DecisionTree: %f' %(decisiontree.fit(X_train_norm, y_train).score(X_test_norm,y_test.ravel())))\n",
    "\n",
    "decisiontree.fit(X_train_norm, y_train.ravel())\n",
    "ypred = decisiontree.predict(X_test_norm)\n",
    "print(accuracy(y_test.ravel(),ypred.ravel()))\n",
    "\n",
    "plt.matshow(tally_matrix_no_diag(y_test.ravel(),ypred.ravel()))"
   ]
  },
  {
   "cell_type": "code",
   "execution_count": 26,
   "metadata": {},
   "outputs": [
    {
     "name": "stdout",
     "output_type": "stream",
     "text": [
      "SupportVectorMachine: 0.987448\n",
      "0.9874476987447699\n"
     ]
    },
    {
     "data": {
      "text/plain": [
       "<matplotlib.image.AxesImage at 0x1234c27b8>"
      ]
     },
     "execution_count": 26,
     "metadata": {},
     "output_type": "execute_result"
    },
    {
     "data": {
      "image/png": "[encoded data removed]",
      "text/plain": [
       "<Figure size 288x288 with 1 Axes>"
      ]
     },
     "metadata": {
      "needs_background": "light"
     },
     "output_type": "display_data"
    }
   ],
   "source": [
    "from sklearn import svm\n",
    "SVM = svm.SVC(gamma='scale')\n",
    "print('SupportVectorMachine: %f' %(SVM.fit(X_train_norm, y_train.ravel()).score(X_test_norm,y_test.ravel())))\n",
    "\n",
    "SVM.fit(X_train_norm, y_train.ravel())\n",
    "ypred = SVM.predict(X_test_norm)\n",
    "print(accuracy(y_test.ravel(),ypred.ravel()))\n",
    "\n",
    "plt.matshow(tally_matrix_no_diag(y_test.ravel(),ypred.ravel()))"
   ]
  },
  {
   "cell_type": "code",
   "execution_count": 9,
   "metadata": {},
   "outputs": [
    {
     "name": "stdout",
     "output_type": "stream",
     "text": [
      "LinearSVM: 0.962343\n"
     ]
    },
    {
     "name": "stderr",
     "output_type": "stream",
     "text": [
      "/usr/local/lib/python3.7/site-packages/sklearn/svm/base.py:922: ConvergenceWarning: Liblinear failed to converge, increase the number of iterations.\n",
      "  \"the number of iterations.\", ConvergenceWarning)\n"
     ]
    }
   ],
   "source": [
    "from sklearn import svm\n",
    "LinearSVM = svm.LinearSVC()\n",
    "print('LinearSVM: %f' %(LinearSVM.fit(X_train_norm, y_train.ravel()).score(X_test_norm,y_test.ravel())))"
   ]
  },
  {
   "cell_type": "code",
   "execution_count": 33,
   "metadata": {},
   "outputs": [
    {
     "name": "stdout",
     "output_type": "stream",
     "text": [
      "GPR RBF: 0.962230\n"
     ]
    }
   ],
   "source": [
    "from sklearn.gaussian_process import GaussianProcessRegressor\n",
    "from sklearn.gaussian_process.kernels import RBF\n",
    "kernel = RBF()\n",
    "GRP = GaussianProcessRegressor(kernel=kernel,random_state=0)\n",
    "print('GPR RBF: %f' %(GRP.fit(X_train_norm, y_train.ravel()).score(X_test_norm,y_test.ravel())))\n"
   ]
  },
  {
   "cell_type": "code",
   "execution_count": 21,
   "metadata": {},
   "outputs": [
    {
     "name": "stdout",
     "output_type": "stream",
     "text": [
      "KNN 2N: 0.983264\n",
      "0.9832635983263598\n"
     ]
    },
    {
     "data": {
      "text/plain": [
       "<matplotlib.image.AxesImage at 0x123318470>"
      ]
     },
     "execution_count": 21,
     "metadata": {},
     "output_type": "execute_result"
    },
    {
     "data": {
      "image/png": "[encoded data removed]",
      "text/plain": [
       "<Figure size 288x288 with 1 Axes>"
      ]
     },
     "metadata": {
      "needs_background": "light"
     },
     "output_type": "display_data"
    }
   ],
   "source": [
    "from sklearn.neighbors import KNeighborsClassifier\n",
    "n=2\n",
    "NBRS = KNeighborsClassifier(n_neighbors=n, algorithm='ball_tree')\n",
    "print('KNN %dN: %f' %(n,NBRS.fit(X_train_norm, y_train.ravel()).score(X_test_norm,y_test.ravel())))\n",
    "\n",
    "NBRS.fit(X_train_norm, y_train.ravel())\n",
    "ypred = NBRS.predict(X_test_norm)\n",
    "print(accuracy(y_test.ravel(),ypred.ravel()))\n",
    "\n",
    "plt.matshow(tally_matrix_no_diag(y_test.ravel(),ypred.ravel()))"
   ]
  },
  {
   "cell_type": "code",
   "execution_count": null,
   "metadata": {},
   "outputs": [],
   "source": []
  },
  {
   "cell_type": "code",
   "execution_count": null,
   "metadata": {},
   "outputs": [],
   "source": []
  }
 ],
 "metadata": {
  "kernelspec": {
   "display_name": "Python 3",
   "language": "python",
   "name": "python3"
  },
  "language_info": {
   "codemirror_mode": {
    "name": "ipython",
    "version": 3
   },
   "file_extension": ".py",
   "mimetype": "text/x-python",
   "name": "python",
   "nbconvert_exporter": "python",
   "pygments_lexer": "ipython3",
   "version": "3.7.0"
  }
 },
 "nbformat": 4,
 "nbformat_minor": 2
}
