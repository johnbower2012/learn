{
 "cells": [
  {
   "cell_type": "code",
   "execution_count": 1,
   "metadata": {},
   "outputs": [],
   "source": [
    "import numpy as np\n",
    "import pandas as pd\n",
    "import matplotlib.pyplot as plt \n",
    "%matplotlib inline \n",
    "\n",
    "def read_dataset(feature_file, label_file):\n",
    "    ''' Read data set in *.csv to data frame in Pandas'''\n",
    "    df_X = pd.read_csv(feature_file)\n",
    "    df_y = pd.read_csv(label_file)\n",
    "    X = df_X.values # convert values in dataframe to numpy array (features)\n",
    "    y = df_y.values # convert values in dataframe to numpy array (label)\n",
    "    return X, y\n",
    "\n",
    "\n",
    "def normalize_features(X_train, X_test):\n",
    "    from sklearn.preprocessing import StandardScaler #import libaray\n",
    "    scaler = StandardScaler() # call an object function\n",
    "    scaler.fit(X_train) # calculate mean, std in X_train\n",
    "    X_train_norm = scaler.transform(X_train) # apply normalization on X_train\n",
    "    X_test_norm = scaler.transform(X_test) # we use the same normalization on X_test\n",
    "    return X_train_norm, X_test_norm\n",
    "\n",
    "\n",
    "def one_hot_encoder(y_train, y_test):\n",
    "    ''' convert label to a vector under one-hot-code fashion '''\n",
    "    from sklearn import preprocessing\n",
    "    lb = preprocessing.LabelBinarizer()\n",
    "    lb.fit(y_train)\n",
    "    y_train_ohe = lb.transform(y_train)\n",
    "    y_test_ohe = lb.transform(y_test)\n",
    "    return y_train_ohe, y_test_ohe\n",
    "\n",
    "def accuracy(ypred, yexact):\n",
    "    p = np.array(ypred == yexact, dtype = int)\n",
    "    return np.sum(p)/float(len(yexact))"
   ]
  },
  {
   "cell_type": "code",
   "execution_count": 2,
   "metadata": {},
   "outputs": [],
   "source": [
    "#PLOTTING\n",
    "import matplotlib.pyplot as plt\n",
    "import IPython\n",
    "%matplotlib inline\n",
    "\n",
    "def plot_digit(feature_vector):\n",
    "    dim = int(np.sqrt(len(feature_vector)))\n",
    "    plt.gray()\n",
    "    plt.matshow(feature_vector.reshape(dim,dim))\n",
    "    plt.show()\n",
    "\n",
    "def plot_test(index1,index2,clearn_,data_):\n",
    "    for index in range(index1,index2):\n",
    "        print('Image:',index)\n",
    "        plot_digit(data_['X_test'][index])\n",
    "        ypred = clearn_.predict(data_['X_test_norm'][index].reshape(1,-1))\n",
    "        print('Label:', int(data_['y_test'][index]))\n",
    "        print('Prediction:',int(ypred))\n",
    "        print('')\n",
    "        \n",
    "def tally_matrix(y_test,pred):\n",
    "    total=np.zeros(10)\n",
    "    tal=np.zeros((10,10))\n",
    "    for i in range(len(y_test)):\n",
    "        y=int(y_test[i])\n",
    "        p=int(pred[i])\n",
    "        tal[y][p]+=1\n",
    "        total[y]+=1\n",
    "    for index in range(tal.shape[0]):\n",
    "        tal[index] *= 100/total[index]\n",
    "    return tal\n",
    "        \n",
    "def tally_matrix_no_diag(y_test,pred):\n",
    "    total=np.zeros(10)\n",
    "    tal=np.zeros((10,10))\n",
    "    for i in range(len(y_test)):\n",
    "        y=int(y_test[i])\n",
    "        p=int(pred[i])\n",
    "        if(y!=p):\n",
    "            tal[y][p]+=1\n",
    "        total[y]+=1\n",
    "    for index in range(tal.shape[0]):\n",
    "        tal[index] *= 100/total[index]\n",
    "    return tal"
   ]
  },
  {
   "cell_type": "code",
   "execution_count": 3,
   "metadata": {
    "scrolled": false
   },
   "outputs": [
    {
     "name": "stdout",
     "output_type": "stream",
     "text": [
      "(1199, 1024)\n",
      "(239, 1024)\n",
      "1 20\n"
     ]
    }
   ],
   "source": [
    "# main\n",
    "X_train, y_train = read_dataset('X_train.csv', 'y_train.csv')\n",
    "X_test, y_test = read_dataset('X_test.csv', 'y_test.csv')\n",
    "X_train_norm, X_test_norm = normalize_features(X_train, X_test)\n",
    "y_train_ohe, y_test_ohe = one_hot_encoder(y_train, y_test)\n",
    "\n",
    "print(X_train.shape)\n",
    "print(X_test.shape)\n",
    "print(np.min(y_train),np.max(y_train))"
   ]
  },
  {
   "cell_type": "code",
   "execution_count": 4,
   "metadata": {
    "scrolled": false
   },
   "outputs": [],
   "source": [
    "#for i in range(30):\n",
    "#    print(y_train[i])\n",
    "#    plot_digit(X_train[i])"
   ]
  },
  {
   "cell_type": "code",
   "execution_count": 5,
   "metadata": {},
   "outputs": [
    {
     "name": "stdout",
     "output_type": "stream",
     "text": [
      "[15] [9]\n",
      "[18] [5]\n",
      "[5] [18]\n",
      "[2] [14]\n",
      "[6] [5]\n",
      "[8] [2]\n",
      "[4] [3]\n",
      "[7] [18]\n",
      "[16] [4]\n",
      "[10] [17]\n"
     ]
    },
    {
     "name": "stderr",
     "output_type": "stream",
     "text": [
      "/usr/local/lib/python3.7/site-packages/sklearn/neural_network/multilayer_perceptron.py:562: ConvergenceWarning: Stochastic Optimizer: Maximum iterations (200) reached and the optimization hasn't converged yet.\n",
      "  % self.max_iter, ConvergenceWarning)\n"
     ]
    },
    {
     "ename": "NameError",
     "evalue": "name 'l1' is not defined",
     "output_type": "error",
     "traceback": [
      "\u001b[0;31m---------------------------------------------------------------------------\u001b[0m",
      "\u001b[0;31mNameError\u001b[0m                                 Traceback (most recent call last)",
      "\u001b[0;32m<ipython-input-5-fcbfd844f3fc>\u001b[0m in \u001b[0;36m<module>\u001b[0;34m\u001b[0m\n\u001b[1;32m     11\u001b[0m     \u001b[0mprint\u001b[0m\u001b[0;34m(\u001b[0m\u001b[0my_test\u001b[0m\u001b[0;34m[\u001b[0m\u001b[0mi\u001b[0m\u001b[0;34m]\u001b[0m\u001b[0;34m,\u001b[0m\u001b[0my_train\u001b[0m\u001b[0;34m[\u001b[0m\u001b[0mi\u001b[0m\u001b[0;34m]\u001b[0m\u001b[0;34m)\u001b[0m\u001b[0;34m\u001b[0m\u001b[0m\n\u001b[1;32m     12\u001b[0m \u001b[0macc\u001b[0m \u001b[0;34m=\u001b[0m \u001b[0maccuracy\u001b[0m\u001b[0;34m(\u001b[0m\u001b[0mypred\u001b[0m\u001b[0;34m,\u001b[0m\u001b[0my_test\u001b[0m\u001b[0;34m)\u001b[0m\u001b[0;34m\u001b[0m\u001b[0m\n\u001b[0;32m---> 13\u001b[0;31m \u001b[0mprint\u001b[0m\u001b[0;34m(\u001b[0m\u001b[0ml1\u001b[0m\u001b[0;34m,\u001b[0m\u001b[0ml2\u001b[0m\u001b[0;34m,\u001b[0m\u001b[0macc\u001b[0m\u001b[0;34m)\u001b[0m\u001b[0;34m\u001b[0m\u001b[0m\n\u001b[0m",
      "\u001b[0;31mNameError\u001b[0m: name 'l1' is not defined"
     ]
    }
   ],
   "source": [
    "from sklearn.neural_network import MLPClassifier\n",
    "#for l1 in [20,50,100,400,600,1000]:\n",
    "#    for l2 in [20,50,100,400,600,1000]:\n",
    "clf = MLPClassifier(solver='sgd', \\\n",
    "                    alpha=1e-5,\\\n",
    "                    hidden_layer_sizes=(100,50), \\\n",
    "                    random_state=1)\n",
    "clf.fit(X_train_norm,y_train.ravel())\n",
    "ypred = clf.predict(X_test_norm)\n",
    "for i in range(10):\n",
    "    print(y_test[i],y_train[i])\n",
    "acc = accuracy(ypred,y_test)\n",
    "print(l1,l2,acc)\n"
   ]
  },
  {
   "cell_type": "code",
   "execution_count": null,
   "metadata": {},
   "outputs": [],
   "source": []
  }
 ],
 "metadata": {
  "kernelspec": {
   "display_name": "Python 3",
   "language": "python",
   "name": "python3"
  },
  "language_info": {
   "codemirror_mode": {
    "name": "ipython",
    "version": 3
   },
   "file_extension": ".py",
   "mimetype": "text/x-python",
   "name": "python",
   "nbconvert_exporter": "python",
   "pygments_lexer": "ipython3",
   "version": "3.7.0"
  }
 },
 "nbformat": 4,
 "nbformat_minor": 2
}
