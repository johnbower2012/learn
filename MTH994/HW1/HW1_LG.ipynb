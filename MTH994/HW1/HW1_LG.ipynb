{
 "cells": [
  {
   "cell_type": "markdown",
   "metadata": {},
   "source": [
    "# Homework 1\n",
    "## 2.2.a LASSO-regularized Logistic Regression model"
   ]
  },
  {
   "cell_type": "markdown",
   "metadata": {},
   "source": [
    "**Import pandas and numpy for data manipulation**\n",
    "\n",
    "Here we load the training and test data sets for flower identification and print their shapes to see the quantity of data."
   ]
  },
  {
   "cell_type": "code",
   "execution_count": 10,
   "metadata": {},
   "outputs": [
    {
     "name": "stdout",
     "output_type": "stream",
     "text": [
      "X_train shape:  (112, 2)\n",
      "y_train shape:  (112, 1)\n",
      "X_test shape:  (38, 2)\n",
      "y_test shape:  (38, 1)\n"
     ]
    }
   ],
   "source": [
    "import pandas as pd\n",
    "import numpy as np\n",
    "\n",
    "def read_dataset(feature_file, label_file):\n",
    "    '''Read data set in *.csv format to dataframe in Pandas'''\n",
    "    df_X = pd.read_csv(feature_file)\n",
    "    df_Y = pd.read_csv(label_file)\n",
    "    X = df_X.values #convert values in dataframe to np array\n",
    "    y = df_Y.values\n",
    "    return X,y\n",
    "\n",
    "folder=''#'hw_data/logistic_regression/' #data folder name\n",
    "file_id='iris' #data file_id\n",
    "\n",
    "xtr_name = folder+file_id+'_X_train.csv' #specify X.vs.Y and Train.vs.Test\n",
    "ytr_name = folder+file_id+'_y_train.csv'\n",
    "\n",
    "X_train,y_train = read_dataset(xtr_name,ytr_name)\n",
    "\n",
    "xte_name = folder+file_id+'_X_test.csv' #specify X.vs.Y and Train.vs.Test\n",
    "yte_name = folder+file_id+'_y_test.csv'\n",
    "\n",
    "X_test,y_test = read_dataset(xte_name,yte_name)\n",
    "\n",
    "print('X_train shape: ',X_train.shape)\n",
    "print('y_train shape: ',y_train.shape)\n",
    "print('X_test shape: ',X_test.shape)\n",
    "print('y_test shape: ',y_test.shape)"
   ]
  },
  {
   "cell_type": "markdown",
   "metadata": {},
   "source": [
    "**Normalize the features and train the model**\n",
    "\n",
    "Here we run through multiple values of alpha to find the optimal value. "
   ]
  },
  {
   "cell_type": "code",
   "execution_count": 11,
   "metadata": {},
   "outputs": [
    {
     "name": "stdout",
     "output_type": "stream",
     "text": [
      "Alpha: 100000000000.0\n",
      "coeffs: 0.03926629918799787 -1.29223380034508\n",
      "intercept: -1.0988533486376528\n",
      "accuracy: 63.15789473684211\n",
      "\n",
      "Alpha: 1000000.0\n",
      "coeffs: 0.03916425314790213 -1.2923355660845577\n",
      "intercept: -1.0988331592228828\n",
      "accuracy: 63.15789473684211\n",
      "\n",
      "Alpha: 1000.0\n",
      "coeffs: 0.0391616742465867 -1.2920725532359836\n",
      "intercept: -1.0989425010533473\n",
      "accuracy: 63.15789473684211\n",
      "\n",
      "Alpha: 10\n",
      "coeffs: 0.03876416436044233 -1.280564403561626\n",
      "intercept: -1.0948113426135966\n",
      "accuracy: 63.15789473684211\n",
      "\n",
      "Alpha: 5\n",
      "coeffs: 0.038471506253737756 -1.2691668427459388\n",
      "intercept: -1.0910080037649612\n",
      "accuracy: 63.15789473684211\n",
      "\n",
      "Alpha: 1\n",
      "coeffs: 0.03587897813227513 -1.187592362513913\n",
      "intercept: -1.0634088121346965\n",
      "accuracy: 63.15789473684211\n",
      "\n",
      "Alpha: 0.5\n",
      "coeffs: 0.03343190178479075 -1.1040154567087364\n",
      "intercept: -1.0367550950868336\n",
      "accuracy: 63.15789473684211\n",
      "\n",
      "Alpha: 0.1\n",
      "coeffs: 0.023374438085168623 -0.7452265227353256\n",
      "intercept: -0.9324491465112735\n",
      "accuracy: 63.15789473684211\n",
      "\n",
      "Alpha: 0.01\n",
      "coeffs: 0.008186195337756401 -0.18597685633632988\n",
      "intercept: -0.8372096674957779\n",
      "accuracy: 57.89473684210527\n",
      "\n",
      "Alpha: 0.0001\n",
      "coeffs: 0.0001210470633637745 -0.0022885982582127183\n",
      "intercept: -0.8277496346621298\n",
      "accuracy: 57.89473684210527\n",
      "\n"
     ]
    }
   ],
   "source": [
    "def normalize_features(X_train, X_test):\n",
    "    from sklearn.preprocessing import StandardScaler\n",
    "    scaler = StandardScaler() #call a function\n",
    "    scaler.fit(X_train) #calculate mean, std in X train\n",
    "    X_train_norm = scaler.transform(X_train) #apply normalization\n",
    "    X_test_norm = scaler.transform(X_test)\n",
    "    return X_train_norm, X_test_norm\n",
    "\n",
    "X_train_norm,X_test_norm = normalize_features(X_train,X_test) #normal sets\n",
    "\n",
    "def logreg_model(X_train, y_train, X_test, y_test, alpha):\n",
    "    from sklearn.linear_model import LogisticRegression\n",
    "    myreg = LogisticRegression(C=alpha,solver='saga') # initialize the model, 'saga' chosen for L1 prior/LASSO\n",
    "    myreg.fit(X_train,y_train.ravel()) #learn from training data\n",
    "    y_pred = myreg.predict(X_test) #predict the test data, X_test: features\n",
    "    \n",
    "    coeffs = myreg.coef_\n",
    "    intercept = myreg.intercept_\n",
    "    \n",
    "    return y_pred, coeffs, intercept, myreg\n",
    "\n",
    "def accuracy(y_pred,y_test):\n",
    "    return 100 - np.sum(abs(y_pred - y_test.T))/y_pred.shape[0]*100\n",
    "\n",
    "for alpha in [10e10,10e5,10e2,10,5,1,0.5,0.1,10e-3,10e-5]:\n",
    "    y_pred,coeffs,intercept,logreg = logreg_model(X_train_norm, y_train, X_test_norm, y_test, alpha)\n",
    "\n",
    "    print('Alpha:', alpha)\n",
    "    print('coeffs:',coeffs[0][0],coeffs[0][1])\n",
    "    print('intercept:',intercept[0])\n",
    "    print('accuracy:', accuracy(y_pred,y_test))\n",
    "    print('')"
   ]
  },
  {
   "cell_type": "markdown",
   "metadata": {},
   "source": [
    "## Predictor:\n",
    "\n",
    "$\\alpha=1000$,\n",
    "\n",
    "$p_c(x) = \\sigma(c^Tx) = 1.0/(1+exp(-1.099 + 0.0392x_1 - 1.292x_2))$\n",
    "\n",
    "accuracy: 63.16%"
   ]
  },
  {
   "cell_type": "code",
   "execution_count": 12,
   "metadata": {},
   "outputs": [
    {
     "name": "stdout",
     "output_type": "stream",
     "text": [
      "class0: 22\n",
      "total: 38\n",
      "22/38: 0.578947\n"
     ]
    }
   ],
   "source": [
    "class0 = sum(y_test)\n",
    "total = y_test.size\n",
    "class0 = total - class0\n",
    "fraction = class0[0]/total\n",
    "print('class0:',class0[0]) #How many belong to class zero?\n",
    "print('total:',total) #How many total?\n",
    "print('22/38: %f' %fraction)"
   ]
  },
  {
   "cell_type": "markdown",
   "metadata": {},
   "source": [
    "**Varying alpha**\n",
    "\n",
    "Varying across alpha, we see that small values of alpha causes worse classification, and in fact misclassify all in class one as class zero. All inputs are interpretted as class zero. This can be seen by plotting the decision boundary, and supported by class0 being 22/38 = 57.9% and the correct identification rate also being 57.9%.\n",
    "\n",
    "Alpha values larger than 0.1 all have similar identification rates, but shift the decision boundary to the limit at approximately alpha=1000. "
   ]
  },
  {
   "cell_type": "code",
   "execution_count": 16,
   "metadata": {
    "scrolled": true
   },
   "outputs": [],
   "source": [
    "def plot_decision_boundary(X, y, logreg):\n",
    "    import matplotlib.pyplot as plt\n",
    "    %matplotlib inline\n",
    "    x1_min, x1_max = X[:, 0].min() - .5, X[:, 0].max() + .5\n",
    "    x2_min, x2_max = X[:, 1].min() - .5, X[:, 1].max() + .5\n",
    "    h = .02  # step size in the mesh\n",
    "    xx, yy = np.meshgrid(np.arange(x1_min, x1_max, h), np.arange(x2_min, x2_max, h))\n",
    "    pred_labels = logreg.predict(np.c_[xx.ravel(), yy.ravel()])\n",
    "    # Plot the predicted value\n",
    "    pred_labels= pred_labels.reshape(xx.shape)\n",
    "    plt.figure(1, figsize=(10, 8))\n",
    "    plt.pcolormesh(xx, yy, pred_labels, cmap=plt.cm.Paired)\n",
    "    # Plot data set\n",
    "    # Plot also the training points\n",
    "    plt.scatter(X[:, 0], X[:, 1], c=y.ravel(), edgecolors='k', s=100, cmap=plt.cm.Paired)\n",
    "    plt.xlabel('Sepal length')\n",
    "    plt.ylabel('Sepal width')"
   ]
  },
  {
   "cell_type": "markdown",
   "metadata": {},
   "source": [
    "## 2.2.b Decision Boundary\n",
    "\n",
    "Here we see small alpha lowers the decision boundary so that all data are classified as type zero, or blue. Additionally, any alpha above 1000 fails to push the decision boundary above the one shown below."
   ]
  },
  {
   "cell_type": "code",
   "execution_count": 14,
   "metadata": {},
   "outputs": [
    {
     "data": {
      "image/png": "[encoded data removed]",
      "text/plain": [
       "<Figure size 720x576 with 1 Axes>"
      ]
     },
     "metadata": {
      "needs_background": "light"
     },
     "output_type": "display_data"
    }
   ],
   "source": [
    "alpha = 0.001\n",
    "y_pred,coeffs,intercept,logreg = logreg_model(X_train_norm, y_train, X_test_norm, y_test, alpha)\n",
    "plot_decision_boundary(X_test_norm, y_test, logreg)"
   ]
  },
  {
   "cell_type": "code",
   "execution_count": 15,
   "metadata": {},
   "outputs": [
    {
     "data": {
      "image/png": "[encoded data removed]",
      "text/plain": [
       "<Figure size 720x576 with 1 Axes>"
      ]
     },
     "metadata": {
      "needs_background": "light"
     },
     "output_type": "display_data"
    }
   ],
   "source": [
    "alpha = 1000\n",
    "y_pred,coeffs,intercept,logreg = logreg_model(X_train_norm, y_train, X_test_norm, y_test, alpha)\n",
    "plot_decision_boundary(X_test_norm, y_test, logreg)"
   ]
  }
 ],
 "metadata": {
  "kernelspec": {
   "display_name": "Python 2",
   "language": "python",
   "name": "python2"
  },
  "language_info": {
   "codemirror_mode": {
    "name": "ipython",
    "version": 3
   },
   "file_extension": ".py",
   "mimetype": "text/x-python",
   "name": "python",
   "nbconvert_exporter": "python",
   "pygments_lexer": "ipython3",
   "version": "3.7.0"
  }
 },
 "nbformat": 4,
 "nbformat_minor": 2
}
