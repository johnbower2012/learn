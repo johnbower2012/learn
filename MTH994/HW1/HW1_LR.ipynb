{
 "cells": [
  {
   "cell_type": "markdown",
   "metadata": {},
   "source": [
    "# Homework 1\n",
    "## 2.1.a Linear Regression Model"
   ]
  },
  {
   "cell_type": "markdown",
   "metadata": {},
   "source": [
    "**Import pandas and numpy for data manipulation**\n",
    "\n",
    "Here we load the training and test data sets for flower identification and print their shapes to see the quantity of data."
   ]
  },
  {
   "cell_type": "code",
   "execution_count": 10,
   "metadata": {},
   "outputs": [
    {
     "name": "stdout",
     "output_type": "stream",
     "text": [
      "X_train shape:  (379, 12)\n",
      "y_train shape:  (379, 1)\n",
      "X_test shape:  (127, 12)\n",
      "y_test shape:  (127, 1)\n"
     ]
    }
   ],
   "source": [
    "import pandas as pd\n",
    "import numpy as np\n",
    "\n",
    "def read_dataset(feature_file, label_file):\n",
    "    '''Read data set in *.csv format to dataframe in Pandas'''\n",
    "    df_X = pd.read_csv(feature_file)\n",
    "    df_Y = pd.read_csv(label_file)\n",
    "    X = df_X.values #convert values in dataframe to np array\n",
    "    y = df_Y.values\n",
    "    return X,y\n",
    "\n",
    "folder=''#'hw_data/linear_regression/' #data folder name\n",
    "file_id='house' #data file_id\n",
    "\n",
    "xtr_name = folder+file_id+'_X_train.csv' #specify X.vs.Y and Train.vs.Test\n",
    "ytr_name = folder+file_id+'_y_train.csv'\n",
    "\n",
    "X_train,y_train = read_dataset(xtr_name,ytr_name)\n",
    "\n",
    "xte_name = folder+file_id+'_X_test.csv' #specify X.vs.Y and Train.vs.Test\n",
    "yte_name = folder+file_id+'_y_test.csv'\n",
    "\n",
    "X_test,y_test = read_dataset(xte_name,yte_name)\n",
    "\n",
    "print('X_train shape: ',X_train.shape)\n",
    "print('y_train shape: ',y_train.shape)\n",
    "print('X_test shape: ',X_test.shape)\n",
    "print('y_test shape: ',y_test.shape)"
   ]
  },
  {
   "cell_type": "markdown",
   "metadata": {},
   "source": [
    "**Normalize the features and train the model**\n",
    "\n"
   ]
  },
  {
   "cell_type": "code",
   "execution_count": 11,
   "metadata": {},
   "outputs": [
    {
     "name": "stdout",
     "output_type": "stream",
     "text": [
      "[[-0.94680434  1.07013479 -0.07673632  0.65256803 -1.91225543  2.50105885\n",
      "  -0.09761049 -3.06137125  1.84837216 -1.94588004 -2.09785905 -3.86696361]]\n",
      "[22.60870712]\n",
      "RMSE LR: 5.524\n"
     ]
    }
   ],
   "source": [
    "def normalize_features(X_train, X_test):\n",
    "    from sklearn.preprocessing import StandardScaler\n",
    "    scaler = StandardScaler() #call a function\n",
    "    scaler.fit(X_train) #calculate mean, std in X train\n",
    "    X_train_norm = scaler.transform(X_train) #apply normalization\n",
    "    X_test_norm = scaler.transform(X_test)\n",
    "    return X_train_norm, X_test_norm\n",
    "\n",
    "X_train_norm,X_test_norm = normalize_features(X_train,X_test)\n",
    "\n",
    "def LR_model(X_train, y_train, X_test, y_test):\n",
    "    from sklearn.linear_model import LinearRegression #import LR from sklearn\n",
    "    myreg = LinearRegression() #initialize model\n",
    "    myreg.fit(X_train,y_train) #learn from training data\n",
    "    y_pred = myreg.predict(X_test) #predict the test data, X_test: features\n",
    "    coeffs = myreg.coef_\n",
    "    intercept = myreg.intercept_\n",
    "    return y_pred, coeffs, intercept\n",
    "\n",
    "lr_y_pred,lr_coeffs,lr_intercept = LR_model(X_train_norm, y_train, X_test_norm, y_test)\n",
    "    \n",
    "print(lr_coeffs)\n",
    "print(lr_intercept)\n",
    "\n",
    "def RMSE(y_pred,y_test):\n",
    "    diff = y_pred - y_test\n",
    "    return np.sqrt(sum(diff*diff)/y_pred.shape[0])\n",
    "\n",
    "print('RMSE LR: %.3f' % RMSE(lr_y_pred,y_test))"
   ]
  },
  {
   "cell_type": "markdown",
   "metadata": {},
   "source": [
    "## LR Predictor:\n",
    "$p_c(x) = c^Tx = 22.608 - 0.9468x_1 + 1.070 x_2 - 0.0767 x_3 + 0.653 x_4 - 1.912 x_5 +  2.501 x_6 - 0.0976 x_7 - 3.061 x_8 + 1.848 x_9 - 1.946 x_{10} - 2.0979 x_{11} - 3.867 x_{12}$\n"
   ]
  },
  {
   "cell_type": "code",
   "execution_count": 12,
   "metadata": {},
   "outputs": [
    {
     "name": "stdout",
     "output_type": "stream",
     "text": [
      "Alpha:  1000000.0\n",
      "coeffs:  [[-0.00127328  0.00137247 -0.0018363   0.00054036 -0.00156882  0.00243561\n",
      "  -0.00142592  0.00094756 -0.00143139 -0.0017578  -0.00193653 -0.00262877]]\n",
      "inter:  [22.60870712]\n",
      "RMSE Ridge: 9.036\n",
      "\n",
      "Alpha:  10000.0\n",
      "coeffs:  [[-0.11560199  0.11120815 -0.14944465  0.05162853 -0.12510401  0.21856883\n",
      "  -0.11354514  0.06665489 -0.11438094 -0.14359153 -0.17015473 -0.22912673]]\n",
      "inter:  [22.60870712]\n",
      "RMSE Ridge: 8.431\n",
      "\n",
      "Alpha:  10\n",
      "coeffs:  [[-0.88112184  0.91104557 -0.28128664  0.68036997 -1.60706267  2.5958823\n",
      "  -0.16099884 -2.72188247  1.26137323 -1.4115571  -2.03525838 -3.68849267]]\n",
      "inter:  [22.60870712]\n",
      "RMSE Ridge: 5.584\n",
      "\n",
      "Alpha:  1\n",
      "coeffs:  [[-0.93646105  1.04666649 -0.11689654  0.65793216 -1.87202795  2.51539236\n",
      "  -0.1080716  -3.02323198  1.743768   -1.84151738 -2.08942741 -3.8461857 ]]\n",
      "inter:  [22.60870712]\n",
      "RMSE Ridge: 5.532\n",
      "\n",
      "Alpha:  0.1\n",
      "coeffs:  [[-0.94368071  1.06413321 -0.0927244   0.65451306 -1.90448831  2.50456347\n",
      "  -0.10081502 -3.05743072  1.8111704  -1.90483003 -2.0958275  -3.86381338]]\n",
      "inter:  [22.60870712]\n",
      "RMSE Ridge: 5.526\n",
      "\n",
      "Alpha:  0.001\n",
      "coeffs:  [[-0.94413286  1.06543056 -0.09161249  0.65440597 -1.90771597  2.50363203\n",
      "  -0.10024875 -3.06138886  1.81511915 -1.90780515 -2.0965343  -3.86580156]]\n",
      "inter:  [22.60870712]\n",
      "RMSE Ridge: 5.526\n",
      "\n",
      "Alpha:  1e-05\n",
      "coeffs:  [[-0.94446806  1.06597407 -0.09046292  0.6542842  -1.90811551  2.50320349\n",
      "  -0.1000894  -3.06129787  1.81852427 -1.91144033 -2.09659059 -3.86602546]]\n",
      "inter:  [22.60870712]\n",
      "RMSE Ridge: 5.526\n",
      "\n"
     ]
    }
   ],
   "source": [
    "def Ridge_LR_model(X_train, y_train, X_test, y_test, alpha):\n",
    "    # Ridge regression to avoid overfitting\n",
    "    from sklearn.linear_model import Ridge #tikhonov regularization\n",
    "    myRidge = Ridge(alpha=alpha,solver='saga') #stochastic solver\n",
    "    myRidge.fit(X_train,y_train)\n",
    "    y_pred = myRidge.predict(X_test)\n",
    "    coeffs = myRidge.coef_\n",
    "    intercept = myRidge.intercept_\n",
    "    return y_pred, coeffs, intercept\n",
    "\n",
    "for alpha in [10e5,10e3,10,1,10e-2,10e-4,10e-6]:\n",
    "    ridge_y_pred,ridge_coeffs,ridge_intercept = Ridge_LR_model(X_train_norm, y_train, X_test_norm, y_test, alpha)\n",
    "    print('Alpha: ',alpha)\n",
    "    print('coeffs: ',ridge_coeffs)\n",
    "    print('inter: ',ridge_intercept)\n",
    "    print('RMSE Ridge: %.3f' % RMSE(ridge_y_pred,y_test))\n",
    "    print('')"
   ]
  },
  {
   "cell_type": "markdown",
   "metadata": {},
   "source": [
    "## Varying Alpha\n",
    "\n",
    "As alpha becomes too large, it suppresses the coefficients and becomes less accurate. However, below alpha ~ 10, the ridge model becomes approximately equivalent in terms of performance. In fact, it does slightly worse with an RMSE value of 5.526 vs the non-ridge regression of 5.524. The data would seem to be well behaved for the ridge to have little influence in the final result."
   ]
  },
  {
   "cell_type": "markdown",
   "metadata": {},
   "source": [
    "## Ridge Predictor:\n",
    "\n",
    "$\\alpha = 1.0$\n",
    "\n",
    "$p_c(x) = c^Tx = 22.609 - 0.936 x_1 + 1.047 x_2 - 0.118 x_3 + 0.658 x_4 - 1.872 x_5 + 2.516 x_6 - 0.108 x_7 - 3.023 x_8 + 1.743 x_9 - 1.840 x_{10} - 2.089 x_{11} - 3.847 x_{12}$\n",
    "\n",
    "## LR Predictor:\n",
    "$p_c(x) = c^Tx = 22.608 - 0.9468x_1 + 1.070 x_2 - 0.0767 x_3 + 0.653 x_4 - 1.912 x_5 +  2.501 x_6 - 0.0976 x_7 - 3.061 x_8 + 1.848 x_9 - 1.946 x_{10} - 2.0979 x_{11} - 3.867 x_{12}$"
   ]
  }
 ],
 "metadata": {
  "kernelspec": {
   "display_name": "Python 3",
   "language": "python",
   "name": "python3"
  },
  "language_info": {
   "codemirror_mode": {
    "name": "ipython",
    "version": 3
   },
   "file_extension": ".py",
   "mimetype": "text/x-python",
   "name": "python",
   "nbconvert_exporter": "python",
   "pygments_lexer": "ipython3",
   "version": "3.7.0"
  }
 },
 "nbformat": 4,
 "nbformat_minor": 2
}
