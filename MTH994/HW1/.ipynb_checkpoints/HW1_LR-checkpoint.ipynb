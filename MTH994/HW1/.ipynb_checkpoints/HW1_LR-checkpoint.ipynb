{
 "cells": [
  {
   "cell_type": "markdown",
   "metadata": {},
   "source": [
    "# Homework 1\n",
    "## 2.1.a Linear Regression Model"
   ]
  },
  {
   "cell_type": "markdown",
   "metadata": {},
   "source": [
    "**Import pandas and numpy for data manipulation**\n",
    "\n",
    "Here we load the training and test data sets for flower identification and print their shapes to see the quantity of data."
   ]
  },
  {
   "cell_type": "code",
   "execution_count": 4,
   "metadata": {},
   "outputs": [
    {
     "name": "stdout",
     "output_type": "stream",
     "text": [
      "X_train shape:  (379, 12)\n",
      "y_train shape:  (379, 1)\n",
      "X_test shape:  (127, 12)\n",
      "y_test shape:  (127, 1)\n"
     ]
    }
   ],
   "source": [
    "import pandas as pd\n",
    "import numpy as np\n",
    "\n",
    "def read_dataset(feature_file, label_file):\n",
    "    '''Read data set in *.csv format to dataframe in Pandas'''\n",
    "    df_X = pd.read_csv(feature_file)\n",
    "    df_Y = pd.read_csv(label_file)\n",
    "    X = df_X.values #convert values in dataframe to np array\n",
    "    y = df_Y.values\n",
    "    return X,y\n",
    "\n",
    "folder='hw_data/linear_regression/' #data folder name\n",
    "file_id='house' #data file_id\n",
    "\n",
    "xtr_name = folder+file_id+'_X_train.csv' #specify X.vs.Y and Train.vs.Test\n",
    "ytr_name = folder+file_id+'_y_train.csv'\n",
    "\n",
    "X_train,y_train = read_dataset(xtr_name,ytr_name)\n",
    "\n",
    "xte_name = folder+file_id+'_X_test.csv' #specify X.vs.Y and Train.vs.Test\n",
    "yte_name = folder+file_id+'_y_test.csv'\n",
    "\n",
    "X_test,y_test = read_dataset(xte_name,yte_name)\n",
    "\n",
    "print('X_train shape: ',X_train.shape)\n",
    "print('y_train shape: ',y_train.shape)\n",
    "print('X_test shape: ',X_test.shape)\n",
    "print('y_test shape: ',y_test.shape)"
   ]
  },
  {
   "cell_type": "markdown",
   "metadata": {},
   "source": [
    "**Normalize the features and train the model**\n",
    "\n"
   ]
  },
  {
   "cell_type": "code",
   "execution_count": 5,
   "metadata": {},
   "outputs": [
    {
     "name": "stdout",
     "output_type": "stream",
     "text": [
      "[[-0.94680434  1.07013479 -0.07673632  0.65256803 -1.91225543  2.50105885\n",
      "  -0.09761049 -3.06137125  1.84837216 -1.94588004 -2.09785905 -3.86696361]]\n",
      "[22.60870712]\n",
      "RMSE LR: 5.524\n"
     ]
    }
   ],
   "source": [
    "def normalize_features(X_train, X_test):\n",
    "    from sklearn.preprocessing import StandardScaler\n",
    "    scaler = StandardScaler() #call a function\n",
    "    scaler.fit(X_train) #calculate mean, std in X train\n",
    "    X_train_norm = scaler.transform(X_train) #apply normalization\n",
    "    X_test_norm = scaler.transform(X_test)\n",
    "    return X_train_norm, X_test_norm\n",
    "\n",
    "X_train_norm,X_test_norm = normalize_features(X_train,X_test)\n",
    "\n",
    "def LR_model(X_train, y_train, X_test, y_test):\n",
    "    from sklearn.linear_model import LinearRegression #import LR from sklearn\n",
    "    myreg = LinearRegression() #initialize model\n",
    "    myreg.fit(X_train,y_train) #learn from training data\n",
    "    y_pred = myreg.predict(X_test) #predict the test data, X_test: features\n",
    "    coeffs = myreg.coef_\n",
    "    intercept = myreg.intercept_\n",
    "    return y_pred, coeffs, intercept\n",
    "\n",
    "lr_y_pred,lr_coeffs,lr_intercept = LR_model(X_train_norm, y_train, X_test_norm, y_test)\n",
    "    \n",
    "print(lr_coeffs)\n",
    "print(lr_intercept)\n",
    "\n",
    "def RMSE(y_pred,y_test):\n",
    "    diff = y_pred - y_test\n",
    "    return np.sqrt(sum(diff*diff)/y_pred.shape[0])\n",
    "\n",
    "print('RMSE LR: %.3f' % RMSE(lr_y_pred,y_test))"
   ]
  },
  {
   "cell_type": "markdown",
   "metadata": {},
   "source": [
    "## LR Predictor:\n",
    "$p_c(x) = c^Tx = 22.608 - 0.9468x_1 + 1.070 x_2 - 0.0767 x_3 + 0.653 x_4 - 1.912 x_5 +  2.501 x_6 - 0.0976 x_7 - 3.061 x_8 + 1.848 x_9 - 1.946 x_{10} - 2.0979 x_{11} - 3.867 x_{12}$\n"
   ]
  },
  {
   "cell_type": "code",
   "execution_count": 6,
   "metadata": {},
   "outputs": [
    {
     "name": "stdout",
     "output_type": "stream",
     "text": [
      "Alpha:  1000000.0\n",
      "coeffs:  [[-0.0014026   0.0013766  -0.00184208  0.00054353 -0.00158052  0.00244112\n",
      "  -0.00144028  0.00096123 -0.00145025 -0.00177266 -0.00194592 -0.00264189]]\n",
      "inter:  [22.60870712]\n",
      "RMSE Ridge: 9.036\n",
      "\n",
      "Alpha:  10000.0\n",
      "coeffs:  [[-0.11564886  0.11125187 -0.14949134  0.05169413 -0.12513097  0.21865917\n",
      "  -0.1135883   0.06666651 -0.11439956 -0.14363042 -0.17023677 -0.22921307]]\n",
      "inter:  [22.60870712]\n",
      "RMSE Ridge: 8.430\n",
      "\n",
      "Alpha:  10\n",
      "coeffs:  [[-0.88117134  0.91135501 -0.28039818  0.68021764 -1.60741838  2.59566109\n",
      "  -0.16083578 -2.72206386  1.26373925 -1.41401801 -2.03542527 -3.68862676]]\n",
      "inter:  [22.60870712]\n",
      "RMSE Ridge: 5.584\n",
      "\n",
      "Alpha:  1\n",
      "coeffs:  [[-0.93619904  1.0464063  -0.11822895  0.65805261 -1.87169451  2.51565605\n",
      "  -0.10832579 -3.02309421  1.74102663 -1.83839655 -2.08927181 -3.84619609]]\n",
      "inter:  [22.60870712]\n",
      "RMSE Ridge: 5.532\n",
      "\n",
      "Alpha:  0.1\n",
      "coeffs:  [[-0.94377989  1.0641721  -0.09240946  0.65457391 -1.90488936  2.50453556\n",
      "  -0.10075752 -3.05749857  1.811848   -1.90567455 -2.09589902 -3.86385012]]\n",
      "inter:  [22.60870712]\n",
      "RMSE Ridge: 5.526\n",
      "\n",
      "Alpha:  0.001\n",
      "coeffs:  [[-0.94471777  1.06591894 -0.09036006  0.65422468 -1.9080292   2.50340132\n",
      "  -0.10006907 -3.06109753  1.81852043 -1.9113481  -2.0966312  -3.86589342]]\n",
      "inter:  [22.60870712]\n",
      "RMSE Ridge: 5.526\n",
      "\n",
      "Alpha:  1e-05\n",
      "coeffs:  [[-0.94461124  1.06612182 -0.0897057   0.65420843 -1.90826982  2.50329958\n",
      "  -0.10006142 -3.0612329   1.81860241 -1.91194707 -2.09648775 -3.86579909]]\n",
      "inter:  [22.60870712]\n",
      "RMSE Ridge: 5.526\n",
      "\n"
     ]
    }
   ],
   "source": [
    "def Ridge_LR_model(X_train, y_train, X_test, y_test, alpha):\n",
    "    # Ridge regression to avoid overfitting\n",
    "    from sklearn.linear_model import Ridge #tikhonov regularization\n",
    "    myRidge = Ridge(alpha=alpha,solver='saga') #stochastic solver\n",
    "    myRidge.fit(X_train,y_train)\n",
    "    y_pred = myRidge.predict(X_test)\n",
    "    coeffs = myRidge.coef_\n",
    "    intercept = myRidge.intercept_\n",
    "    return y_pred, coeffs, intercept\n",
    "\n",
    "for alpha in [10e5,10e3,10,1,10e-2,10e-4,10e-6]:\n",
    "    ridge_y_pred,ridge_coeffs,ridge_intercept = Ridge_LR_model(X_train_norm, y_train, X_test_norm, y_test, alpha)\n",
    "    print('Alpha: ',alpha)\n",
    "    print('coeffs: ',ridge_coeffs)\n",
    "    print('inter: ',ridge_intercept)\n",
    "    print('RMSE Ridge: %.3f' % RMSE(ridge_y_pred,y_test))\n",
    "    print('')"
   ]
  },
  {
   "cell_type": "markdown",
   "metadata": {},
   "source": [
    "## Varying Alpha\n",
    "\n",
    "As alpha becomes too large, it suppresses the coefficients and becomes less accurate. However, below alpha ~ 10, the ridge model becomes approximately equivalent in terms of performance. In fact, it does slightly worse with an RMSE value of 5.526 vs the non-ridge regression of 5.524. The data would seem to be well behaved for the ridge to have little influence in the final result."
   ]
  },
  {
   "cell_type": "markdown",
   "metadata": {},
   "source": [
    "## Ridge Predictor:\n",
    "\n",
    "$\\alpha = 1.0$\n",
    "\n",
    "$p_c(x) = c^Tx = 22.609 - 0.936 x_1 + 1.047 x_2 - 0.118 x_3 + 0.658 x_4 - 1.872 x_5 + 2.516 x_6 - 0.108 x_7 - 3.023 x_8 + 1.743 x_9 - 1.840 x_{10} - 2.089 x_{11} - 3.847 x_{12}$\n",
    "\n",
    "## LR Predictor:\n",
    "$p_c(x) = c^Tx = 22.608 - 0.9468x_1 + 1.070 x_2 - 0.0767 x_3 + 0.653 x_4 - 1.912 x_5 +  2.501 x_6 - 0.0976 x_7 - 3.061 x_8 + 1.848 x_9 - 1.946 x_{10} - 2.0979 x_{11} - 3.867 x_{12}$"
   ]
  }
 ],
 "metadata": {
  "kernelspec": {
   "display_name": "Python 3",
   "language": "python",
   "name": "python3"
  },
  "language_info": {
   "codemirror_mode": {
    "name": "ipython",
    "version": 3
   },
   "file_extension": ".py",
   "mimetype": "text/x-python",
   "name": "python",
   "nbconvert_exporter": "python",
   "pygments_lexer": "ipython3",
   "version": "3.7.0"
  }
 },
 "nbformat": 4,
 "nbformat_minor": 2
}
