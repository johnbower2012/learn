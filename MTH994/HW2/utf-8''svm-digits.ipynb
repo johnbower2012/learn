{
 "cells": [
  {
   "cell_type": "markdown",
   "metadata": {},
   "source": [
    "# Identify Handwritten Digits"
   ]
  },
  {
   "cell_type": "markdown",
   "metadata": {},
   "source": [
    "Here we attempt to classify handwritten digits using two methods, namely Logistic Regression and Support Vector Machine. In order to test the robustness of the methods, I train and test on both the Digits data provided in class and the MNIST data from the homework set.\n",
    "\n",
    "The training method and encoding are given below. The main idea is to convert the image into a vector of pixels, intensity 0 to 255, and to convert the label to a 'yes/no' vector, eg. 1 = [0,1,0,0,...,0]. Once this is done, training using the One Versus All method, whereby the algorithm is first trained on whether something is or isn't a zero, then a one, then a two, and so forth. Using this approach, gradient descent is then used to minimize the chosen loss function. \n",
    "\n",
    "Further details are given below.\n",
    "\n",
    "### One-hot-encoder\n",
    "\n",
    "We merely convert a label 0,1,2,... to a binary vector to identify the label. For example,\n",
    "\n",
    "Label 0 -> [1 0 0 ... 0]\n",
    "\n",
    "Label 1 -> [0 1 0 ... 0]\n",
    "\n",
    "etc\n",
    "\n",
    "### One versus All (OVA) Method\n",
    "\n",
    "If you have three classes, L1, L2, L3, split it into two groups: L1,L2=L, with L3=L3. Then you have L and L3. Classify and train the model in L vs L3. Repeat for each of the remaining L2, L3 as the individual class. Applying the One-Hot-Encoder, we can use the OVA approach to train by singling out one column at a time, eg. is it a zero? is it a one?, with 1 being a yes and 0 a no.\n",
    "\n",
    "\n",
    "### Predictor Functions\n",
    "\n",
    "Logistic Loss:\n",
    "\n",
    "$p_c(x) = \\sigma(c^Tx) = 1.0/(1+exp(c^TX))$\n",
    "\n",
    "Support Vector Machine:\n",
    "\n",
    "$p_c(x) = c^Tx$\n",
    "\n",
    "### Loss Function\n",
    "\n",
    "Logistic Loss:\n",
    "\n",
    "L$(x) = -y log(p_c(x)) - (1-y) log(p_c(x))$\n",
    "\n",
    "Support Vector Machine:\n",
    "\n",
    "L$(x)= \\sqrt{\\sum_jc_j^2} + \\lambda\\sum_mmax(0,1-y_m c^T K(X_m))$\n",
    "\n",
    "### Gradient Descent\n",
    "\n",
    "$c_i = c_i - \\alpha\\frac{\\delta L}{\\delta c_i}$\n",
    "\n",
    "In Logistic Loss:\n",
    "\n",
    "$\\frac{\\delta L}{\\delta c_i} = (P_c(x) - y_i)X_i$\n",
    "\n",
    "In Support Vector Machine:\n",
    "\n",
    "$\\frac{\\delta L}{\\delta c_i} = \\frac{c_i}{\\sqrt{\\sum_jc_j^2}} + \\lambda\\sum_m\\frac{\\delta}{\\delta c_i}max(0,1-y_m c^T K(X_m))$"
   ]
  },
  {
   "cell_type": "markdown",
   "metadata": {},
   "source": [
    "## Function and Class Definition"
   ]
  },
  {
   "cell_type": "markdown",
   "metadata": {},
   "source": [
    "### Import the data"
   ]
  },
  {
   "cell_type": "code",
   "execution_count": 1,
   "metadata": {},
   "outputs": [],
   "source": [
    "import pandas as pd\n",
    "import numpy as np\n",
    "\n",
    "def read_dataset(feature_file, label_file):\n",
    "    '''Read data set in *.csv format to dataframe in Pandas'''\n",
    "    df_X = pd.read_csv(feature_file)\n",
    "    df_Y = pd.read_csv(label_file)\n",
    "    X = df_X.values #convert values in dataframe to np array\n",
    "    y = df_Y.values\n",
    "    return X,y\n",
    "\n",
    "def load_dataset(file_id):\n",
    "    #folder='data/' #data folder name\n",
    "    folder=''\n",
    "\n",
    "    #specify X.vs.Y and Train.vs.Test\n",
    "    xtr_name = folder+file_id+'_X_train.csv'\n",
    "    ytr_name = folder+file_id+'_y_train.csv'\n",
    "    xte_name = folder+file_id+'_X_test.csv'\n",
    "    yte_name = folder+file_id+'_y_test.csv'\n",
    "\n",
    "    X_train,y_train = read_dataset(xtr_name,ytr_name)\n",
    "    X_test,y_test = read_dataset(xte_name,yte_name)\n",
    "\n",
    "    return X_train,y_train,X_test,y_test"
   ]
  },
  {
   "cell_type": "markdown",
   "metadata": {},
   "source": [
    "### Normalization, add a column of ones, and label conversion"
   ]
  },
  {
   "cell_type": "code",
   "execution_count": 2,
   "metadata": {},
   "outputs": [],
   "source": [
    "##########################\n",
    "##   To allow for c_0   ##\n",
    "##########################\n",
    "\n",
    "def add_one_column(X):\n",
    "    X = np.concatenate((np.ones(X.shape[0]).reshape(-1,1),X),1)\n",
    "    return X\n",
    "\n",
    "##########################\n",
    "## Account for variable ##\n",
    "##  parameter scales    ##\n",
    "##########################\n",
    "\n",
    "def normalize_features(X_train,X_test):\n",
    "    X_train_norm = np.zeros(np.shape(X_train))\n",
    "    X_test_norm = np.zeros(np.shape(X_test))\n",
    "    \n",
    "    count = np.size(X_train[0])\n",
    "    mean = np.zeros(count)\n",
    "    std = np.zeros(count)\n",
    "    \n",
    "    for i in range(count):\n",
    "        mean[i] = np.mean(X_train[:,i])\n",
    "        std[i] = np.std(X_train[:,i])\n",
    "        if(std[i]!=0):\n",
    "            X_train_norm[:,i] = (X_train[:,i] - mean[i])/std[i]\n",
    "            X_test_norm[:,i] = (X_test[:,i] - mean[i])/std[i]\n",
    "        else:\n",
    "            X_train_norm[:,i] = (X_train[:,i] - mean[i])\n",
    "            X_test_norm[:,i] = (X_test[:,i] - mean[i])\n",
    "\n",
    "    return X_train_norm, X_test_norm\n",
    "\n",
    "##########################\n",
    "## Convert labels to    ##\n",
    "##   yes/no vectors for ##\n",
    "##   OVA training       ##\n",
    "##########################\n",
    "\n",
    "def one_hot_encoder(y_train,y_test):\n",
    "    #convert label to a vector under one-hot-code fashion\n",
    "    ohe_max = max(np.max(y_train),np.max(y_test))\n",
    "    ohe_min = min(np.min(y_train),np.min(y_test))\n",
    "    y_train_ohe = np.zeros((y_train.size,ohe_max-ohe_min+1))\n",
    "    y_test_ohe = np.zeros((y_test.size,ohe_max-ohe_min+1))\n",
    "    for i in range(np.size(y_train)):\n",
    "        index = y_train[i]\n",
    "        y_train_ohe[i][int(index-ohe_min)] = 1\n",
    "\n",
    "    for i in range(np.size(y_test)):\n",
    "        index = y_test[i]\n",
    "        y_test_ohe[i][int(index-ohe_min)] = 1\n",
    "    return y_train_ohe, y_test_ohe\n",
    "\n",
    "##########################\n",
    "##  Load, form, label   ##  \n",
    "##    data all in one   ##\n",
    "##########################\n",
    "\n",
    "def load_and_massage(file_id):\n",
    "    #folder='data/' #data folder name\n",
    "    #file_id='Digits' #data file_id\n",
    "    folder=''\n",
    "\n",
    "    #specify X.vs.Y and Train.vs.Test\n",
    "    xtr_name = folder+file_id+'_X_train.csv'\n",
    "    ytr_name = folder+file_id+'_y_train.csv'\n",
    "    xte_name = folder+file_id+'_X_test.csv'\n",
    "    yte_name = folder+file_id+'_y_test.csv'\n",
    "\n",
    "    X_train,y_train = read_dataset(xtr_name,ytr_name)\n",
    "    X_test,y_test = read_dataset(xte_name,yte_name)\n",
    "\n",
    "    X_train_norm, X_test_norm = normalize_features(X_train,X_test)\n",
    "    X_train_norm = add_one_column(X_train_norm)\n",
    "    X_test_norm = add_one_column(X_test_norm)\n",
    "\n",
    "    y_train_ohe, y_test_ohe = one_hot_encoder(y_train,y_test)\n",
    "    \n",
    "    return X_train_norm, y_train, y_train_ohe, X_test_norm, y_test, y_test_ohe"
   ]
  },
  {
   "cell_type": "markdown",
   "metadata": {},
   "source": [
    "### Function calls for predictor, Kernels, and Loss Functions"
   ]
  },
  {
   "cell_type": "code",
   "execution_count": 3,
   "metadata": {},
   "outputs": [],
   "source": [
    "##########################\n",
    "##        Functions     ##\n",
    "##########################\n",
    "\n",
    "def sigmoid(X,c):\n",
    "    return 1.0/(1.0 + np.exp(-X.dot(c)))\n",
    "\n",
    "def dot(X,c):\n",
    "    return X.dot(c)\n",
    "\n",
    "DFunction = {'sigmoid':sigmoid,'dot':dot}\n",
    "\n",
    "##########################\n",
    "##        Kernels       ##\n",
    "##########################\n",
    "\n",
    "def linear_kernel(xi,X=None):\n",
    "    return xi\n",
    "\n",
    "DKernel = {'linear':linear_kernel}\n",
    "\n",
    "##########################\n",
    "##    Loss Functions    ##\n",
    "##########################\n",
    "\n",
    "def logistic_loss(y,yhat,X,c,reg_param,kernel,M=None):\n",
    "    return (-y.T.dot(np.log(yhat)) - (1.0 - y).T.dot(np.log(1.0 - yhat)))/float(len(y))\n",
    "\n",
    "def logistic_gradient(y,yhat,X,c,reg_param,kernel,M=None):\n",
    "    return X.T.dot(yhat-y)/float(len(y))\n",
    "\n",
    "def svm_loss(y,yhat,X,c,reg_param,kernel,M=None):\n",
    "    loss=0\n",
    "    kern = kernel(X,M)\n",
    "    hinge = 1 - y*c.T.dot(kern.T).T\n",
    "    for elem in hinge:\n",
    "        if(elem>0):\n",
    "            loss += elem\n",
    "    loss = loss*reg_param\n",
    "    loss += np.sqrt(sum(c*c))\n",
    "    return loss\n",
    "\n",
    "def svm_gradient(y,yhat,X,c,reg_param,kernel,M=None):\n",
    "    grad = np.zeros(np.shape(c))\n",
    "    kern = kernel(X,M)\n",
    "    hinge = 1 - y*c.T.dot(kern.T).T\n",
    "    for i in range(hinge.size):\n",
    "        if(hinge[i]>0):\n",
    "            grad += (-y[i]*kern[i,:].T).reshape(-1,1)\n",
    "    grad = grad*reg_param\n",
    "    if(c.all()!=0):\n",
    "        grad += c/np.sqrt(sum(c*c))\n",
    "    return grad\n",
    "\n",
    "DLoss={'logistic':logistic_loss,'support vector machine':svm_loss}\n",
    "DOptimizer={'logistic':logistic_gradient,'support vector machine':svm_gradient}"
   ]
  },
  {
   "cell_type": "markdown",
   "metadata": {},
   "source": [
    "### Prediction and Testing Functions"
   ]
  },
  {
   "cell_type": "code",
   "execution_count": 4,
   "metadata": {},
   "outputs": [],
   "source": [
    "##########################\n",
    "##        Functions     ##\n",
    "##########################\n",
    "\n",
    "def gradient_descent(X,y,c,cpredictor,closs,epochs,learning_rate,reg_param):\n",
    "    y = y.reshape(-1,1) #convert y to a matrix nx1\n",
    "    loss_history = [0]*epochs \n",
    "    for epoch in range(epochs):\n",
    "        yhat = cpredictor.predictor(X,c)\n",
    "        loss_history[epoch] = closs.loss(y,yhat,X,c,reg_param,cpredictor.kernel).ravel()\n",
    "        grad = closs.gradient(y,yhat,X,c,reg_param,cpredictor.kernel)\n",
    "        #updating coeffs upon the gradient change\n",
    "        c = c - learning_rate*grad\n",
    "    return c, loss_history\n",
    "\n",
    "def binary_train(X,y,cpredictor,closs,epochs,learning_rate,reg_param):\n",
    "    #Training our model based on the training data\n",
    "    #    Input:   X_train: input features\n",
    "    #             y_train: binary labels\n",
    "    #    Return:  coeffs of the logistic model\n",
    "        \n",
    "    coeffs_0 = np.zeros((X.shape[1],1))\n",
    "    coeffs_grad, history_loss = gradient_descent(X,y,coeffs_0,cpredictor,closs,epochs,learning_rate,reg_param)\n",
    "  \n",
    "    return coeffs_grad, history_loss\n",
    "\n",
    "def OVA_train(X,y,cpredictor,closs,epochs,learning_rate,reg_param): # y_train: one_hot_encoder labels, 10 columns\n",
    "    #Loop over the label columns such that\n",
    "    #    0 0 1                   0th: 0   1st:  0    2nd:  1\n",
    "    #    1 0 0  -- trains as -->      1         0          0\n",
    "    #    1 0 0                        1         0          0\n",
    "    #\n",
    "    weights = []\n",
    "    history = []\n",
    "    for i in range(y.shape[1]): #10 columns\n",
    "        y_train_one_column = y[:,i] #pick ith column\n",
    "        #run training\n",
    "        weights_one_column, loss_history = binary_train(X, y_train_one_column,cpredictor,closs,epochs,learning_rate,reg_param)\n",
    "        weights.append(weights_one_column)\n",
    "        history.append(loss_history)\n",
    "    return weights, history\n",
    "\n",
    "def prediction(weights_list,X,cpredictor):\n",
    "    i = 0\n",
    "    for weights in weights_list:\n",
    "        decision_one_column = cpredictor.predictor(X,weights)\n",
    "        #probability of one column\n",
    "        if i==0:\n",
    "            decision_matrix = decision_one_column\n",
    "        else:\n",
    "            #combine all decision columns to form a matrix\n",
    "            decision_matrix = np.concatenate((decision_matrix, decision_one_column),axis=1)\n",
    "        i+=1\n",
    "\n",
    "    labels = [0, 1, 2, 3, 4, 5, 6, 7, 8, 9]\n",
    "    num_test_samples = X.shape[0]\n",
    "    #find which index gives us the highest probability\n",
    "    ypred = np.zeros(num_test_samples, dtype=int)\n",
    "    for i in range(num_test_samples):\n",
    "        ypred[i] = labels[np.argmax(decision_matrix[i,:])]\n",
    "    return ypred\n",
    "\n",
    "def accuracy(weights_list,X,y,cpredictor):\n",
    "    acc=0\n",
    "    for index in range(len(y)):\n",
    "        #Use the model to predict thenumber in the image X_test[20]\n",
    "        ypred = prediction(weights_list, X[index:index+1],cpredictor)\n",
    "        if(ypred==y[index]):\n",
    "            acc+=1\n",
    "    return 100*acc/float(len(y))\n",
    "\n",
    "#Use for scikit learn predictions\n",
    "def accur(y,yhat):\n",
    "    acc=0\n",
    "    for index in range(len(y)):\n",
    "        if(y[index]==yhat[index]):\n",
    "            acc+=1\n",
    "    acc*=100/len(y)\n",
    "    return acc\n",
    "\n",
    "DTrain={'one over all':OVA_train}"
   ]
  },
  {
   "cell_type": "markdown",
   "metadata": {},
   "source": [
    "### Libraries\n",
    "\n",
    "Feed the DLibrary, a compilation of all necessary libraries, to the CLearn class so your choice may be easily executed. Note that in the code's current form really only the two collections for 'logistic' and 'svm' may be chosen, but in future updates the code could be made more flexible. "
   ]
  },
  {
   "cell_type": "code",
   "execution_count": 5,
   "metadata": {},
   "outputs": [],
   "source": [
    "DFunction = {'sigmoid':sigmoid,'dot':dot}\n",
    "DKernel = {'linear':linear_kernel}\n",
    "DLoss={'logistic':logistic_loss,'support vector machine':svm_loss}\n",
    "DOptimizer={'logistic':logistic_gradient,'support vector machine':svm_gradient}\n",
    "DTrain={'one over all':OVA_train}\n",
    "DLibrary={'Function':DFunction,'Kernel':DKernel,'Loss':DLoss,'Optimizer':DOptimizer,'Train':DTrain,'Train':DTrain}"
   ]
  },
  {
   "cell_type": "markdown",
   "metadata": {},
   "source": [
    "### Prediction and Testing Classes\n",
    "\n",
    "These classes accept libraries and keys to select how they operate. Create a \"CLearn\" class and feed it the DLibrary from above. An example of DKey selection is given during calculation."
   ]
  },
  {
   "cell_type": "code",
   "execution_count": 6,
   "metadata": {},
   "outputs": [],
   "source": [
    "class CPredictor:\n",
    "    def __init__(self,DFunction,DKernel):\n",
    "        self.DFunction = DFunction\n",
    "        self.DKernel = DKernel\n",
    "        \n",
    "    def Set_Function(self,FKey):\n",
    "        if FKey in self.DFunction:\n",
    "            self.function=DFunction[FKey]\n",
    "        else:\n",
    "            print('Invalid Fkey.',FKey,'not found in loaded Function Dictionary.')\n",
    "    def Set_Kernel(self,KKey):\n",
    "        if KKey in self.DKernel:\n",
    "            self.kernel=DKernel[KKey]\n",
    "        else:\n",
    "            print('Invalid Kkey.',KKey,'not found in loaded Kernel Dictionary.')\n",
    "    def Set_Keys(self,FKey,KKey):\n",
    "        self.Set_Function(FKey)\n",
    "        self.Set_Kernel(KKey)\n",
    "        \n",
    "    def predictor(self,X,c,M=None):\n",
    "        return self.function(self.kernel(X,M),c)\n",
    "\n",
    "class CLoss:\n",
    "    def __init__(self,DLoss,DOptimizer):\n",
    "        self.DLoss = DLoss\n",
    "        self.DOptimizer = DOptimizer\n",
    "\n",
    "    def Set_Loss(self,LKey):\n",
    "        if LKey in self.DLoss:\n",
    "            self.Loss = self.DLoss[LKey]\n",
    "        else:\n",
    "            print('Invalid LKey.',LKey,'not found in loaded Loss Dictionary.')\n",
    "    def Set_Optimizer(self,OKey):\n",
    "        if OKey in self.DOptimizer:\n",
    "            self.Optimizer = self.DOptimizer[OKey]\n",
    "        else:\n",
    "            print('Invalid OKey.',OKey,'not found in loaded Optimizer Dictionary.')\n",
    "    def Set_Keys(self,LKey,OKey):\n",
    "        self.Set_Loss(LKey)\n",
    "        self.Set_Optimizer(OKey)\n",
    "\n",
    "    def loss(self,y,yhat,X,c,reg_param,kernel,M=None):\n",
    "        return self.Loss(y,yhat,X,c,reg_param,kernel,M)\n",
    "\n",
    "    def gradient(self,y,yhat,X,c,reg_param,kernel,M=None):\n",
    "        return self.Optimizer(y,yhat,X,c,reg_param,kernel,M)\n",
    "\n",
    "class CTrain:\n",
    "    def __init__(self,DLibrary,DKey):\n",
    "        self.DLibrary=DLibrary\n",
    "        self.DTrain=DLibrary['Train']\n",
    "        self.Predictor = CPredictor(self.DLibrary['Function'],self.DLibrary['Kernel'])\n",
    "        self.Loss = CLoss(self.DLibrary['Loss'],self.DLibrary['Optimizer'])\n",
    "        self.Set_Keys(DKeys)\n",
    "\n",
    "    def Set_Predictor(self,FKey,KKey):\n",
    "        self.Predictor.Set_Keys(FKey,KKey)\n",
    "    def Set_Loss(self,LKey,OKey):\n",
    "        self.Loss.Set_Keys(LKey,OKey)\n",
    "    def Set_Keys(self,DKey):\n",
    "        self.DKey=DKey\n",
    "        self.Set_Predictor(DKey['F'],DKey['K'])\n",
    "        self.Set_Loss(DKey['L'],DKey['O'])\n",
    "        self.Set_Train(DKey['T'])\n",
    "    def Set_Train(self,TKey):\n",
    "        if TKey in DTrain:\n",
    "            self.Train=self.DTrain[TKey]\n",
    "        else:\n",
    "            print('Invalid TKey.',TKey,'not found in loaded Train Dictionary.')\n",
    "\n",
    "    def train(self,X,y,DParameter):\n",
    "        return self.Train(X,y,self.Predictor,self.Loss,DParameter['Epochs'],DParameter['Learning_rate'],DParameter['Reg_param'])\n",
    "\n",
    "class CLearn:\n",
    "    def __init__(self,DLibrary,DParameter,DKey):\n",
    "        self.DLibrary=DLibrary\n",
    "        self.DParameter=DParameter\n",
    "        self.Trainer=CTrain(self.DLibrary,DKey)\n",
    "        \n",
    "    def Set_Keys(self,DKey):\n",
    "        self.Trainer.Set_Keys(DKey)    \n",
    "    def Set_Param(self,DParameter):\n",
    "        self.DParameter=DParameter\n",
    "    def Train(self,X,y):\n",
    "        self.Weights_list, self.History = self.Trainer.train(X,y,self.DParameter)\n",
    "        \n",
    "    def predict(self,X):\n",
    "        return prediction(self.Weights_list,X,self.Trainer.Predictor)\n",
    "    def accuracy(self,X,y):\n",
    "        return accuracy(self.Weights_list,X,y,self.Trainer.Predictor)"
   ]
  },
  {
   "cell_type": "markdown",
   "metadata": {},
   "source": [
    "### Plotting Functions\n",
    "\n",
    "Plot_digit and plot_test can be used to see by eye how well the classes predict the test data. Select a range, index1 to index2, over which to test a customized and trained CLearn class. A label, prediction, and image will print for each element in the range.\n",
    "\n",
    "Plot_loss is antiquated but kept for completeness.\n",
    "\n",
    "Plot_history will plot a loss history from training a model.\n",
    "\n",
    "Print_journal will print an overview of of training a model, including accuracy, parameters, a full prediction set, and a loss history. These are returned by \"Run\" and \"Run_and_Print\" defined below."
   ]
  },
  {
   "cell_type": "code",
   "execution_count": 9,
   "metadata": {},
   "outputs": [],
   "source": [
    "import matplotlib.pyplot as plt\n",
    "import IPython\n",
    "%matplotlib inline\n",
    "\n",
    "def plot_digit(feature_vector):\n",
    "    dim = int(np.sqrt(len(feature_vector)))\n",
    "    plt.gray()\n",
    "    plt.matshow(feature_vector.reshape(dim,dim))\n",
    "    plt.show()\n",
    "\n",
    "def plot_test(index1,index2,Clearn,X_test,X_test_norm,y_test):\n",
    "    for index in range(index1,index2):\n",
    "        print('Image:',index)\n",
    "        plot_digit(X_test[index])\n",
    "        ypred = Clearn.predict(X_test_norm[index].reshape(1,-1))\n",
    "        print('Label:', int(y_test[index]))\n",
    "        print('Prediction:',int(ypred))\n",
    "        print('')\n",
    "\n",
    "def plot_loss(loss):\n",
    "    plt.xlabel('# of epochs')\n",
    "    plt.ylabel('Loss')\n",
    "    plt.plot(loss)\n",
    "    plt.show()\n",
    "    \n",
    "def plot_history(history):\n",
    "    plt.ylabel('Loss')\n",
    "    plt.xlabel('# of epochs')\n",
    "    i=0\n",
    "    for elem in history:\n",
    "        print(i)\n",
    "        i+=1\n",
    "        plt.plot(elem)\n",
    "        plt.show()\n",
    "        \n",
    "def print_journal(journal,index):\n",
    "    acc = journal[index][0]\n",
    "    epochs = journal[index][1]\n",
    "    learning_rate = journal[index][2]\n",
    "    reg_param = journal[index][3]\n",
    "    pred = journal[index][4]\n",
    "    history = journal[index][5].History\n",
    "\n",
    "    print('Epochs:',epochs,'\\nLR:',learning_rate,'\\nRG:',reg_param)\n",
    "    print('  Accuracy: ',acc,'%')\n",
    "    print(pred)\n",
    "    plot_history(history)\n"
   ]
  },
  {
   "cell_type": "markdown",
   "metadata": {},
   "source": [
    "### Run functions\n",
    "\n",
    "These functions return a training journal list from training the model. Give it the full DLibrary, a set of sets of parameters, DParam, over which to train, a set of DKeys to select which model is to be used, and a file_id for which data to load. 'Run' merely prints that training has begun and finished. 'Run_and_Print' will give model parameters and accuracy as each parameter set is trained and tested. Each function records a journal for each parameter set during the training process."
   ]
  },
  {
   "cell_type": "code",
   "execution_count": 10,
   "metadata": {},
   "outputs": [],
   "source": [
    "def Run(DLibrary,DParam,DKeys,file_id):\n",
    "    X_train_norm, y_train, y_train_ohe,\\\n",
    "        X_test_norm, y_test, y_test_ohe\\\n",
    "            = load_and_massage(file_id)\n",
    "    print('Running',DKeys['L'],'on:',file_id)\n",
    "    i=0\n",
    "    journal=[]\n",
    "    epochs=DParam['Epochs']\n",
    "    LR=DParam['LR']\n",
    "    RP=DParam['RP']\n",
    "    for learning_rate in LR:\n",
    "        for reg_param in RP:\n",
    "            DParam={'Epochs':epochs,'Learning_rate':learning_rate,'Reg_param':reg_param}\n",
    "            learn = CLearn(DLibrary,DParam,DKeys)\n",
    "            i+=1\n",
    "            learn.Train(X_train_norm,y_train_ohe)\n",
    "            acc = learn.accuracy(X_test_norm, y_test) \n",
    "            pred = learn.predict(X_test_norm)\n",
    "            journal.append((acc,epochs,learning_rate,reg_param,pred,learn))\n",
    "    print('Finished.')\n",
    "    return journal\n",
    "\n",
    "def Run_and_Print(DLibrary,DParam,DKeys,file_id):\n",
    "    X_train_norm, y_train, y_train_ohe,\\\n",
    "        X_test_norm, y_test, y_test_ohe\\\n",
    "            = load_and_massage(file_id)\n",
    "    print('Running',DKeys['L'],'on:',file_id,'\\n----------------------------')\n",
    "    i=0\n",
    "    journal=[]\n",
    "    epochs=DParam['Epochs']\n",
    "    LR=DParam['LR']\n",
    "    RP=DParam['RP']\n",
    "    for learning_rate in LR:\n",
    "        for reg_param in RP:\n",
    "            DParam={'Epochs':epochs,'Learning_rate':learning_rate,'Reg_param':reg_param}\n",
    "            learn = CLearn(DLibrary,DParam,DKeys)\n",
    "            i+=1\n",
    "            print('Training...',i,'of',len(LR)*len(RP),'...')\n",
    "            print('   Epochs:',epochs,'\\n   LR:',learning_rate,'\\n   RP:',reg_param)\n",
    "            learn.Train(X_train_norm,y_train_ohe)\n",
    "            print('Testing...')\n",
    "            acc = learn.accuracy(X_test_norm, y_test) \n",
    "            print('Accuracy: ',acc,'%')\n",
    "            pred = learn.predict(X_test_norm)\n",
    "            print('')\n",
    "            journal.append((acc,epochs,learning_rate,reg_param,pred,learn))\n",
    "    print('Finished.')\n",
    "    return journal"
   ]
  },
  {
   "cell_type": "markdown",
   "metadata": {},
   "source": [
    "# Conduct Data Analysis\n",
    "\n",
    "Note: loss history occasionally has problems which appear has division by zero. It does not affect the training itself.\n",
    "\n",
    "The training is organized so that each cell loops over the given parameter sets. Currently, they are set to run without printing progress. To change this, uncomment the 'Run_and_Print' and comment the 'Run.'\n",
    "\n",
    "### Run\n",
    "Here we test each model on a range of parameters. To use the 'Run' function and therefore use the CLearn class, select the desired parameters:\n",
    "\n",
    "file_id selects whether to train on the Digits or MNIST data.\n",
    "\n",
    "DKeys selects which model is to be used. Currently, the only combinations which will definitely work are given below in 'Logistic Training' and 'SVM Training.'\n",
    "\n",
    "DParam is actually a set of sets of parameters. 'epochs' is uniform across training sets, but 'LR' (Learning Rate) and 'RP' (Regularization Parameter) will both be looped over. Note that for Logisitic training I define RP=[-1], a dummy parameter, to denote that it is not being used, but still requires an entry.\n",
    "\n",
    "The functions then return a journal list, which each entry is a journal for the current training parameter set. A Journal includes, accuracy, epochs, learning rate, reg param, prediction vector, and loss history, in that order. See where each is appended to the journal in the 'Run' functions.\n",
    "\n",
    "### Libraries\n",
    "\n",
    "Use for selecting which model is used for training."
   ]
  },
  {
   "cell_type": "code",
   "execution_count": 11,
   "metadata": {},
   "outputs": [],
   "source": [
    "DFunction = {'sigmoid':sigmoid,'dot':dot}\n",
    "DKernel = {'linear':linear_kernel}\n",
    "DLoss={'logistic':logistic_loss,'support vector machine':svm_loss}\n",
    "DOptimizer={'logistic':logistic_gradient,'support vector machine':svm_gradient}\n",
    "DTrain={'one over all':OVA_train}\n",
    "DLibrary={'Function':DFunction,'Kernel':DKernel,'Loss':DLoss,'Optimizer':DOptimizer,'Train':DTrain,'Train':DTrain}"
   ]
  },
  {
   "cell_type": "markdown",
   "metadata": {},
   "source": [
    "### Scikit Learn\n",
    "\n",
    "For sake of comparison"
   ]
  },
  {
   "cell_type": "code",
   "execution_count": 12,
   "metadata": {},
   "outputs": [
    {
     "name": "stderr",
     "output_type": "stream",
     "text": [
      "/usr/local/lib/python3.7/site-packages/sklearn/svm/base.py:922: ConvergenceWarning: Liblinear failed to converge, increase the number of iterations.\n",
      "  \"the number of iterations.\", ConvergenceWarning)\n"
     ]
    },
    {
     "name": "stdout",
     "output_type": "stream",
     "text": [
      "ScikitLearn SVC on Digits : 94.44444444444444 %\n",
      "ScikitLearn SVC on MNIST : 81.4 %\n"
     ]
    }
   ],
   "source": [
    "from sklearn.svm import LinearSVC\n",
    "clf = LinearSVC(loss='hinge',max_iter=5000)\n",
    "\n",
    "file_id='Digits'\n",
    "X_train_norm, y_train, y_train_ohe, X_test_norm, y_test, y_test_ohe = load_and_massage(file_id)\n",
    "clf.fit(X_train_norm,y_train.ravel())\n",
    "ypred=clf.predict(X_test_norm)\n",
    "print('ScikitLearn SVC on',file_id,':',accur(y_test,ypred),'%')\n",
    "\n",
    "\n",
    "file_id='MNIST'\n",
    "X_train_norm, y_train, y_train_ohe, X_test_norm, y_test, y_test_ohe = load_and_massage(file_id)\n",
    "clf.fit(X_train_norm,y_train.ravel())\n",
    "ypred=clf.predict(X_test_norm)\n",
    "print('ScikitLearn SVC on',file_id,':',accur(y_test,ypred),'%')"
   ]
  },
  {
   "cell_type": "markdown",
   "metadata": {},
   "source": [
    "### Digits Data\n",
    "\n",
    "To see the parameters and accuracy, uncomment run_and_print and comment run. To run both will be redundant. \n",
    "\n",
    "Here for logistic we train across learning rates ranging from 1.0 to 10.0 to examine a range of parameters. After testing, it seems the maximum occurs within this range, since the rates lower than 1 and higher than 12 begin to decrease accuracy. The maximum accuracy model is extracted later in the notebook. It seems likely that for those much smaller the code will need far too many epochs to be reasonably run in a demonstration, and for those much bigger the code is unable to approach the maximum because the steps will be too large. It seems to settle into 96.0% accuracy well around a learning rate of 7-10, though the loss history encounters issues.\n",
    "\n",
    "For the SVM we training over a grid of LR and RP, from 0.008 to 0.012, in search of the maximum. "
   ]
  },
  {
   "cell_type": "code",
   "execution_count": 13,
   "metadata": {
    "scrolled": false
   },
   "outputs": [
    {
     "name": "stdout",
     "output_type": "stream",
     "text": [
      "Running logistic on: Digits \n",
      "----------------------------\n",
      "Training... 1 of 5 ...\n",
      "   Epochs: 500 \n",
      "   LR: 1.0 \n",
      "   RP: -1\n",
      "Testing...\n",
      "Accuracy:  94.88888888888889 %\n",
      "\n",
      "Training... 2 of 5 ...\n",
      "   Epochs: 500 \n",
      "   LR: 5.0 \n",
      "   RP: -1\n",
      "Testing...\n",
      "Accuracy:  95.55555555555556 %\n",
      "\n",
      "Training... 3 of 5 ...\n",
      "   Epochs: 500 \n",
      "   LR: 7.0 \n",
      "   RP: -1\n"
     ]
    },
    {
     "name": "stderr",
     "output_type": "stream",
     "text": [
      "/usr/local/lib/python3.7/site-packages/ipykernel_launcher.py:27: RuntimeWarning: divide by zero encountered in log\n"
     ]
    },
    {
     "name": "stdout",
     "output_type": "stream",
     "text": [
      "Testing...\n",
      "Accuracy:  95.77777777777777 %\n",
      "\n",
      "Training... 4 of 5 ...\n",
      "   Epochs: 500 \n",
      "   LR: 8.0 \n",
      "   RP: -1\n",
      "Testing...\n",
      "Accuracy:  96.0 %\n",
      "\n",
      "Training... 5 of 5 ...\n",
      "   Epochs: 500 \n",
      "   LR: 10.0 \n",
      "   RP: -1\n",
      "Testing...\n",
      "Accuracy:  96.0 %\n",
      "\n",
      "Finished.\n"
     ]
    }
   ],
   "source": [
    "##########################\n",
    "##  Logistic Training   ##\n",
    "##########################\n",
    "file_id='Digits'\n",
    "DKeys=\\\n",
    "    {'F':'sigmoid',\\\n",
    "     'K':'linear',\\\n",
    "     'L':'logistic',\\\n",
    "     'O':'logistic',\\\n",
    "     'T':'one over all'}\n",
    "\n",
    "epochs=500\n",
    "LR=[1.0,5.0,7.0,8.0,10.0]\n",
    "RP=[-1]\n",
    "DParam=\\\n",
    "    {'Epochs':epochs,\\\n",
    "     'LR':LR,\\\n",
    "     'RP':RP}\n",
    "\n",
    "#ld_journal = Run(DLibrary,DParam,DKeys,file_id)\n",
    "ld_journal = Run_and_Print(DLibrary,DParam,DKeys,file_id)"
   ]
  },
  {
   "cell_type": "code",
   "execution_count": 14,
   "metadata": {},
   "outputs": [
    {
     "name": "stdout",
     "output_type": "stream",
     "text": [
      "Running support vector machine on: Digits \n",
      "----------------------------\n",
      "Training... 1 of 9 ...\n",
      "   Epochs: 10 \n",
      "   LR: 0.008 \n",
      "   RP: 0.008\n",
      "Testing...\n",
      "Accuracy:  87.77777777777777 %\n",
      "\n",
      "Training... 2 of 9 ...\n",
      "   Epochs: 10 \n",
      "   LR: 0.008 \n",
      "   RP: 0.01\n",
      "Testing...\n",
      "Accuracy:  88.44444444444444 %\n",
      "\n",
      "Training... 3 of 9 ...\n",
      "   Epochs: 10 \n",
      "   LR: 0.008 \n",
      "   RP: 0.012\n",
      "Testing...\n",
      "Accuracy:  89.11111111111111 %\n",
      "\n",
      "Training... 4 of 9 ...\n",
      "   Epochs: 10 \n",
      "   LR: 0.01 \n",
      "   RP: 0.008\n",
      "Testing...\n",
      "Accuracy:  88.44444444444444 %\n",
      "\n",
      "Training... 5 of 9 ...\n",
      "   Epochs: 10 \n",
      "   LR: 0.01 \n",
      "   RP: 0.01\n",
      "Testing...\n",
      "Accuracy:  89.77777777777777 %\n",
      "\n",
      "Training... 6 of 9 ...\n",
      "   Epochs: 10 \n",
      "   LR: 0.01 \n",
      "   RP: 0.012\n",
      "Testing...\n",
      "Accuracy:  89.55555555555556 %\n",
      "\n",
      "Training... 7 of 9 ...\n",
      "   Epochs: 10 \n",
      "   LR: 0.012 \n",
      "   RP: 0.008\n",
      "Testing...\n",
      "Accuracy:  89.11111111111111 %\n",
      "\n",
      "Training... 8 of 9 ...\n",
      "   Epochs: 10 \n",
      "   LR: 0.012 \n",
      "   RP: 0.01\n",
      "Testing...\n",
      "Accuracy:  89.55555555555556 %\n",
      "\n",
      "Training... 9 of 9 ...\n",
      "   Epochs: 10 \n",
      "   LR: 0.012 \n",
      "   RP: 0.012\n",
      "Testing...\n",
      "Accuracy:  89.11111111111111 %\n",
      "\n",
      "Finished.\n"
     ]
    }
   ],
   "source": [
    "##########################\n",
    "##     SVM Training     ##\n",
    "##########################\n",
    "file_id='Digits'\n",
    "DKeys=\\\n",
    "    {'F':'dot',\\\n",
    "     'K':'linear',\\\n",
    "     'L':'support vector machine',\\\n",
    "     'O':'support vector machine',\\\n",
    "     'T':'one over all'}\n",
    "\n",
    "epochs=10\n",
    "LR=[0.008,0.01,0.012]\n",
    "RP=[0.008,0.01,0.012]\n",
    "DParam=\\\n",
    "    {'Epochs':epochs,\\\n",
    "     'LR':LR,\\\n",
    "     'RP':RP}\n",
    "\n",
    "#sd_journal = Run(DLibrary,DParam,DKeys,file_id)\n",
    "sd_journal = Run_and_Print(DLibrary,DParam,DKeys,file_id)"
   ]
  },
  {
   "cell_type": "markdown",
   "metadata": {},
   "source": [
    "### MNIST Data"
   ]
  },
  {
   "cell_type": "code",
   "execution_count": 15,
   "metadata": {},
   "outputs": [
    {
     "name": "stdout",
     "output_type": "stream",
     "text": [
      "Running logistic on: MNIST \n",
      "----------------------------\n",
      "Training... 1 of 4 ...\n",
      "   Epochs: 500 \n",
      "   LR: 0.03 \n",
      "   RP: -1\n",
      "Testing...\n",
      "Accuracy:  86.8 %\n",
      "\n",
      "Training... 2 of 4 ...\n",
      "   Epochs: 500 \n",
      "   LR: 0.05 \n",
      "   RP: -1\n",
      "Testing...\n",
      "Accuracy:  87.8 %\n",
      "\n",
      "Training... 3 of 4 ...\n",
      "   Epochs: 500 \n",
      "   LR: 0.1 \n",
      "   RP: -1\n",
      "Testing...\n",
      "Accuracy:  87.4 %\n",
      "\n",
      "Training... 4 of 4 ...\n",
      "   Epochs: 500 \n",
      "   LR: 0.5 \n",
      "   RP: -1\n"
     ]
    },
    {
     "name": "stderr",
     "output_type": "stream",
     "text": [
      "/usr/local/lib/python3.7/site-packages/ipykernel_launcher.py:27: RuntimeWarning: divide by zero encountered in log\n"
     ]
    },
    {
     "name": "stdout",
     "output_type": "stream",
     "text": [
      "Testing...\n",
      "Accuracy:  87.4 %\n",
      "\n",
      "Finished.\n"
     ]
    }
   ],
   "source": [
    "##########################\n",
    "##   MNIST Training    ##\n",
    "##########################\n",
    "file_id='MNIST'\n",
    "DKeys=\\\n",
    "    {'F':'sigmoid',\\\n",
    "     'K':'linear',\\\n",
    "     'L':'logistic',\\\n",
    "     'O':'logistic',\\\n",
    "     'T':'one over all'}\n",
    "\n",
    "epochs=500\n",
    "LR=[0.03,0.05,0.1,0.5]\n",
    "RP=[-1]\n",
    "DParam=\\\n",
    "    {'Epochs':epochs,\\\n",
    "     'LR':LR,\\\n",
    "     'RP':RP}\n",
    "\n",
    "#lm_journal = Run(DLibrary,DParam,DKeys,file_id)\n",
    "lm_journal = Run_and_Print(DLibrary,DParam,DKeys,file_id)"
   ]
  },
  {
   "cell_type": "code",
   "execution_count": 16,
   "metadata": {
    "scrolled": false
   },
   "outputs": [
    {
     "name": "stdout",
     "output_type": "stream",
     "text": [
      "Running support vector machine on: MNIST \n",
      "----------------------------\n",
      "Training... 1 of 9 ...\n",
      "   Epochs: 20 \n",
      "   LR: 0.001 \n",
      "   RP: 0.01\n",
      "Testing...\n",
      "Accuracy:  87.8 %\n",
      "\n",
      "Training... 2 of 9 ...\n",
      "   Epochs: 20 \n",
      "   LR: 0.001 \n",
      "   RP: 0.012\n",
      "Testing...\n",
      "Accuracy:  87.8 %\n",
      "\n",
      "Training... 3 of 9 ...\n",
      "   Epochs: 20 \n",
      "   LR: 0.001 \n",
      "   RP: 0.014\n",
      "Testing...\n",
      "Accuracy:  88.0 %\n",
      "\n",
      "Training... 4 of 9 ...\n",
      "   Epochs: 20 \n",
      "   LR: 0.0012 \n",
      "   RP: 0.01\n",
      "Testing...\n",
      "Accuracy:  87.8 %\n",
      "\n",
      "Training... 5 of 9 ...\n",
      "   Epochs: 20 \n",
      "   LR: 0.0012 \n",
      "   RP: 0.012\n",
      "Testing...\n",
      "Accuracy:  88.0 %\n",
      "\n",
      "Training... 6 of 9 ...\n",
      "   Epochs: 20 \n",
      "   LR: 0.0012 \n",
      "   RP: 0.014\n",
      "Testing...\n",
      "Accuracy:  87.8 %\n",
      "\n",
      "Training... 7 of 9 ...\n",
      "   Epochs: 20 \n",
      "   LR: 0.0014 \n",
      "   RP: 0.01\n",
      "Testing...\n",
      "Accuracy:  88.0 %\n",
      "\n",
      "Training... 8 of 9 ...\n",
      "   Epochs: 20 \n",
      "   LR: 0.0014 \n",
      "   RP: 0.012\n",
      "Testing...\n",
      "Accuracy:  87.8 %\n",
      "\n",
      "Training... 9 of 9 ...\n",
      "   Epochs: 20 \n",
      "   LR: 0.0014 \n",
      "   RP: 0.014\n",
      "Testing...\n",
      "Accuracy:  87.6 %\n",
      "\n",
      "Finished.\n"
     ]
    }
   ],
   "source": [
    "##########################\n",
    "##   MNIST Training    ##\n",
    "##########################\n",
    "file_id='MNIST'\n",
    "DKeys=\\\n",
    "    {'F':'dot',\\\n",
    "     'K':'linear',\\\n",
    "     'L':'support vector machine',\\\n",
    "     'O':'support vector machine',\\\n",
    "     'T':'one over all'}\n",
    "\n",
    "epochs=20\n",
    "LR=[0.001,0.0012,0.0014]\n",
    "RP=[0.01,0.012,0.014]\n",
    "DParam=\\\n",
    "    {'Epochs':epochs,\\\n",
    "     'LR':LR,\\\n",
    "     'RP':RP}\n",
    "\n",
    "#sm_journal = Run(DLibrary,DParam,DKeys,file_id)\n",
    "sm_journal = Run_and_Print(DLibrary,DParam,DKeys,file_id)"
   ]
  },
  {
   "cell_type": "markdown",
   "metadata": {},
   "source": [
    "## Prediction Comparison"
   ]
  },
  {
   "cell_type": "code",
   "execution_count": 17,
   "metadata": {},
   "outputs": [],
   "source": [
    "def y_comparison(y_test,log_pred,svm_pred):\n",
    "    print('i   y log svm')\n",
    "    print('-------------')\n",
    "    for i in range(len(y_test)):\n",
    "        y=y_test[i]\n",
    "        l=log_pred[i]\n",
    "        s=svm_pred[i]\n",
    "        if(y!=l or y!=s or l!=s):\n",
    "            print(i,'',y_test[i],log_pred[i],svm_pred[i])\n",
    "\n",
    "def tally(y_test,log_pred,svm_pred):\n",
    "    total=np.zeros(10)\n",
    "    tal=[np.zeros(10),np.zeros(10)]\n",
    "    for i in range(len(y_test)):\n",
    "        y=y_test[i]\n",
    "        l=log_pred[i]\n",
    "        s=svm_pred[i]\n",
    "        if(y==l):\n",
    "            tal[0][y]+=1\n",
    "        if(y==s):\n",
    "            tal[1][y]+=1\n",
    "        total[y]+=1\n",
    "    tal[0]*=100/total\n",
    "    tal[1]*=100/total\n",
    "    return tal\n",
    "def tally_matrix(y_test,pred):\n",
    "    total=np.zeros(10)\n",
    "    tal=np.zeros((10,10))\n",
    "    for i in range(len(y_test)):\n",
    "        y=int(y_test[i])\n",
    "        p=int(pred[i])\n",
    "        tal[y][p]+=1\n",
    "        total[y]+=1\n",
    "    for index in range(tal.shape[0]):\n",
    "        tal[index] *= 100/total[index]\n",
    "    return tal\n",
    "        \n",
    "def tally_matrix_no_diag(y_test,pred):\n",
    "    total=np.zeros(10)\n",
    "    tal=np.zeros((10,10))\n",
    "    for i in range(len(y_test)):\n",
    "        y=int(y_test[i])\n",
    "        p=int(pred[i])\n",
    "        if(y!=p):\n",
    "            tal[y][p]+=1\n",
    "        total[y]+=1\n",
    "    for index in range(tal.shape[0]):\n",
    "        tal[index] *= 100/total[index]\n",
    "    return tal\n",
    "\n",
    "def find_max(history):\n",
    "    max=-1\n",
    "    maxi=-1\n",
    "    for index in range(len(history)):\n",
    "        if(history[index][0]>max):\n",
    "            max=history[index][0]\n",
    "            maxi=index\n",
    "    return maxi"
   ]
  },
  {
   "cell_type": "markdown",
   "metadata": {},
   "source": [
    "### Examing the Maximum Accuracy Runs\n",
    "\n",
    "Maximum accuracy for each model:\n",
    "max_log dig - trial 3:  96.00\n",
    "max_svm dig - trial 4:  89.78\n",
    "max_log mni - trial 1:  87.80\n",
    "max_svm mni - trial 2:  88.00\n",
    "\n",
    "Accuracy per digit:\n",
    "mod: ld       sd      lm      sm\n",
    "ep:  500       10      500     20\n",
    "lr:  8.00     0.01    0.05   0.00\n",
    "rp:           0.01           0.01\n",
    "dig:\n",
    "0:   97.78   100.00   95.74   91.49\n",
    "1:   92.31   82.69   96.83   96.83\n",
    "2:   100.00   89.80   88.24   90.20\n",
    "3:   94.23   82.69   79.17   77.08\n",
    "4:   97.30   94.59   86.36   90.91\n",
    "5:   100.00   91.43   88.10   88.10\n",
    "6:   100.00   97.96   94.44   88.89\n",
    "7:   93.18   97.73   90.32   83.87\n",
    "8:   89.47   73.68   77.78   86.11\n",
    "9:   95.92   87.76   75.47   84.91\n",
    "\n",
    "Each data set and each model has its pitfalls. \n",
    "\n",
    "For the low resolution digits data, both models have the largest issues with 8s. This is likely due to the fact that in low resolution the loops blur together and thus cause confusion with 1s, 2s, 3s, 6s, 7s, and 9s. Specific confusions can be further split into mutual or directional, that is 3s may be confused with 8s, but 8s are more rarely confused with 3s. Others, such as 7s and 9s appear to be mutually confused. This is likely due to that a low resolution 3 appears to thicken to an 8, while a blurred 8 appears even thicker and a distinct 3 shape is not inferred. In comparison, 7s and 9s a very similar in shape, low resolution or not, and are separated only by completing the drawn loop. Lastly, an overall trend seems to be that the errors are concentrated and less scattershot, that is there are fewer spots to be seen in the error matrix below.\n",
    "\n",
    "For the higher resolution MNIST data, the errors appear to be more evenly spread across the entire range of choices, that is there is more gray/white space seen in the error matrix below. General errors are more prevalent with 3s, 7s, 8s. The main mutual errors are concentrated between 3s and 5s, and 7s and 9s.\n",
    "\n",
    "Overall, the simple logistic model seems to do very well for the low resolution digits data, whereas the svm model struggles and is unable to attain the same accuracy. However, with the higher resolution model, both attain a similar max accuracy around 88%, where 89-90% seem possible with very high epoch counts. However, occasionally high epoch counts result in a drop in accuracy of several percentage points."
   ]
  },
  {
   "cell_type": "code",
   "execution_count": 18,
   "metadata": {
    "scrolled": false
   },
   "outputs": [
    {
     "name": "stdout",
     "output_type": "stream",
     "text": [
      "Maximum accuracy for each model:\n",
      "max_log dig - trial 3:  96.00\n",
      "max_svm dig - trial 4:  89.78\n",
      "max_log mni - trial 1:  87.80\n",
      "max_svm mni - trial 2:  88.00\n",
      "\n",
      "Accuracy per digit:\n",
      "mod: ld       sd      lm      sm\n",
      "ep:  500       10      500     20\n",
      "lr:  8.00     0.01    0.05   0.00\n",
      "rp:           0.01           0.01\n",
      "dig:\n",
      "0:   97.78   100.00   95.74   91.49\n",
      "1:   92.31   82.69   96.83   96.83\n",
      "2:   100.00   89.80   88.24   90.20\n",
      "3:   94.23   82.69   79.17   77.08\n",
      "4:   97.30   94.59   86.36   90.91\n",
      "5:   100.00   91.43   88.10   88.10\n",
      "6:   100.00   97.96   94.44   88.89\n",
      "7:   93.18   97.73   90.32   83.87\n",
      "8:   89.47   73.68   77.78   86.11\n",
      "9:   95.92   87.76   75.47   84.91\n",
      "\n",
      "\n",
      "Percent of row_num classified as col_num\n",
      "No Diagonal for Images -- Correctly classified % set to zero\n",
      "----------------------\n",
      "classification: row  by column\n",
      "classification: row=Label by col=Prediction\n",
      "classification: true by classified\n",
      "\n",
      "----------------------\n",
      "LOGISTIC DIGITS\n"
     ]
    },
    {
     "data": {
      "text/plain": [
       "<Figure size 432x288 with 0 Axes>"
      ]
     },
     "metadata": {},
     "output_type": "display_data"
    },
    {
     "data": {
      "image/png": "[encoded data removed]",
      "text/plain": [
       "<Figure size 288x288 with 1 Axes>"
      ]
     },
     "metadata": {
      "needs_background": "light"
     },
     "output_type": "display_data"
    },
    {
     "name": "stdout",
     "output_type": "stream",
     "text": [
      "[[ 97.78   0.     0.     0.     0.     2.22   0.     0.     0.     0.  ]\n",
      " [  0.    92.31   0.     0.     0.     0.     1.92   0.     5.77   0.  ]\n",
      " [  0.     0.   100.     0.     0.     0.     0.     0.     0.     0.  ]\n",
      " [  0.     0.     0.    94.23   0.     1.92   0.     0.     3.85   0.  ]\n",
      " [  0.     2.7    0.     0.    97.3    0.     0.     0.     0.     0.  ]\n",
      " [  0.     0.     0.     0.     0.   100.     0.     0.     0.     0.  ]\n",
      " [  0.     0.     0.     0.     0.     0.   100.     0.     0.     0.  ]\n",
      " [  0.     0.     0.     4.55   0.     0.     0.    93.18   0.     2.27]\n",
      " [  0.     2.63   2.63   0.     0.     0.     2.63   2.63  89.47   0.  ]\n",
      " [  0.     0.     0.     0.     0.     0.     0.     2.04   2.04  95.92]]\n",
      "\n",
      "----------------------\n",
      "SVM DIGITS\n"
     ]
    },
    {
     "data": {
      "image/png": "[encoded data removed]",
      "text/plain": [
       "<Figure size 288x288 with 1 Axes>"
      ]
     },
     "metadata": {
      "needs_background": "light"
     },
     "output_type": "display_data"
    },
    {
     "name": "stdout",
     "output_type": "stream",
     "text": [
      "[[100.     0.     0.     0.     0.     0.     0.     0.     0.     0.  ]\n",
      " [  0.    82.69   9.62   0.     0.     0.     0.     0.     5.77   1.92]\n",
      " [  0.     4.08  89.8    0.     0.     0.     0.     0.     6.12   0.  ]\n",
      " [  0.     0.     0.    82.69   0.     0.     0.     5.77   5.77   5.77]\n",
      " [  0.     2.7    0.     0.    94.59   0.     0.     0.     2.7    0.  ]\n",
      " [  0.     0.     0.     0.     0.    91.43   2.86   0.     0.     5.71]\n",
      " [  0.     2.04   0.     0.     0.     0.    97.96   0.     0.     0.  ]\n",
      " [  0.     0.     0.     0.     0.     2.27   0.    97.73   0.     0.  ]\n",
      " [  0.     7.89   2.63   2.63   0.     0.     2.63   2.63  73.68   7.89]\n",
      " [  0.     2.04   0.     2.04   0.     0.     0.     6.12   2.04  87.76]]\n",
      "\n",
      "----------------------\n",
      "LOGISTIC MNIST\n"
     ]
    },
    {
     "data": {
      "image/png": "[encoded data removed]",
      "text/plain": [
       "<Figure size 288x288 with 1 Axes>"
      ]
     },
     "metadata": {
      "needs_background": "light"
     },
     "output_type": "display_data"
    },
    {
     "name": "stdout",
     "output_type": "stream",
     "text": [
      "[[95.74  0.    0.    0.    2.13  2.13  0.    0.    0.    0.  ]\n",
      " [ 0.   96.83  0.    0.    0.    0.    1.59  1.59  0.    0.  ]\n",
      " [ 1.96  1.96 88.24  1.96  0.    0.    1.96  0.    3.92  0.  ]\n",
      " [ 0.    2.08  6.25 79.17  2.08  6.25  0.    0.    4.17  0.  ]\n",
      " [ 0.    2.27  0.    0.   86.36  2.27  4.55  0.    0.    4.55]\n",
      " [ 0.    0.    0.    7.14  0.   88.1   0.    2.38  2.38  0.  ]\n",
      " [ 0.    0.    3.7   0.    1.85  0.   94.44  0.    0.    0.  ]\n",
      " [ 0.    1.61  4.84  0.    0.    0.    0.   90.32  0.    3.23]\n",
      " [ 0.    0.    0.    5.56  5.56  5.56  2.78  2.78 77.78  0.  ]\n",
      " [ 3.77  0.    0.    3.77  5.66  0.    0.   11.32  0.   75.47]]\n",
      "\n",
      "----------------------\n",
      "SVM MNIST\n"
     ]
    },
    {
     "data": {
      "image/png": "[encoded data removed]",
      "text/plain": [
       "<Figure size 288x288 with 1 Axes>"
      ]
     },
     "metadata": {
      "needs_background": "light"
     },
     "output_type": "display_data"
    },
    {
     "name": "stdout",
     "output_type": "stream",
     "text": [
      "[[91.49  0.    0.    2.13  0.    4.26  2.13  0.    0.    0.  ]\n",
      " [ 0.   96.83  0.    0.    0.    0.    1.59  0.    1.59  0.  ]\n",
      " [ 3.92  1.96 90.2   1.96  0.    0.    0.    0.    1.96  0.  ]\n",
      " [ 0.    2.08  6.25 77.08  0.    6.25  2.08  0.    4.17  2.08]\n",
      " [ 0.    2.27  2.27  0.   90.91  0.    0.    0.    0.    4.55]\n",
      " [ 0.    0.    0.    9.52  0.   88.1   0.    0.    0.    2.38]\n",
      " [ 0.    1.85  7.41  0.    1.85  0.   88.89  0.    0.    0.  ]\n",
      " [ 0.    3.23  3.23  0.    1.61  0.    0.   83.87  1.61  6.45]\n",
      " [ 0.    0.    0.    5.56  5.56  0.    2.78  0.   86.11  0.  ]\n",
      " [ 5.66  0.    0.    3.77  3.77  0.    0.    1.89  0.   84.91]]\n"
     ]
    }
   ],
   "source": [
    "####################################\n",
    "#   Plot the maximum acc of each   #\n",
    "#    model, the accuracy per digit #\n",
    "#    and a print out of how digits #\n",
    "#    were classified.              #\n",
    "####################################\n",
    "Xtrd,ytrd,Xted,yted=load_dataset('Digits')\n",
    "Xtrm,ytrm,Xtem,ytem=load_dataset('MNIST')\n",
    "\n",
    "max_ld=find_max(ld_journal)\n",
    "acc_ld=ld_journal[max_ld][0]\n",
    "\n",
    "max_lm=find_max(lm_journal)\n",
    "acc_lm=lm_journal[max_lm][0]\n",
    "\n",
    "max_sd=find_max(sd_journal)\n",
    "acc_sd=sd_journal[max_sd][0]\n",
    "\n",
    "max_sm=find_max(sm_journal)\n",
    "acc_sm=sm_journal[max_sm][0]\n",
    "\n",
    "print('Maximum accuracy for each model:')\n",
    "print('max_log dig - trial %d:  %.2f'%(max_ld,acc_ld))\n",
    "print('max_svm dig - trial %d:  %.2f'%(max_sd,acc_sd))\n",
    "print('max_log mni - trial %d:  %.2f'%(max_lm,acc_lm))\n",
    "print('max_svm mni - trial %d:  %.2f'%(max_sm,acc_sm))\n",
    "print('')\n",
    "\n",
    "tal_d=tally(yted,ld_journal[max_ld][4],sd_journal[max_sd][4])\n",
    "tal_m=tally(ytem,lm_journal[max_lm][4],sm_journal[max_sm][4])\n",
    "\n",
    "print('Accuracy per digit:')\n",
    "print('mod: ld       sd      lm      sm')\n",
    "print('ep:  %d       %d      %d     %d'%(ld_journal[max_ld][1],sd_journal[max_sd][1],lm_journal[max_lm][1],sm_journal[max_sm][1]))\n",
    "print('lr:  %.2f     %.2f    %.2f   %.2f'%(ld_journal[max_ld][2],sd_journal[max_sd][2],lm_journal[max_lm][2],sm_journal[max_sm][2]))\n",
    "print('rp:           %.2f           %.2f'%(sd_journal[max_sd][3],sm_journal[max_sm][3]))\n",
    "print('dig:')\n",
    "for index in range(len(tal_d[0])):\n",
    "    print(\"%d:   %.2f   %.2f   %.2f   %.2f\"%(index,tal_d[0][index],tal_d[1][index],tal_m[0][index],tal_m[1][index]))\n",
    "\n",
    "np.set_printoptions(precision=2)\n",
    "plt.gray()\n",
    "print('\\n')\n",
    "print('Percent of row_num classified as col_num')\n",
    "print('No Diagonal for Images -- Correctly classified % set to zero')\n",
    "print('----------------------')\n",
    "print('classification: row  by column')\n",
    "print('classification: row=Label by col=Prediction')\n",
    "print('classification: true by classified')\n",
    "\n",
    "print('\\n----------------------')\n",
    "print('LOGISTIC DIGITS')\n",
    "ld_matrix_nd=tally_matrix_no_diag(yted,ld_journal[max_ld][4])\n",
    "ld_matrix=tally_matrix(yted,ld_journal[max_ld][4])\n",
    "plt.matshow(ld_matrix_nd)\n",
    "plt.show()\n",
    "print(ld_matrix)\n",
    "\n",
    "print('\\n----------------------')\n",
    "print('SVM DIGITS')\n",
    "sd_matrix_nd=tally_matrix_no_diag(yted,sd_journal[max_sd][4])\n",
    "sd_matrix=tally_matrix(yted,sd_journal[max_sd][4])\n",
    "plt.matshow(sd_matrix_nd)\n",
    "plt.show()\n",
    "print(sd_matrix)\n",
    "\n",
    "print('\\n----------------------')\n",
    "print('LOGISTIC MNIST')\n",
    "lm_matrix_nd=tally_matrix_no_diag(ytem,lm_journal[max_lm][4])\n",
    "lm_matrix=tally_matrix(ytem,lm_journal[max_lm][4])\n",
    "plt.matshow(lm_matrix_nd)\n",
    "plt.show()\n",
    "print(lm_matrix)\n",
    "\n",
    "print('\\n----------------------')\n",
    "print('SVM MNIST')\n",
    "sm_matrix_nd=tally_matrix_no_diag(ytem,sm_journal[max_sm][4])\n",
    "sm_matrix=tally_matrix(ytem,sm_journal[max_sm][4])\n",
    "plt.matshow(sm_matrix_nd)\n",
    "plt.show()\n",
    "print(sm_matrix)"
   ]
  },
  {
   "cell_type": "markdown",
   "metadata": {},
   "source": [
    "## Plotting the support vector machine program test with images\n",
    "\n",
    "To visualize the data, uncomment the model you wish to see tested and use index1 and index2 to set the observation range."
   ]
  },
  {
   "cell_type": "code",
   "execution_count": 21,
   "metadata": {
    "scrolled": false
   },
   "outputs": [
    {
     "name": "stdout",
     "output_type": "stream",
     "text": [
      "Image: 25\n"
     ]
    },
    {
     "data": {
      "text/plain": [
       "<Figure size 432x288 with 0 Axes>"
      ]
     },
     "metadata": {},
     "output_type": "display_data"
    },
    {
     "data": {
      "image/png": "[encoded data removed]",
      "text/plain": [
       "<Figure size 288x288 with 1 Axes>"
      ]
     },
     "metadata": {
      "needs_background": "light"
     },
     "output_type": "display_data"
    },
    {
     "name": "stdout",
     "output_type": "stream",
     "text": [
      "Label: 6\n",
      "Prediction: 6\n",
      "\n",
      "Image: 26\n"
     ]
    },
    {
     "data": {
      "text/plain": [
       "<Figure size 432x288 with 0 Axes>"
      ]
     },
     "metadata": {},
     "output_type": "display_data"
    },
    {
     "data": {
      "image/png": "[encoded data removed]",
      "text/plain": [
       "<Figure size 288x288 with 1 Axes>"
      ]
     },
     "metadata": {
      "needs_background": "light"
     },
     "output_type": "display_data"
    },
    {
     "name": "stdout",
     "output_type": "stream",
     "text": [
      "Label: 1\n",
      "Prediction: 1\n",
      "\n",
      "Image: 27\n"
     ]
    },
    {
     "data": {
      "text/plain": [
       "<Figure size 432x288 with 0 Axes>"
      ]
     },
     "metadata": {},
     "output_type": "display_data"
    },
    {
     "data": {
      "image/png": "[encoded data removed]",
      "text/plain": [
       "<Figure size 288x288 with 1 Axes>"
      ]
     },
     "metadata": {
      "needs_background": "light"
     },
     "output_type": "display_data"
    },
    {
     "name": "stdout",
     "output_type": "stream",
     "text": [
      "Label: 7\n",
      "Prediction: 7\n",
      "\n",
      "Image: 28\n"
     ]
    },
    {
     "data": {
      "text/plain": [
       "<Figure size 432x288 with 0 Axes>"
      ]
     },
     "metadata": {},
     "output_type": "display_data"
    },
    {
     "data": {
      "image/png": "[encoded data removed]",
      "text/plain": [
       "<Figure size 288x288 with 1 Axes>"
      ]
     },
     "metadata": {
      "needs_background": "light"
     },
     "output_type": "display_data"
    },
    {
     "name": "stdout",
     "output_type": "stream",
     "text": [
      "Label: 3\n",
      "Prediction: 3\n",
      "\n",
      "Image: 29\n"
     ]
    },
    {
     "data": {
      "text/plain": [
       "<Figure size 432x288 with 0 Axes>"
      ]
     },
     "metadata": {},
     "output_type": "display_data"
    },
    {
     "data": {
      "image/png": "[encoded data removed]",
      "text/plain": [
       "<Figure size 288x288 with 1 Axes>"
      ]
     },
     "metadata": {
      "needs_background": "light"
     },
     "output_type": "display_data"
    },
    {
     "name": "stdout",
     "output_type": "stream",
     "text": [
      "Label: 0\n",
      "Prediction: 0\n",
      "\n",
      "Image: 30\n"
     ]
    },
    {
     "data": {
      "text/plain": [
       "<Figure size 432x288 with 0 Axes>"
      ]
     },
     "metadata": {},
     "output_type": "display_data"
    },
    {
     "data": {
      "image/png": "[encoded data removed]",
      "text/plain": [
       "<Figure size 288x288 with 1 Axes>"
      ]
     },
     "metadata": {
      "needs_background": "light"
     },
     "output_type": "display_data"
    },
    {
     "name": "stdout",
     "output_type": "stream",
     "text": [
      "Label: 2\n",
      "Prediction: 2\n",
      "\n",
      "Image: 31\n"
     ]
    },
    {
     "data": {
      "text/plain": [
       "<Figure size 432x288 with 0 Axes>"
      ]
     },
     "metadata": {},
     "output_type": "display_data"
    },
    {
     "data": {
      "image/png": "[encoded data removed]",
      "text/plain": [
       "<Figure size 288x288 with 1 Axes>"
      ]
     },
     "metadata": {
      "needs_background": "light"
     },
     "output_type": "display_data"
    },
    {
     "name": "stdout",
     "output_type": "stream",
     "text": [
      "Label: 2\n",
      "Prediction: 2\n",
      "\n",
      "Image: 32\n"
     ]
    },
    {
     "data": {
      "text/plain": [
       "<Figure size 432x288 with 0 Axes>"
      ]
     },
     "metadata": {},
     "output_type": "display_data"
    },
    {
     "data": {
      "image/png": "[encoded data removed]",
      "text/plain": [
       "<Figure size 288x288 with 1 Axes>"
      ]
     },
     "metadata": {
      "needs_background": "light"
     },
     "output_type": "display_data"
    },
    {
     "name": "stdout",
     "output_type": "stream",
     "text": [
      "Label: 5\n",
      "Prediction: 5\n",
      "\n",
      "Image: 33\n"
     ]
    },
    {
     "data": {
      "text/plain": [
       "<Figure size 432x288 with 0 Axes>"
      ]
     },
     "metadata": {},
     "output_type": "display_data"
    },
    {
     "data": {
      "image/png": "[encoded data removed]",
      "text/plain": [
       "<Figure size 288x288 with 1 Axes>"
      ]
     },
     "metadata": {
      "needs_background": "light"
     },
     "output_type": "display_data"
    },
    {
     "name": "stdout",
     "output_type": "stream",
     "text": [
      "Label: 2\n",
      "Prediction: 2\n",
      "\n",
      "Image: 34\n"
     ]
    },
    {
     "data": {
      "text/plain": [
       "<Figure size 432x288 with 0 Axes>"
      ]
     },
     "metadata": {},
     "output_type": "display_data"
    },
    {
     "data": {
      "image/png": "[encoded data removed]",
      "text/plain": [
       "<Figure size 288x288 with 1 Axes>"
      ]
     },
     "metadata": {
      "needs_background": "light"
     },
     "output_type": "display_data"
    },
    {
     "name": "stdout",
     "output_type": "stream",
     "text": [
      "Label: 5\n",
      "Prediction: 5\n",
      "\n"
     ]
    }
   ],
   "source": [
    "#Plot from index1 to index2\n",
    "index1=25\n",
    "index2=35\n",
    "\n",
    "Xtrnd,Xtend=normalize_features(Xtrd,Xted)\n",
    "Xtrnd=add_one_column(Xtrnd)\n",
    "Xtend=add_one_column(Xtend)\n",
    "Xtrnm,Xtenm=normalize_features(Xtrm,Xtem)\n",
    "Xtrnm=add_one_column(Xtrnm)\n",
    "Xtenm=add_one_column(Xtenm)\n",
    "\n",
    "plot_test(index1,index2,ld_journal[max_ld][5],Xted,Xtend,yted)\n",
    "#plot_test(index1,index2,sd_journal[max_ld][5],Xted,Xtend,yted)\n",
    "#plot_test(index1,index2,lm_journal[max_lm][5],Xtem,Xtenm,ytem)\n",
    "#plot_test(index1,index2,sm_journal[max_sm][5],Xtem,Xtenm,ytem)"
   ]
  },
  {
   "cell_type": "code",
   "execution_count": null,
   "metadata": {},
   "outputs": [],
   "source": []
  }
 ],
 "metadata": {
  "kernelspec": {
   "display_name": "Python 3",
   "language": "python",
   "name": "python3"
  },
  "language_info": {
   "codemirror_mode": {
    "name": "ipython",
    "version": 3
   },
   "file_extension": ".py",
   "mimetype": "text/x-python",
   "name": "python",
   "nbconvert_exporter": "python",
   "pygments_lexer": "ipython3",
   "version": "3.7.0"
  }
 },
 "nbformat": 4,
 "nbformat_minor": 2
}
