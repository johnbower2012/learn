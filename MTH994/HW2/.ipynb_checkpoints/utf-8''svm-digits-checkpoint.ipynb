{
 "cells": [
  {
   "cell_type": "markdown",
   "metadata": {},
   "source": [
    "# Identify Handwritten Digits"
   ]
  },
  {
   "cell_type": "markdown",
   "metadata": {},
   "source": [
    "## Import the data"
   ]
  },
  {
   "cell_type": "code",
   "execution_count": 20,
   "metadata": {},
   "outputs": [],
   "source": [
    "import pandas as pd\n",
    "import numpy as np\n",
    "\n",
    "def read_dataset(feature_file, label_file):\n",
    "    '''Read data set in *.csv format to dataframe in Pandas'''\n",
    "    df_X = pd.read_csv(feature_file)\n",
    "    df_Y = pd.read_csv(label_file)\n",
    "    X = df_X.values #convert values in dataframe to np array\n",
    "    y = df_Y.values\n",
    "    return X,y"
   ]
  },
  {
   "cell_type": "markdown",
   "metadata": {},
   "source": [
    "## Normalization and label conversion"
   ]
  },
  {
   "cell_type": "code",
   "execution_count": 21,
   "metadata": {},
   "outputs": [],
   "source": [
    "def normalize_features(X_train,X_test):\n",
    "    X_train_norm = np.zeros(np.shape(X_train))\n",
    "    X_test_norm = np.zeros(np.shape(X_test))\n",
    "    \n",
    "    count = np.size(X_train[0])\n",
    "    mean = np.zeros(count)\n",
    "    std = np.zeros(count)\n",
    "    \n",
    "    for i in range(count):\n",
    "        mean[i] = np.mean(X_train[:,i])\n",
    "        std[i] = np.std(X_train[:,i])\n",
    "        if(std[i]!=0):\n",
    "            X_train_norm[:,i] = (X_train[:,i] - mean[i])/std[i]\n",
    "            X_test_norm[:,i] = (X_test[:,i] - mean[i])/std[i]\n",
    "        else:\n",
    "            X_train_norm[:,i] = (X_train[:,i] - mean[i])\n",
    "            X_test_norm[:,i] = (X_test[:,i] - mean[i])\n",
    "    \n",
    "    return X_train_norm, X_test_norm\n",
    "\n",
    "def one_hot_encoder(y_train,y_test):\n",
    "    #convert label to a vector under one-hot-code fashion\n",
    "    ohe_max = np.max(y_train)\n",
    "    ohe_min = np.min(y_train)\n",
    "    y_train_ohe = np.zeros((y_train.size,ohe_max-ohe_min+1))\n",
    "    y_test_ohe = np.zeros((y_test.size,ohe_max-ohe_min+1))\n",
    "    for i in range(np.size(y_train)):\n",
    "        index = y_train[i]\n",
    "        y_train_ohe[i][int(index-ohe_min)] = 1\n",
    "\n",
    "    for i in range(np.size(y_test)):\n",
    "        index = y_test[i]\n",
    "        y_test_ohe[i][int(index-ohe_min)] = 1\n",
    "    return y_train_ohe, y_test_ohe"
   ]
  },
  {
   "cell_type": "code",
   "execution_count": 22,
   "metadata": {},
   "outputs": [
    {
     "name": "stdout",
     "output_type": "stream",
     "text": [
      "y_train_ohe shape: (1347, 10)\n",
      "y_test_ohe shape: (450, 10)\n"
     ]
    }
   ],
   "source": [
    "X_train_norm, X_test_norm = normalize_features(X_train,X_test)\n",
    "y_train_ohe, y_test_ohe = one_hot_encoder(y_train,y_test)\n",
    "\n",
    "print('y_train_ohe shape:',y_train_ohe.shape)\n",
    "print('y_test_ohe shape:',y_test_ohe.shape)"
   ]
  },
  {
   "cell_type": "markdown",
   "metadata": {},
   "source": [
    "## Define learning functions"
   ]
  },
  {
   "cell_type": "markdown",
   "metadata": {},
   "source": [
    "### Function calls for predictor"
   ]
  },
  {
   "cell_type": "code",
   "execution_count": 23,
   "metadata": {},
   "outputs": [],
   "source": [
    "def sigmoid(X,c):\n",
    "    return 1.0/(1.0 + np.exp(-X.dot(c)))\n",
    "\n",
    "def dot(X,c):\n",
    "    return X.dot(c)"
   ]
  },
  {
   "cell_type": "markdown",
   "metadata": {},
   "source": [
    "### Kernels"
   ]
  },
  {
   "cell_type": "code",
   "execution_count": 24,
   "metadata": {},
   "outputs": [],
   "source": [
    "def linear_kernel(xi,X=None):\n",
    "    return xi"
   ]
  },
  {
   "cell_type": "markdown",
   "metadata": {},
   "source": [
    "### Loss Functions"
   ]
  },
  {
   "cell_type": "code",
   "execution_count": 25,
   "metadata": {},
   "outputs": [],
   "source": [
    "def logistic_loss(y,yhat):\n",
    "    return (-y.T.dot(np.log(yhat)) - (1.0 - y).T.dot(np.log(1.0 - yhat)))/float(len(y))\n",
    "\n",
    "def logistic_gradient(y,X,yhat):\n",
    "    return X.T.dot(yhat-y)/float(len(y))\n",
    "\n",
    "def svm_loss(y,X,c,reg_param,kernel,M=None):\n",
    "    loss=0\n",
    "    kern = kernel(X,M)\n",
    "    hinge = 1 - y*c.T.dot(kern.T).T\n",
    "    for elem in hinge:\n",
    "        if(elem>0):\n",
    "            loss += elem\n",
    "    loss = loss*reg_param\n",
    "    loss += np.sqrt(sum(c*c))\n",
    "    return loss\n",
    "\n",
    "def svm_gradient(y,X,c,reg_param,kernel,M=None):\n",
    "    grad = np.zeros(np.shape(c))\n",
    "    kern = kernel(X,M)\n",
    "    hinge = 1 - y*c.T.dot(kern.T).T\n",
    "    for i in range(hinge.size):\n",
    "        if(hinge[i]>0):\n",
    "            grad += (-y[i]*kern[i,:].T).reshape(-1,1)\n",
    "    grad = grad*reg_param\n",
    "    if(c.all()!=0):\n",
    "        grad += c/np.sqrt(sum(c*c))\n",
    "    return grad"
   ]
  },
  {
   "cell_type": "markdown",
   "metadata": {},
   "source": [
    "### Prediction and Testing Functions"
   ]
  },
  {
   "cell_type": "code",
   "execution_count": 26,
   "metadata": {},
   "outputs": [],
   "source": [
    "def gradient_descent(X,y,c,cpredictor,closs,epochs,learning_rate,reg_param):\n",
    "    y = y.reshape(-1,1) #convert y to a matrix nx1\n",
    "    loss_history = [0]*epochs \n",
    "    for epoch in range(epochs):\n",
    "        yhat = cpredictor.predictor(X,c)\n",
    "        loss_history[epoch] = closs.loss(y,X,c,reg_param,cpredictor.kernel,yhat).ravel()\n",
    "        grad = closs.gradient(y,X,c,reg_param,cpredictor.kernel,yhat)\n",
    "        #updating coeffs upon the gradient change\n",
    "        c = c - learning_rate*grad\n",
    "    return c, loss_history\n",
    "\n",
    "def binary_train(X,y,cpredictor,closs,epochs,learning_rate,reg_param):\n",
    "    #Training our model based on the training data\n",
    "    #    Input:   X_train: input features\n",
    "    #             y_train: binary labels\n",
    "    #    Return:  coeffs of the logistic model\n",
    "        \n",
    "    coeffs_0 = np.zeros((X.shape[1],1))\n",
    "    coeffs_grad, history_loss = gradient_descent(X,y,coeffs_0,cpredictor,closs,epochs,learning_rate,reg_param)\n",
    "    return coeffs_grad, history_loss\n",
    "\n",
    "def OVA_train(X,y,cpredictor,closs,epochs,learning_rate,reg_param): # y_train: one_hot_encoder labels, 10 columns\n",
    "    #Loop over the label columns such that\n",
    "    #    0 0 1                   0th: 0   1st:  0    2nd:  1\n",
    "    #    1 0 0  -- trains as -->      1         0          0\n",
    "    #    1 0 0                        1         0          0\n",
    "    #\n",
    "    weights = []\n",
    "    history = []\n",
    "    for i in range(y.shape[1]): #10 columns\n",
    "        y_train_one_column = y[:,i] #pick ith column\n",
    "        weights_one_column, loss_history = binary_train(X, y_train_one_column,cpredictor,closs,epochs,learning_rate,reg_param) #run training\n",
    "        weights.append(weights_one_column)\n",
    "        history.append(loss_history)\n",
    "    return weights, history\n",
    "\n",
    "def prediction(weights_list,X,cpredictor):\n",
    "    i = 0\n",
    "    for weights in weights_list:\n",
    "        decision_one_column = cpredictor.predictor(X,weights)\n",
    "        #probability of one column\n",
    "        if i==0:\n",
    "            decision_matrix = decision_one_column\n",
    "        else:\n",
    "            #combine all decision columns to form a matrix\n",
    "            decision_matrix = np.concatenate((decision_matrix, decision_one_column),axis=1)\n",
    "        i+=1\n",
    "\n",
    "    labels = [0, 1, 2, 3, 4, 5, 6, 7, 8, 9]\n",
    "    num_test_samples = X.shape[0]\n",
    "    #find which index gives us the highest probability\n",
    "    ypred = np.zeros(num_test_samples, dtype=int)\n",
    "    for i in range(num_test_samples):\n",
    "        ypred[i] = labels[np.argmax(decision_matrix[i,:])]\n",
    "    return ypred\n",
    "\n",
    "def accuracy(weights_list,X,y,cpredictor):\n",
    "    acc=0\n",
    "    for index in range(len(y_test)):\n",
    "        #Use the model to predict thenumber in the image X_test[20]\n",
    "        ypred = prediction(weights_list, X[index:index+1],cpredictor)\n",
    "        if(ypred==y[index]):\n",
    "            acc+=1\n",
    "    return 100*acc/float(len(y_test))"
   ]
  },
  {
   "cell_type": "markdown",
   "metadata": {},
   "source": [
    "### Prediction and Testing Classes"
   ]
  },
  {
   "cell_type": "code",
   "execution_count": 27,
   "metadata": {},
   "outputs": [],
   "source": [
    "class CPredictor:\n",
    "    def __init__(self,Function,Kernel):\n",
    "        self.function = Function\n",
    "        self.kernel = Kernel\n",
    "\n",
    "    def predictor(self,X,c,M=None):\n",
    "        return self.function(self.kernel(X,M),c)\n",
    "\n",
    "\n",
    "class CLoss:\n",
    "    def __init__(self,Name):\n",
    "        self.name = 'CLoss'\n",
    "        self.Name = Name\n",
    "        if(self.Name=='logistic'):\n",
    "            self.Loss = logistic_loss\n",
    "            self.Optimize = logistic_gradient\n",
    "        elif(self.Name=='support vector machine'):\n",
    "            self.Loss = svm_loss\n",
    "            self.Optimize = svm_gradient\n",
    "        else:\n",
    "            print('No valid option selected for',self.name,':',self.Name)\n",
    "    \n",
    "    def redefine(self,Name):\n",
    "        self.Name = Name\n",
    "        if(self.Name=='logistic'):\n",
    "            self.Loss = logistic_loss\n",
    "            self.Optimize = logistic_gradient\n",
    "        if(self.Name=='support vector machine'):\n",
    "            self.Loss = svm_loss\n",
    "            self.Optimize = svm_gradient\n",
    "    \n",
    "    def loss(self,y,X,c,reg_param,kernel,yhat,M=None):\n",
    "        if self.Name=='logistic':\n",
    "            return self.Loss(y,yhat)\n",
    "        elif self.Name=='support vector machine':\n",
    "            return self.Loss(y,X,c,reg_param,kernel,M)\n",
    "        \n",
    "    def gradient(self,y,X,c,reg_param,kernel,yhat,M=None):\n",
    "        if(self.Name=='logistic'):\n",
    "            return self.Optimize(y,X,yhat)\n",
    "        elif(self.Name=='support vector machine'):\n",
    "            return self.Optimize(y,X,c,reg_param,kernel,M)\n",
    "\n",
    "\n",
    "class CTrain:\n",
    "    def __init__(self,Name,Cpredictor,Closs):\n",
    "        self.name = 'CTrain'\n",
    "        self.Name = Name\n",
    "        self.Predictor = Cpredictor\n",
    "        self.Loss = Closs\n",
    "        if(self.Name=='one over all'):\n",
    "            self.Train = OVA_train\n",
    "        else:\n",
    "            print('No valid option selected for',self.name,':',self.Name)\n",
    "\n",
    "    def set_predictor(self,Cpredictor):\n",
    "        self.Predictor = Cpredictor\n",
    "        \n",
    "    def set_loss(self,Closs):\n",
    "        self.Loss = Closs\n",
    "\n",
    "    def redefine(self,Name): \n",
    "        if(Name=='one over all'):\n",
    "            self.Name = Name\n",
    "            self.Train = OVA_train\n",
    "        else:\n",
    "            print('No valid option selected for',self.name,':',self.Name)\n",
    "\n",
    "    def train(self,X,y,epochs,learning_rate,reg_param):\n",
    "        if(self.Name=='one over all'):\n",
    "            return self.Train(X,y,self.Predictor,self.Loss,epochs,learning_rate,reg_param)\n",
    "        else:\n",
    "            print('No valid option selected for',self.name,':',self.Name)\n",
    "\n",
    "\n",
    "class CLearn:\n",
    "    def __init__(self,Ctrain,X,y,Epochs,Learning_rate,Reg_param):\n",
    "        self.ctrain = Ctrain\n",
    "        self.epochs = Epochs\n",
    "        self.learning_rate = Learning_rate\n",
    "        self.reg_param = Reg_param\n",
    "        self.weights_list, self.history = self.ctrain.train(X,y,self.epochs,self.learning_rate,self.reg_param)\n",
    "    \n",
    "    def set_param(self,Epochs,Learning_rate,Reg_param):\n",
    "        self.epochs = Epochs\n",
    "        self.learning_rate = Learning_rate\n",
    "        self.reg_param = Reg_param\n",
    "        \n",
    "    def set_train(self,Ctrain):\n",
    "        self.ctrain = Ctrain\n",
    "    \n",
    "    def train(self,X,y):\n",
    "        self.weights_list, self.history = self.ctrain.train(X,y,self.epochs,self.learning_rate,self.reg_param)\n",
    "        \n",
    "    def predict(self,X):\n",
    "        return prediction(self.weights_list,X,self.ctrain.Predictor)\n",
    "\n",
    "    def accuracy(self,X,y):\n",
    "        return accuracy(self.weights_list,X,y,self.ctrain.Predictor)"
   ]
  },
  {
   "cell_type": "markdown",
   "metadata": {},
   "source": [
    "### Plotting"
   ]
  },
  {
   "cell_type": "code",
   "execution_count": 40,
   "metadata": {},
   "outputs": [],
   "source": [
    "def plot_loss(loss):\n",
    "    plt.xlabel('# of epochs')\n",
    "    plt.ylabel('Loss')\n",
    "    plt.plot(loss)\n",
    "    plt.show()\n",
    "    \n",
    "def plot_history(history):\n",
    "    plt.ylabel('Loss')\n",
    "    plt.xlabel('# of epochs')\n",
    "    i=0\n",
    "    for elem in history:\n",
    "        print(i)\n",
    "        i+=1\n",
    "        plt.plot(elem)\n",
    "        plt.show()"
   ]
  },
  {
   "cell_type": "markdown",
   "metadata": {},
   "source": [
    "## Load and Normalize Data"
   ]
  },
  {
   "cell_type": "code",
   "execution_count": 30,
   "metadata": {},
   "outputs": [],
   "source": [
    "folder='data/' #data folder name\n",
    "file_id='MNIST' #data file_id\n",
    "\n",
    "#specify X.vs.Y and Train.vs.Test\n",
    "xtr_name = folder+file_id+'_X_train.csv'\n",
    "ytr_name = folder+file_id+'_y_train.csv'\n",
    "xte_name = folder+file_id+'_X_test.csv'\n",
    "yte_name = folder+file_id+'_y_test.csv'\n",
    "\n",
    "X_train,y_train = read_dataset(xtr_name,ytr_name)\n",
    "X_test,y_test = read_dataset(xte_name,yte_name)\n",
    "\n",
    "X_train_norm, X_test_norm = normalize_features(X_train,X_test)\n",
    "y_train_ohe, y_test_ohe = one_hot_encoder(y_train,y_test)"
   ]
  },
  {
   "cell_type": "markdown",
   "metadata": {},
   "source": [
    "## Run Training"
   ]
  },
  {
   "cell_type": "markdown",
   "metadata": {},
   "source": [
    "### Logistic Regression"
   ]
  },
  {
   "cell_type": "code",
   "execution_count": 79,
   "metadata": {},
   "outputs": [
    {
     "name": "stdout",
     "output_type": "stream",
     "text": [
      "Running logistic 1000 0.0005\n",
      "  accuracy:  84.0 %\n"
     ]
    }
   ],
   "source": [
    "#Set training parameters\n",
    "epochs=1000\n",
    "learning_rate=0.0005\n",
    "reg_param=1.0\n",
    "\n",
    "#logistic regression\n",
    "cpredictor = CPredictor(sigmoid,linear_kernel)\n",
    "closs = CLoss('logistic')\n",
    "ctrain = CTrain('one over all',cpredictor,closs)\n",
    "log_learn = CLearn(ctrain,X_train_norm,y_train_ohe,epochs,learning_rate,reg_param)\n",
    "\n",
    "print('Running logistic',epochs,learning_rate)\n",
    "acc = log_learn.accuracy(X_test_norm, y_test) \n",
    "print('  accuracy: ',acc,'%')"
   ]
  },
  {
   "cell_type": "code",
   "execution_count": 82,
   "metadata": {
    "scrolled": false
   },
   "outputs": [],
   "source": [
    "#plot_history(log_learn.history)"
   ]
  },
  {
   "cell_type": "markdown",
   "metadata": {},
   "source": [
    "### Support Vector Machine"
   ]
  },
  {
   "cell_type": "code",
   "execution_count": 80,
   "metadata": {},
   "outputs": [
    {
     "name": "stdout",
     "output_type": "stream",
     "text": [
      "Running svm 100 5e-05 0.05\n",
      "  accuracy:  88.0 %\n"
     ]
    }
   ],
   "source": [
    "#Set training parameters\n",
    "epochs=100\n",
    "learning_rate=0.00005\n",
    "reg_param=0.05\n",
    "\n",
    "#support vector machine\n",
    "cpredictor = CPredictor(sigmoid,linear_kernel)\n",
    "closs = CLoss('support vector machine')\n",
    "ctrain = CTrain('one over all',cpredictor,closs)\n",
    "svm_learn = CLearn(ctrain,X_train_norm,y_train_ohe,epochs,learning_rate,reg_param)\n",
    "\n",
    "acc = svm_learn.accuracy(X_test_norm, y_test) \n",
    "print('Running svm',epochs,learning_rate,reg_param) \n",
    "print('  accuracy: ',acc,'%')"
   ]
  },
  {
   "cell_type": "code",
   "execution_count": 84,
   "metadata": {
    "scrolled": false
   },
   "outputs": [],
   "source": [
    "#plot_history(svm_learn.history)"
   ]
  },
  {
   "cell_type": "markdown",
   "metadata": {},
   "source": [
    "## One versus All (OVA) Method\n",
    "\n",
    "If you have three classes, L1, L2, L3, split it into two groups: L1,L2=L, with L3=L3. Then you have L and L3. Classify. Repeat for each of L1, L2, L3 as the individual class. "
   ]
  },
  {
   "cell_type": "markdown",
   "metadata": {},
   "source": [
    "## One-hot-encoder\n",
    "\n",
    "We merely convert a label 0,1,2,... to a binary vector to identify the label. For example,\n",
    "\n",
    "Label 0 -> [1 0 0 ... 0]\n",
    "\n",
    "Label 1 -> [0 1 0 ... 0]\n",
    "\n",
    "etc"
   ]
  },
  {
   "cell_type": "markdown",
   "metadata": {},
   "source": [
    "## Gradient\n",
    "\n",
    "$c_i = c_i - \\frac{\\delta L}{\\delta c_i}$\n",
    "\n",
    "In Logistic Loss:\n",
    "\n",
    "$\\frac{\\delta L}{\\delta c_i} = (P_c(x) - y_i)X_i$\n",
    "\n",
    "In Support Vector Machine:\n",
    "\n",
    "$\\frac{\\delta L}{\\delta c_i} = \\frac{c_i}{\\sqrt{\\sum_jc_j^2}} + \\lambda\\sum_m\\frac{\\delta}{\\delta c_i}max(0,1-y_m c^T K(X_m))$"
   ]
  },
  {
   "cell_type": "markdown",
   "metadata": {},
   "source": [
    "## Plotting function"
   ]
  },
  {
   "cell_type": "code",
   "execution_count": 85,
   "metadata": {
    "scrolled": false
   },
   "outputs": [
    {
     "name": "stdout",
     "output_type": "stream",
     "text": [
      "Image: 51\n"
     ]
    },
    {
     "data": {
      "text/plain": [
       "<matplotlib.figure.Figure at 0x7f9fe492ee10>"
      ]
     },
     "metadata": {},
     "output_type": "display_data"
    },
    {
     "data": {
      "image/png": "[encoded data removed]",
      "text/plain": [
       "<matplotlib.figure.Figure at 0x7f9fe492e390>"
      ]
     },
     "metadata": {},
     "output_type": "display_data"
    },
    {
     "name": "stdout",
     "output_type": "stream",
     "text": [
      "Label: 6\n",
      "Prediction: 6\n",
      "\n",
      "Image: 52\n"
     ]
    },
    {
     "data": {
      "text/plain": [
       "<matplotlib.figure.Figure at 0x7f9fe354b6d8>"
      ]
     },
     "metadata": {},
     "output_type": "display_data"
    },
    {
     "data": {
      "image/png": "[encoded data removed]",
      "text/plain": [
       "<matplotlib.figure.Figure at 0x7f9fe3c6af98>"
      ]
     },
     "metadata": {},
     "output_type": "display_data"
    },
    {
     "name": "stdout",
     "output_type": "stream",
     "text": [
      "Label: 7\n",
      "Prediction: 7\n",
      "\n",
      "Image: 53\n"
     ]
    },
    {
     "data": {
      "text/plain": [
       "<matplotlib.figure.Figure at 0x7f9fe3dcc080>"
      ]
     },
     "metadata": {},
     "output_type": "display_data"
    },
    {
     "data": {
      "image/png": "[encoded data removed]",
      "text/plain": [
       "<matplotlib.figure.Figure at 0x7f9fe308ac88>"
      ]
     },
     "metadata": {},
     "output_type": "display_data"
    },
    {
     "name": "stdout",
     "output_type": "stream",
     "text": [
      "Label: 1\n",
      "Prediction: 1\n",
      "\n",
      "Image: 54\n"
     ]
    },
    {
     "data": {
      "text/plain": [
       "<matplotlib.figure.Figure at 0x7f9fe4ce31d0>"
      ]
     },
     "metadata": {},
     "output_type": "display_data"
    },
    {
     "data": {
      "image/png": "[encoded data removed]",
      "text/plain": [
       "<matplotlib.figure.Figure at 0x7f9fe354bcc0>"
      ]
     },
     "metadata": {},
     "output_type": "display_data"
    },
    {
     "name": "stdout",
     "output_type": "stream",
     "text": [
      "Label: 2\n",
      "Prediction: 2\n",
      "\n",
      "Image: 55\n"
     ]
    },
    {
     "data": {
      "text/plain": [
       "<matplotlib.figure.Figure at 0x7f9fe48ecba8>"
      ]
     },
     "metadata": {},
     "output_type": "display_data"
    },
    {
     "data": {
      "image/png": "[encoded data removed]",
      "text/plain": [
       "<matplotlib.figure.Figure at 0x7f9fe4977390>"
      ]
     },
     "metadata": {},
     "output_type": "display_data"
    },
    {
     "name": "stdout",
     "output_type": "stream",
     "text": [
      "Label: 2\n",
      "Prediction: 2\n",
      "\n",
      "Image: 56\n"
     ]
    },
    {
     "data": {
      "text/plain": [
       "<matplotlib.figure.Figure at 0x7f9fe3c57198>"
      ]
     },
     "metadata": {},
     "output_type": "display_data"
    },
    {
     "data": {
      "image/png": "[encoded data removed]",
      "text/plain": [
       "<matplotlib.figure.Figure at 0x7f9fe39d0518>"
      ]
     },
     "metadata": {},
     "output_type": "display_data"
    },
    {
     "name": "stdout",
     "output_type": "stream",
     "text": [
      "Label: 0\n",
      "Prediction: 0\n",
      "\n"
     ]
    }
   ],
   "source": [
    "import matplotlib.pyplot as plt\n",
    "% matplotlib inline\n",
    "\n",
    "def plot_digit(feature_vector):\n",
    "    dim = int(np.sqrt(len(feature_vector)))\n",
    "    plt.gray()\n",
    "    plt.matshow(feature_vector.reshape(dim,dim))\n",
    "    plt.show()\n",
    "\n",
    "def plot_test(index1,index2,learn,X_test,X_test_norm,y_test):\n",
    "    for index in range(index1,index2):\n",
    "        print('Image:',index)\n",
    "        plot_digit(X_test[index])\n",
    "        ypred = learn.predict(X_test_norm[index].reshape(1,-1))\n",
    "        print('Label:', int(y_test[index]))\n",
    "        print('Prediction:',int(ypred))\n",
    "        print('')\n",
    "        \n",
    "plot_test(51,57,clearn,X_test,X_test_norm,y_test)"
   ]
  },
  {
   "cell_type": "code",
   "execution_count": null,
   "metadata": {},
   "outputs": [],
   "source": []
  }
 ],
 "metadata": {
  "kernelspec": {
   "display_name": "Python 3",
   "language": "python",
   "name": "python3"
  },
  "language_info": {
   "codemirror_mode": {
    "name": "ipython",
    "version": 3
   },
   "file_extension": ".py",
   "mimetype": "text/x-python",
   "name": "python",
   "nbconvert_exporter": "python",
   "pygments_lexer": "ipython3",
   "version": "3.7.0"
  }
 },
 "nbformat": 4,
 "nbformat_minor": 2
}
